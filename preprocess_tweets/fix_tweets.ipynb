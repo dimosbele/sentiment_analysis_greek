{
 "cells": [
  {
   "cell_type": "code",
   "execution_count": null,
   "metadata": {},
   "outputs": [],
   "source": [
    "# This is the first step of the tweets preprocessing procedure"
   ]
  },
  {
   "cell_type": "code",
   "execution_count": 1,
   "metadata": {},
   "outputs": [],
   "source": [
    "# import libraries\n",
    "\n",
    "import pandas as pd\n",
    "#https://pypi.org/project/tweet-preprocessor/\n",
    "import preprocessor as preproc\n",
    "from greek_stemmer import GreekStemmer\n",
    "from nltk.tokenize import RegexpTokenizer\n",
    "from nltk.util import ngrams\n",
    "\n",
    "# print non truncated column info in pandas dataframe\n",
    "pd.set_option('display.max_colwidth', -1)\n",
    "pd.set_option('display.max_columns', 500)"
   ]
  },
  {
   "cell_type": "code",
   "execution_count": 2,
   "metadata": {},
   "outputs": [],
   "source": [
    "def delete_tonous(df, column_to_process, processed_column='Text_only'):\n",
    "    \n",
    "    if (processed_column != column_to_process):\n",
    "        df[processed_column] = df[column_to_process]  # create new column\n",
    "\n",
    "    # replace greek hyphend letters\n",
    "    replacements = {processed_column: {'ά': 'α', 'έ': 'ε', 'ή': 'η', 'ί': 'ι', 'ό': 'ο', 'ύ': 'υ', 'ώ': 'ω'}}\n",
    "    df.replace(replacements, regex=True, inplace=True)\n",
    "    \n",
    "    return (df)"
   ]
  },
  {
   "cell_type": "markdown",
   "metadata": {},
   "source": [
    "## Fix the gathered tweets"
   ]
  },
  {
   "cell_type": "markdown",
   "metadata": {},
   "source": [
    "### - Read the tweets"
   ]
  },
  {
   "cell_type": "code",
   "execution_count": 3,
   "metadata": {},
   "outputs": [],
   "source": [
    "# read the file with the gathered tweets\n",
    "df_tweets = pd.read_pickle('data/tweets.pkl')"
   ]
  },
  {
   "cell_type": "code",
   "execution_count": 4,
   "metadata": {},
   "outputs": [
    {
     "data": {
      "text/plain": [
       "(8352, 11)"
      ]
     },
     "execution_count": 4,
     "metadata": {},
     "output_type": "execute_result"
    }
   ],
   "source": [
    "df_tweets.shape"
   ]
  },
  {
   "cell_type": "markdown",
   "metadata": {},
   "source": [
    "### Preprocessing Text"
   ]
  },
  {
   "cell_type": "markdown",
   "metadata": {},
   "source": [
    "<li> Extract only text without hashtags, urls and emojis\n",
    "<li> Remove tonous\n",
    "<li> Convert to uppercase\n",
    "<li> Stemmer\n",
    "<li> Tokenize"
   ]
  },
  {
   "cell_type": "code",
   "execution_count": 6,
   "metadata": {},
   "outputs": [],
   "source": [
    "# Keep only text of each tweet\n",
    "preproc.set_options(preproc.OPT.URL, preproc.OPT.MENTION, preproc.OPT.HASHTAG , \n",
    "        preproc.OPT.EMOJI ,preproc.OPT.SMILEY , preproc.OPT.NUMBER)\n",
    "\n",
    "df_tweets['Text_only'] = df_tweets['text'].apply(lambda text: preproc.clean(text))"
   ]
  },
  {
   "cell_type": "code",
   "execution_count": 7,
   "metadata": {},
   "outputs": [],
   "source": [
    "# convert to lower case\n",
    "df_tweets['Text_only2'] = df_tweets['Text_only'].apply(lambda text: text.lower())"
   ]
  },
  {
   "cell_type": "code",
   "execution_count": 8,
   "metadata": {},
   "outputs": [],
   "source": [
    "# delete tonous\n",
    "df_tweets = delete_tonous(df=df_tweets, column_to_process='Text_only2', processed_column='Text_only3')"
   ]
  },
  {
   "cell_type": "code",
   "execution_count": 9,
   "metadata": {},
   "outputs": [],
   "source": [
    "# convert tweet to uppercase\n",
    "df_tweets['Tweet_upper'] = df_tweets['Text_only3'].apply(lambda text: text.upper())"
   ]
  },
  {
   "cell_type": "code",
   "execution_count": 10,
   "metadata": {},
   "outputs": [],
   "source": [
    "# remove punctuation and tokenize\n",
    "# create a new column with the tokens\n",
    "tokenizer = RegexpTokenizer(r'\\w+')\n",
    "df_tweets['Tokens'] = df_tweets['Tweet_upper'].apply(lambda text: tokenizer.tokenize(text))\n"
   ]
  },
  {
   "cell_type": "code",
   "execution_count": 11,
   "metadata": {},
   "outputs": [],
   "source": [
    "# stemmer\n",
    "stemmer = GreekStemmer()\n",
    "df_tweets['Tokens_stem'] = df_tweets['Tokens'].apply(lambda x: [stemmer.stem(i) for i in x])\n"
   ]
  },
  {
   "cell_type": "code",
   "execution_count": 12,
   "metadata": {},
   "outputs": [
    {
     "name": "stderr",
     "output_type": "stream",
     "text": [
      "/home/infilab/anaconda3/lib/python3.6/site-packages/ipykernel/__main__.py:2: DeprecationWarning: generator 'ngrams' raised StopIteration\n",
      "  from ipykernel import kernelapp as app\n"
     ]
    }
   ],
   "source": [
    "# create a column with bigrams as list of sets\n",
    "df_tweets['Bigrams'] = df_tweets['Tokens'].apply(lambda x: list(ngrams(x, 2)) )\n",
    "# convert list of sets to single list of strings\n",
    "df_tweets['Bigrams2'] = df_tweets['Bigrams'].apply(lambda x: list(i[0]+' '+i[1] for i in x))"
   ]
  },
  {
   "cell_type": "markdown",
   "metadata": {},
   "source": [
    "### Create new attributes"
   ]
  },
  {
   "cell_type": "code",
   "execution_count": 13,
   "metadata": {},
   "outputs": [],
   "source": [
    "# create a column 'N_exclam' for the number of exclamation marks\n",
    "df_tweets['N_exclam'] = df_tweets['Text_only'].apply(lambda x: x.count('!'))"
   ]
  },
  {
   "cell_type": "code",
   "execution_count": 14,
   "metadata": {},
   "outputs": [],
   "source": [
    "# create a column 'N_hash' for the number of hashtags\n",
    "df_tweets['N_hash'] = df_tweets['text'].apply(lambda x: x.count('#'))"
   ]
  },
  {
   "cell_type": "code",
   "execution_count": 15,
   "metadata": {},
   "outputs": [],
   "source": [
    "# create a column 'N_mentions' for the number of mentions\n",
    "df_tweets['N_mentions'] = df_tweets['text'].apply(lambda x: x.count('@'))"
   ]
  },
  {
   "cell_type": "code",
   "execution_count": 16,
   "metadata": {},
   "outputs": [],
   "source": [
    "# create a column 'N_uppers' for the number of capital words\n",
    "def count_caps(x):\n",
    "    n=0\n",
    "    for word in x.split(' '):\n",
    "        n = n + word.isupper()\n",
    "    return n\n",
    "\n",
    "df_tweets['N_uppers'] = df_tweets['text'].apply(lambda x: count_caps(x))"
   ]
  },
  {
   "cell_type": "code",
   "execution_count": 17,
   "metadata": {},
   "outputs": [],
   "source": [
    "# create a column 'has_url' for the existance of url in each tweet\n",
    "df_tweets['has_url'] = df_tweets['text'].apply(lambda x: 1 if 'http' in x\n",
    "                                              else 0)"
   ]
  },
  {
   "cell_type": "code",
   "execution_count": 18,
   "metadata": {},
   "outputs": [],
   "source": [
    "# number of words\n",
    "df_tweets['N_words'] = df_tweets['Tokens'].apply(lambda x: len(x))"
   ]
  },
  {
   "cell_type": "code",
   "execution_count": 20,
   "metadata": {},
   "outputs": [
    {
     "data": {
      "text/plain": [
       "Index(['date', 'favorite_count', 'hashtags', 'id', 'location', 'mentions',\n",
       "       'retweet_count', 'searchParam', 'text', 'user_id', 'user_name',\n",
       "       'Text_only', 'Text_only2', 'Text_only3', 'Tweet_upper', 'Tokens',\n",
       "       'Tokens_stem', 'Bigrams', 'Bigrams2', 'N_exclam', 'N_hash',\n",
       "       'N_mentions', 'N_uppers', 'has_url', 'N_words'],\n",
       "      dtype='object')"
      ]
     },
     "execution_count": 20,
     "metadata": {},
     "output_type": "execute_result"
    }
   ],
   "source": [
    "df_tweets.columns"
   ]
  },
  {
   "cell_type": "code",
   "execution_count": 21,
   "metadata": {},
   "outputs": [],
   "source": [
    "# save the dataset as a pickle file\n",
    "df_tweets.to_pickle('results/tweets_step_1_v1.pkl')"
   ]
  },
  {
   "cell_type": "code",
   "execution_count": null,
   "metadata": {},
   "outputs": [],
   "source": []
  }
 ],
 "metadata": {
  "hide_input": false,
  "kernelspec": {
   "display_name": "Python 3",
   "language": "python",
   "name": "python3"
  },
  "language_info": {
   "codemirror_mode": {
    "name": "ipython",
    "version": 3
   },
   "file_extension": ".py",
   "mimetype": "text/x-python",
   "name": "python",
   "nbconvert_exporter": "python",
   "pygments_lexer": "ipython3",
   "version": "3.6.3"
  }
 },
 "nbformat": 4,
 "nbformat_minor": 2
}
