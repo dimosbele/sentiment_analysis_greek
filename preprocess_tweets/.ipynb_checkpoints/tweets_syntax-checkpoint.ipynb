{
 "cells": [
  {
   "cell_type": "code",
   "execution_count": null,
   "metadata": {},
   "outputs": [],
   "source": [
    "# This is the second step of the tweets preprocessing procedure"
   ]
  },
  {
   "cell_type": "code",
   "execution_count": 1,
   "metadata": {},
   "outputs": [],
   "source": [
    "import pandas as pd\n",
    "import spacy\n",
    "#from spacy.lang.el.examples import sentences \n",
    "#!python -m spacy download el_core_news_md\n",
    "\n",
    "# print non truncated column info in pandas dataframe\n",
    "pd.set_option('display.max_colwidth', -1)\n",
    "pd.set_option('display.max_columns', 500)"
   ]
  },
  {
   "cell_type": "code",
   "execution_count": 2,
   "metadata": {},
   "outputs": [],
   "source": [
    "# read the preprocessed tweets\n",
    "df_tweets = pd.read_pickle('results/tweets_step_1_v1.pkl')"
   ]
  },
  {
   "cell_type": "markdown",
   "metadata": {},
   "source": [
    "### - Count the number of verbs, adjectives & nouns for each tweets"
   ]
  },
  {
   "cell_type": "code",
   "execution_count": 4,
   "metadata": {},
   "outputs": [],
   "source": [
    "nlp = spacy.load('el_core_news_md')\n",
    "#doc = nlp(sentences[0])"
   ]
  },
  {
   "cell_type": "code",
   "execution_count": 7,
   "metadata": {},
   "outputs": [],
   "source": [
    "def find_pos(text):\n",
    "    doc = nlp(text)\n",
    "    verbs = 0\n",
    "    adjs = 0\n",
    "    nouns = 0\n",
    "    for token in doc:\n",
    "        #print(token.text, token.pos_, token.dep_)\n",
    "        if token.pos_=='VERB':\n",
    "            verbs = verbs + 1\n",
    "        elif token.pos_=='ADJ':\n",
    "            adjs = adjs + 1\n",
    "        elif token.pos_=='NOUN':\n",
    "            nouns = nouns + 1\n",
    "    return [verbs, adjs, nouns]"
   ]
  },
  {
   "cell_type": "code",
   "execution_count": 8,
   "metadata": {},
   "outputs": [],
   "source": [
    "# create a column with list --> [N_verbs, N_adjs, N_nouns]\n",
    "df_tweets['N_nouns_verbs_adjectives'] = df_tweets['Text_only'].apply(lambda x: find_pos(x))"
   ]
  },
  {
   "cell_type": "code",
   "execution_count": 9,
   "metadata": {},
   "outputs": [],
   "source": [
    "# split the list into 3 columns\n",
    "df_tweets[['N_verbs', 'N_adjs', 'N_nouns']] = pd.DataFrame(df_tweets.N_nouns_verbs_adjectives.values.tolist(), index= df_tweets.index)"
   ]
  },
  {
   "cell_type": "code",
   "execution_count": 11,
   "metadata": {},
   "outputs": [],
   "source": [
    "# reorder the columns\n",
    "df_tweets_pos = df_tweets[['id', 'N_verbs', 'N_adjs', 'N_nouns']]"
   ]
  },
  {
   "cell_type": "code",
   "execution_count": 12,
   "metadata": {},
   "outputs": [
    {
     "data": {
      "text/html": [
       "<div>\n",
       "<style scoped>\n",
       "    .dataframe tbody tr th:only-of-type {\n",
       "        vertical-align: middle;\n",
       "    }\n",
       "\n",
       "    .dataframe tbody tr th {\n",
       "        vertical-align: top;\n",
       "    }\n",
       "\n",
       "    .dataframe thead th {\n",
       "        text-align: right;\n",
       "    }\n",
       "</style>\n",
       "<table border=\"1\" class=\"dataframe\">\n",
       "  <thead>\n",
       "    <tr style=\"text-align: right;\">\n",
       "      <th></th>\n",
       "      <th>id</th>\n",
       "      <th>N_verbs</th>\n",
       "      <th>N_adjs</th>\n",
       "      <th>N_nouns</th>\n",
       "    </tr>\n",
       "  </thead>\n",
       "  <tbody>\n",
       "    <tr>\n",
       "      <th>0</th>\n",
       "      <td>1170844235215642624</td>\n",
       "      <td>1</td>\n",
       "      <td>3</td>\n",
       "      <td>8</td>\n",
       "    </tr>\n",
       "    <tr>\n",
       "      <th>1</th>\n",
       "      <td>1170830825153318912</td>\n",
       "      <td>6</td>\n",
       "      <td>2</td>\n",
       "      <td>7</td>\n",
       "    </tr>\n",
       "  </tbody>\n",
       "</table>\n",
       "</div>"
      ],
      "text/plain": [
       "                    id  N_verbs  N_adjs  N_nouns\n",
       "0  1170844235215642624  1        3       8      \n",
       "1  1170830825153318912  6        2       7      "
      ]
     },
     "execution_count": 12,
     "metadata": {},
     "output_type": "execute_result"
    }
   ],
   "source": [
    "df_tweets_pos.head(2)"
   ]
  },
  {
   "cell_type": "code",
   "execution_count": 14,
   "metadata": {},
   "outputs": [],
   "source": [
    "# save the df as pickle file\n",
    "df_tweets_pos.to_pickle('results/tweets_step_2_v1.pkl')"
   ]
  },
  {
   "cell_type": "code",
   "execution_count": null,
   "metadata": {},
   "outputs": [],
   "source": []
  }
 ],
 "metadata": {
  "hide_input": false,
  "kernelspec": {
   "display_name": "Python 3",
   "language": "python",
   "name": "python3"
  },
  "language_info": {
   "codemirror_mode": {
    "name": "ipython",
    "version": 3
   },
   "file_extension": ".py",
   "mimetype": "text/x-python",
   "name": "python",
   "nbconvert_exporter": "python",
   "pygments_lexer": "ipython3",
   "version": "3.6.3"
  }
 },
 "nbformat": 4,
 "nbformat_minor": 2
}
