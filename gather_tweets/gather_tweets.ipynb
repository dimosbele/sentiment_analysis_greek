{
 "cells": [
  {
   "cell_type": "code",
   "execution_count": null,
   "metadata": {},
   "outputs": [],
   "source": [
    "# This is the jupyter notebook that gathers tweets based on specific hashtags\n",
    "# It finally saves the tweets as a pickle file"
   ]
  },
  {
   "cell_type": "code",
   "execution_count": 3,
   "metadata": {},
   "outputs": [],
   "source": [
    "# import libraries\n",
    "\n",
    "import pandas as pd\n",
    "#!pip3 install tweepy\n",
    "import tweepy\n",
    "from tweepy import OAuthHandler\n",
    "\n",
    "# print non truncated column info in pandas dataframe\n",
    "pd.set_option('display.max_colwidth', -1)\n",
    "pd.set_option('display.max_columns', 500)"
   ]
  },
  {
   "cell_type": "code",
   "execution_count": 4,
   "metadata": {},
   "outputs": [],
   "source": [
    "# a twitter acount is necessary\n",
    "# http://docs.tweepy.org/en/latest/getting_started.html\n",
    "consumer_key = 'xxxxxxxxxxxxx'\n",
    "consumer_secret = 'xxxxxxxxxxxxx'\n",
    "access_token = 'xxxxxxxxxxxxx'\n",
    "access_secret = 'xxxxxxxxxxxxx'\n",
    "\n",
    "auth = OAuthHandler(consumer_key, consumer_secret)\n",
    "auth.set_access_token(access_token, access_secret)\n",
    "api = tweepy.API(auth)"
   ]
  },
  {
   "cell_type": "code",
   "execution_count": 10,
   "metadata": {},
   "outputs": [],
   "source": [
    "# a list of the hashtags we wish to search\n",
    "greek_hashtags = ['#ΝΔ', '#Μητσοτάκης', '#κυβερνηση', '#ΣΥΡΙΖΑ', '#τσιπρας', '#Βουλή']"
   ]
  },
  {
   "cell_type": "code",
   "execution_count": 12,
   "metadata": {},
   "outputs": [
    {
     "name": "stdout",
     "output_type": "stream",
     "text": [
      "Gathering tweets for hashtag -  #ΝΔ\n",
      "Gathering tweets for hashtag -  #Μητσοτάκης\n",
      "Gathering tweets for hashtag -  #κυβερνηση\n",
      "Gathering tweets for hashtag -  #ΣΥΡΙΖΑ\n",
      "Gathering tweets for hashtag -  #τσιπρας\n",
      "Gathering tweets for hashtag -  #Βουλή\n"
     ]
    }
   ],
   "source": [
    "# create a list to append the tweets\n",
    "hash_tweets = []\n",
    "# search tweets for each hashtag in a specific time period\n",
    "for hashtag in greek_hashtags[0:]:\n",
    "    print('Gathering tweets for hashtag - ', hashtag)\n",
    "    for tweet in tweepy.Cursor(api.search,\n",
    "                               q=hashtag, count=100, \n",
    "                               lang=\"el\", \n",
    "                               since=\"2019-09-12\",\n",
    "                               until=\"2019-09-18\",\n",
    "                               tweet_mode='extended',\n",
    "                              #geocode=geocode\n",
    "                              ).items():\n",
    "\n",
    "        # find the hashtags in the tweet\n",
    "        hstgs=[]\n",
    "        for hstg in tweet.entities['hashtags']:\n",
    "            hstgs.append(hstg['text'])\n",
    "            \n",
    "        # find the mentions in the tweet\n",
    "        mentions=[]\n",
    "        for mention in tweet.entities['user_mentions']:\n",
    "            mentions.append(mention['screen_name'])\n",
    "\n",
    "        # create a dictionary for this tweet\n",
    "        tweet_dict = {'searchParam':hashtag,\n",
    "                      'id':tweet.id,\n",
    "                      'user_id':tweet.user.id,\n",
    "                      'user_name':tweet.user.name,\n",
    "                      'text':tweet.full_text,\n",
    "                      'hashtags':hstgs,\n",
    "                      'date':tweet.created_at,\n",
    "                      'location':tweet.user.location,\n",
    "                      'mentions':mentions\n",
    "                     }\n",
    "        \n",
    "        # append the dictionary to the list\n",
    "        hash_tweets.append(tweet_dict)"
   ]
  },
  {
   "cell_type": "code",
   "execution_count": 13,
   "metadata": {},
   "outputs": [
    {
     "data": {
      "text/html": [
       "<div>\n",
       "<style scoped>\n",
       "    .dataframe tbody tr th:only-of-type {\n",
       "        vertical-align: middle;\n",
       "    }\n",
       "\n",
       "    .dataframe tbody tr th {\n",
       "        vertical-align: top;\n",
       "    }\n",
       "\n",
       "    .dataframe thead th {\n",
       "        text-align: right;\n",
       "    }\n",
       "</style>\n",
       "<table border=\"1\" class=\"dataframe\">\n",
       "  <thead>\n",
       "    <tr style=\"text-align: right;\">\n",
       "      <th></th>\n",
       "      <th>date</th>\n",
       "      <th>hashtags</th>\n",
       "      <th>id</th>\n",
       "      <th>location</th>\n",
       "      <th>mentions</th>\n",
       "      <th>searchParam</th>\n",
       "      <th>text</th>\n",
       "      <th>user_id</th>\n",
       "      <th>user_name</th>\n",
       "    </tr>\n",
       "  </thead>\n",
       "  <tbody>\n",
       "    <tr>\n",
       "      <th>0</th>\n",
       "      <td>2019-09-17 22:54:21</td>\n",
       "      <td>[Αντωνιαδου, κλοουν_υπουργοι, νδχουντα, νδ_ξεφτιλες, κυβερνηση_τσιρκο, νδ]</td>\n",
       "      <td>1174094265183559682</td>\n",
       "      <td>ΓΗ 🌍 🗺</td>\n",
       "      <td>[thiasarxis]</td>\n",
       "      <td>#ΝΔ</td>\n",
       "      <td>RT @thiasarxis: Άλλη μια επιτυχία της Νικουλας μετα την #Αντωνιαδου \\n#κλοουν_υπουργοι #νδχουντα #νδ_ξεφτιλες #κυβερνηση_τσιρκο #νδ #νδ_απατ…</td>\n",
       "      <td>1058104836309295106</td>\n",
       "      <td>ΝΕΜΕΣΗ</td>\n",
       "    </tr>\n",
       "    <tr>\n",
       "      <th>1</th>\n",
       "      <td>2019-09-17 22:08:45</td>\n",
       "      <td>[ΠΑΣΟΚ, ΣΥΡΙΖΑ, ΝΔ, Αντωνιαδου]</td>\n",
       "      <td>1174082793174962177</td>\n",
       "      <td>Ελλάς</td>\n",
       "      <td>[PappasXA]</td>\n",
       "      <td>#ΝΔ</td>\n",
       "      <td>RT @PappasXA: Το #ΠΑΣΟΚ είναι σαν τις κατσαρίδες, επιβιώνει σε όλες τις συνθήκες και με #ΣΥΡΙΖΑ και με #ΝΔ.\\n#Αντωνιαδου γνωστή και ως \"Barb…</td>\n",
       "      <td>2964730989</td>\n",
       "      <td>Theo Deus</td>\n",
       "    </tr>\n",
       "    <tr>\n",
       "      <th>2</th>\n",
       "      <td>2019-09-17 21:59:09</td>\n",
       "      <td>[Novartis, Τσιπρα]</td>\n",
       "      <td>1174080377427845120</td>\n",
       "      <td>Ελλαδα,Αθηναίος</td>\n",
       "      <td>[pkonstantineas7]</td>\n",
       "      <td>#ΝΔ</td>\n",
       "      <td>RT @pkonstantineas7: Το να λες εγκέφαλο,ενορχηστρωτη  για τις διώξεις #Novartis τον #Τσιπρα Και να κάνεις προκαταρκτική μόνο στο #παπαγγελο…</td>\n",
       "      <td>809663223129440256</td>\n",
       "      <td>mihalisv</td>\n",
       "    </tr>\n",
       "    <tr>\n",
       "      <th>3</th>\n",
       "      <td>2019-09-17 21:49:22</td>\n",
       "      <td>[Novartis, Τσιπρα]</td>\n",
       "      <td>1174077913878212608</td>\n",
       "      <td>Αττική, Ελλάς</td>\n",
       "      <td>[pkonstantineas7]</td>\n",
       "      <td>#ΝΔ</td>\n",
       "      <td>RT @pkonstantineas7: Το να λες εγκέφαλο,ενορχηστρωτη  για τις διώξεις #Novartis τον #Τσιπρα Και να κάνεις προκαταρκτική μόνο στο #παπαγγελο…</td>\n",
       "      <td>405679676</td>\n",
       "      <td>niktrah</td>\n",
       "    </tr>\n",
       "    <tr>\n",
       "      <th>4</th>\n",
       "      <td>2019-09-17 21:39:48</td>\n",
       "      <td>[noor1, Μαρινάκης]</td>\n",
       "      <td>1174075506284613633</td>\n",
       "      <td>Δ.Σ.  ΣΤΑΥΡΟΣ ΜΑΥΡΟΘΑΛΑΣΣΙΤΗΣ</td>\n",
       "      <td>[thiasarxis]</td>\n",
       "      <td>#ΝΔ</td>\n",
       "      <td>RT @thiasarxis: Νομίζω σε άλλη μια χώρα έμπορος ναρκωτικών και βασικός χρηματοδότης κυβέρνηση έχει κανάλι. Στην Κολομβία \\n#noor1 #Μαρινάκης…</td>\n",
       "      <td>593999061</td>\n",
       "      <td>Ασχημουλιξ</td>\n",
       "    </tr>\n",
       "  </tbody>\n",
       "</table>\n",
       "</div>"
      ],
      "text/plain": [
       "                 date  \\\n",
       "0 2019-09-17 22:54:21   \n",
       "1 2019-09-17 22:08:45   \n",
       "2 2019-09-17 21:59:09   \n",
       "3 2019-09-17 21:49:22   \n",
       "4 2019-09-17 21:39:48   \n",
       "\n",
       "                                                                     hashtags  \\\n",
       "0  [Αντωνιαδου, κλοουν_υπουργοι, νδχουντα, νδ_ξεφτιλες, κυβερνηση_τσιρκο, νδ]   \n",
       "1  [ΠΑΣΟΚ, ΣΥΡΙΖΑ, ΝΔ, Αντωνιαδου]                                              \n",
       "2  [Novartis, Τσιπρα]                                                           \n",
       "3  [Novartis, Τσιπρα]                                                           \n",
       "4  [noor1, Μαρινάκης]                                                           \n",
       "\n",
       "                    id                       location           mentions  \\\n",
       "0  1174094265183559682  ΓΗ 🌍 🗺                         [thiasarxis]        \n",
       "1  1174082793174962177  Ελλάς                          [PappasXA]          \n",
       "2  1174080377427845120  Ελλαδα,Αθηναίος                [pkonstantineas7]   \n",
       "3  1174077913878212608  Αττική, Ελλάς                  [pkonstantineas7]   \n",
       "4  1174075506284613633  Δ.Σ.  ΣΤΑΥΡΟΣ ΜΑΥΡΟΘΑΛΑΣΣΙΤΗΣ  [thiasarxis]        \n",
       "\n",
       "  searchParam  \\\n",
       "0  #ΝΔ          \n",
       "1  #ΝΔ          \n",
       "2  #ΝΔ          \n",
       "3  #ΝΔ          \n",
       "4  #ΝΔ          \n",
       "\n",
       "                                                                                                                                            text  \\\n",
       "0  RT @thiasarxis: Άλλη μια επιτυχία της Νικουλας μετα την #Αντωνιαδου \\n#κλοουν_υπουργοι #νδχουντα #νδ_ξεφτιλες #κυβερνηση_τσιρκο #νδ #νδ_απατ…   \n",
       "1  RT @PappasXA: Το #ΠΑΣΟΚ είναι σαν τις κατσαρίδες, επιβιώνει σε όλες τις συνθήκες και με #ΣΥΡΙΖΑ και με #ΝΔ.\\n#Αντωνιαδου γνωστή και ως \"Barb…   \n",
       "2  RT @pkonstantineas7: Το να λες εγκέφαλο,ενορχηστρωτη  για τις διώξεις #Novartis τον #Τσιπρα Και να κάνεις προκαταρκτική μόνο στο #παπαγγελο…    \n",
       "3  RT @pkonstantineas7: Το να λες εγκέφαλο,ενορχηστρωτη  για τις διώξεις #Novartis τον #Τσιπρα Και να κάνεις προκαταρκτική μόνο στο #παπαγγελο…    \n",
       "4  RT @thiasarxis: Νομίζω σε άλλη μια χώρα έμπορος ναρκωτικών και βασικός χρηματοδότης κυβέρνηση έχει κανάλι. Στην Κολομβία \\n#noor1 #Μαρινάκης…   \n",
       "\n",
       "               user_id   user_name  \n",
       "0  1058104836309295106  ΝΕΜΕΣΗ      \n",
       "1  2964730989           Theo Deus   \n",
       "2  809663223129440256   mihalisv    \n",
       "3  405679676            niktrah     \n",
       "4  593999061            Ασχημουλιξ  "
      ]
     },
     "execution_count": 13,
     "metadata": {},
     "output_type": "execute_result"
    }
   ],
   "source": [
    "# convert the list of dicts to a pandas dataframe\n",
    "df_tweets = pd.DataFrame(hash_tweets)\n",
    "df_tweets.head()"
   ]
  },
  {
   "cell_type": "code",
   "execution_count": 16,
   "metadata": {},
   "outputs": [
    {
     "data": {
      "text/plain": [
       "(9981, 9)"
      ]
     },
     "execution_count": 16,
     "metadata": {},
     "output_type": "execute_result"
    }
   ],
   "source": [
    "df_tweets.shape"
   ]
  },
  {
   "cell_type": "code",
   "execution_count": 18,
   "metadata": {},
   "outputs": [
    {
     "data": {
      "text/plain": [
       "8342"
      ]
     },
     "execution_count": 18,
     "metadata": {},
     "output_type": "execute_result"
    }
   ],
   "source": [
    "df_tweets.id.nunique()"
   ]
  },
  {
   "cell_type": "code",
   "execution_count": 19,
   "metadata": {},
   "outputs": [
    {
     "data": {
      "text/plain": [
       "2795"
      ]
     },
     "execution_count": 19,
     "metadata": {},
     "output_type": "execute_result"
    }
   ],
   "source": [
    "df_tweets.text.nunique()"
   ]
  },
  {
   "cell_type": "code",
   "execution_count": 23,
   "metadata": {},
   "outputs": [
    {
     "data": {
      "text/html": [
       "<div>\n",
       "<style scoped>\n",
       "    .dataframe tbody tr th:only-of-type {\n",
       "        vertical-align: middle;\n",
       "    }\n",
       "\n",
       "    .dataframe tbody tr th {\n",
       "        vertical-align: top;\n",
       "    }\n",
       "\n",
       "    .dataframe thead th {\n",
       "        text-align: right;\n",
       "    }\n",
       "</style>\n",
       "<table border=\"1\" class=\"dataframe\">\n",
       "  <thead>\n",
       "    <tr style=\"text-align: right;\">\n",
       "      <th></th>\n",
       "      <th>date</th>\n",
       "      <th>hashtags</th>\n",
       "      <th>id</th>\n",
       "      <th>location</th>\n",
       "      <th>mentions</th>\n",
       "      <th>text</th>\n",
       "      <th>user_id</th>\n",
       "      <th>user_name</th>\n",
       "    </tr>\n",
       "    <tr>\n",
       "      <th>searchParam</th>\n",
       "      <th></th>\n",
       "      <th></th>\n",
       "      <th></th>\n",
       "      <th></th>\n",
       "      <th></th>\n",
       "      <th></th>\n",
       "      <th></th>\n",
       "      <th></th>\n",
       "    </tr>\n",
       "  </thead>\n",
       "  <tbody>\n",
       "    <tr>\n",
       "      <th>#Βουλή</th>\n",
       "      <td>321</td>\n",
       "      <td>321</td>\n",
       "      <td>321</td>\n",
       "      <td>321</td>\n",
       "      <td>321</td>\n",
       "      <td>321</td>\n",
       "      <td>321</td>\n",
       "      <td>321</td>\n",
       "    </tr>\n",
       "    <tr>\n",
       "      <th>#Μητσοτάκης</th>\n",
       "      <td>1276</td>\n",
       "      <td>1276</td>\n",
       "      <td>1276</td>\n",
       "      <td>1276</td>\n",
       "      <td>1276</td>\n",
       "      <td>1276</td>\n",
       "      <td>1276</td>\n",
       "      <td>1276</td>\n",
       "    </tr>\n",
       "    <tr>\n",
       "      <th>#ΝΔ</th>\n",
       "      <td>1563</td>\n",
       "      <td>1563</td>\n",
       "      <td>1563</td>\n",
       "      <td>1563</td>\n",
       "      <td>1563</td>\n",
       "      <td>1563</td>\n",
       "      <td>1563</td>\n",
       "      <td>1563</td>\n",
       "    </tr>\n",
       "    <tr>\n",
       "      <th>#ΣΥΡΙΖΑ</th>\n",
       "      <td>2655</td>\n",
       "      <td>2655</td>\n",
       "      <td>2655</td>\n",
       "      <td>2655</td>\n",
       "      <td>2655</td>\n",
       "      <td>2655</td>\n",
       "      <td>2655</td>\n",
       "      <td>2655</td>\n",
       "    </tr>\n",
       "    <tr>\n",
       "      <th>#κυβερνηση</th>\n",
       "      <td>199</td>\n",
       "      <td>199</td>\n",
       "      <td>199</td>\n",
       "      <td>199</td>\n",
       "      <td>199</td>\n",
       "      <td>199</td>\n",
       "      <td>199</td>\n",
       "      <td>199</td>\n",
       "    </tr>\n",
       "    <tr>\n",
       "      <th>#τσιπρας</th>\n",
       "      <td>3967</td>\n",
       "      <td>3967</td>\n",
       "      <td>3967</td>\n",
       "      <td>3967</td>\n",
       "      <td>3967</td>\n",
       "      <td>3967</td>\n",
       "      <td>3967</td>\n",
       "      <td>3967</td>\n",
       "    </tr>\n",
       "  </tbody>\n",
       "</table>\n",
       "</div>"
      ],
      "text/plain": [
       "             date  hashtags    id  location  mentions  text  user_id  \\\n",
       "searchParam                                                            \n",
       "#Βουλή       321   321       321   321       321       321   321       \n",
       "#Μητσοτάκης  1276  1276      1276  1276      1276      1276  1276      \n",
       "#ΝΔ          1563  1563      1563  1563      1563      1563  1563      \n",
       "#ΣΥΡΙΖΑ      2655  2655      2655  2655      2655      2655  2655      \n",
       "#κυβερνηση   199   199       199   199       199       199   199       \n",
       "#τσιπρας     3967  3967      3967  3967      3967      3967  3967      \n",
       "\n",
       "             user_name  \n",
       "searchParam             \n",
       "#Βουλή       321        \n",
       "#Μητσοτάκης  1276       \n",
       "#ΝΔ          1563       \n",
       "#ΣΥΡΙΖΑ      2655       \n",
       "#κυβερνηση   199        \n",
       "#τσιπρας     3967       "
      ]
     },
     "execution_count": 23,
     "metadata": {},
     "output_type": "execute_result"
    }
   ],
   "source": [
    "# check the number of tweets for each hashtag\n",
    "df_tweets.groupby('searchParam').count()"
   ]
  },
  {
   "cell_type": "code",
   "execution_count": 25,
   "metadata": {},
   "outputs": [],
   "source": [
    "# save the dataframe as pickle file\n",
    "df_tweets.to_pickle('data/tweets.pkl')"
   ]
  },
  {
   "cell_type": "code",
   "execution_count": null,
   "metadata": {},
   "outputs": [],
   "source": []
  }
 ],
 "metadata": {
  "hide_input": false,
  "kernelspec": {
   "display_name": "Python 3",
   "language": "python",
   "name": "python3"
  },
  "language_info": {
   "codemirror_mode": {
    "name": "ipython",
    "version": 3
   },
   "file_extension": ".py",
   "mimetype": "text/x-python",
   "name": "python",
   "nbconvert_exporter": "python",
   "pygments_lexer": "ipython3",
   "version": "3.6.3"
  }
 },
 "nbformat": 4,
 "nbformat_minor": 2
}
