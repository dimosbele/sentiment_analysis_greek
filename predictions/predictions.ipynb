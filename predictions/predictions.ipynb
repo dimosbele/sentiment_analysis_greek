{
 "cells": [
  {
   "cell_type": "code",
   "execution_count": 1,
   "metadata": {},
   "outputs": [],
   "source": [
    "# In this notebook: \n",
    "# 1) We make predictions regarding the sentiment of each tweet based on the classifier\n",
    "# 2) We create an analysis and visualization"
   ]
  },
  {
   "cell_type": "code",
   "execution_count": 49,
   "metadata": {},
   "outputs": [
    {
     "data": {
      "text/html": [
       "<script> code_shown=true;function code_toggle() {if (code_shown){$('div.input').hide();$('#toggleButton').val('Show Code')} else {$('div.input').show();$('#toggleButton').val('Hide Code')}code_shown = !code_shown}$( document ).ready(code_toggle);</script><form action=\"javascript:code_toggle()\"><input type=\"submit\" id=\"toggleButton\"></form>"
      ],
      "text/plain": [
       "<IPython.core.display.HTML object>"
      ]
     },
     "execution_count": 49,
     "metadata": {},
     "output_type": "execute_result"
    }
   ],
   "source": [
    "from IPython.display import HTML; HTML('''<script> code_shown=true;function code_toggle() {if (code_shown){$('div.input').hide();$('#toggleButton').val('Show Code')} else {$('div.input').show();$('#toggleButton').val('Hide Code')}code_shown = !code_shown}$( document ).ready(code_toggle);</script><form action=\"javascript:code_toggle()\"><input type=\"submit\" id=\"toggleButton\"></form>''')# <a href=\"javascript:code_toggle()\">click to unhide code</a>"
   ]
  },
  {
   "cell_type": "code",
   "execution_count": 50,
   "metadata": {},
   "outputs": [],
   "source": [
    "# import the libraries\n",
    "\n",
    "import pickle\n",
    "import pandas as pd\n",
    "import numpy as np\n",
    "\n",
    "import matplotlib.pyplot as plt\n",
    "import seaborn as sns\n",
    "\n",
    "# print non truncated column info in pandas dataframe\n",
    "pd.set_option('display.max_colwidth', -1)\n",
    "pd.set_option('display.max_columns', 500)"
   ]
  },
  {
   "cell_type": "markdown",
   "metadata": {},
   "source": [
    "## - Read the preprocessed tweets & make predictions (probabilistic classification)"
   ]
  },
  {
   "cell_type": "code",
   "execution_count": 53,
   "metadata": {},
   "outputs": [],
   "source": [
    "# read the pickle file that was created in lexiconsTofeatures\n",
    "df_tweets = pd.read_pickle('.../results/df_final2_v1.pkl')"
   ]
  },
  {
   "cell_type": "code",
   "execution_count": 56,
   "metadata": {},
   "outputs": [],
   "source": [
    "features = ['N_exclam',\n",
    "       'has_url', 'N_hash', 'N_mentions', 'N_uppers', 'N_words', 'Sum_subj', 'Sum_positive', 'Sum_negative',\n",
    "       'Sum_anger', 'Sum_disgust', 'Sum_fear', 'Sum_happy', 'Sum_sad',\n",
    "       'Sum_surprise', 'N_Uni_Neg', 'Score_Uni_Neg', 'N_Uni_Pos',\n",
    "       'Score_Uni_Pos', 'N_Bi_Neg', 'Score_Bi_Neg', 'N_Bi_Pos', 'Score_Bi_Pos',\n",
    "       'Score_Uni', 'Score_Bi', 'N_verbs', 'N_adjs', 'N_nouns']\n",
    "\n",
    "X = df_tweets[features]"
   ]
  },
  {
   "cell_type": "code",
   "execution_count": 57,
   "metadata": {},
   "outputs": [],
   "source": [
    "# load the saved model\n",
    "filename = '.../models/clf.sav'\n",
    "clf = pickle.load(open(filename, 'rb'))"
   ]
  },
  {
   "cell_type": "code",
   "execution_count": 58,
   "metadata": {},
   "outputs": [],
   "source": [
    "# predict the class of each row\n",
    "predictions_class = clf.predict(X)\n",
    "# predict the propability for each class\n",
    "predictions_proba = clf.predict_proba(X)"
   ]
  },
  {
   "cell_type": "code",
   "execution_count": 59,
   "metadata": {},
   "outputs": [],
   "source": [
    "# create a dataframe with the tweets of the testset and the probabilities + predictions + actuals\n",
    "headers = ['Neg', 'Neut', 'Pos']\n",
    "df = pd.DataFrame(predictions_proba, columns=headers)\n",
    "# add column with the predicted class for each tweet\n",
    "df['Prediction'] = predictions_class"
   ]
  },
  {
   "cell_type": "code",
   "execution_count": 60,
   "metadata": {},
   "outputs": [
    {
     "data": {
      "text/html": [
       "<div>\n",
       "<style scoped>\n",
       "    .dataframe tbody tr th:only-of-type {\n",
       "        vertical-align: middle;\n",
       "    }\n",
       "\n",
       "    .dataframe tbody tr th {\n",
       "        vertical-align: top;\n",
       "    }\n",
       "\n",
       "    .dataframe thead th {\n",
       "        text-align: right;\n",
       "    }\n",
       "</style>\n",
       "<table border=\"1\" class=\"dataframe\">\n",
       "  <thead>\n",
       "    <tr style=\"text-align: right;\">\n",
       "      <th></th>\n",
       "      <th>Neg</th>\n",
       "      <th>Neut</th>\n",
       "      <th>Pos</th>\n",
       "      <th>Prediction</th>\n",
       "    </tr>\n",
       "  </thead>\n",
       "  <tbody>\n",
       "    <tr>\n",
       "      <th>0</th>\n",
       "      <td>0.79</td>\n",
       "      <td>0.164</td>\n",
       "      <td>0.046</td>\n",
       "      <td>-1</td>\n",
       "    </tr>\n",
       "  </tbody>\n",
       "</table>\n",
       "</div>"
      ],
      "text/plain": [
       "    Neg   Neut    Pos  Prediction\n",
       "0  0.79  0.164  0.046 -1         "
      ]
     },
     "execution_count": 60,
     "metadata": {},
     "output_type": "execute_result"
    }
   ],
   "source": [
    "df.head(1)"
   ]
  },
  {
   "cell_type": "code",
   "execution_count": 61,
   "metadata": {},
   "outputs": [],
   "source": [
    "# create a dataframe with the above predictions and the details of each tweet\n",
    "# 'perifereia'\n",
    "df_tweets2 = df_tweets[['date', 'hashtags', 'id', 'searchParam', 'text', 'user_id', 'user_name','Bigrams2']]\n",
    "df_tweets2 = pd.concat([df_tweets2, df], axis=1)"
   ]
  },
  {
   "cell_type": "code",
   "execution_count": 62,
   "metadata": {},
   "outputs": [],
   "source": [
    "# drop some tweets that appear to be exactly the same\n",
    "df_tweets2 = df_tweets2.drop_duplicates(subset=['id', 'searchParam', 'user_id'], keep='first')"
   ]
  },
  {
   "cell_type": "code",
   "execution_count": 63,
   "metadata": {},
   "outputs": [
    {
     "data": {
      "text/html": [
       "<div>\n",
       "<style scoped>\n",
       "    .dataframe tbody tr th:only-of-type {\n",
       "        vertical-align: middle;\n",
       "    }\n",
       "\n",
       "    .dataframe tbody tr th {\n",
       "        vertical-align: top;\n",
       "    }\n",
       "\n",
       "    .dataframe thead th {\n",
       "        text-align: right;\n",
       "    }\n",
       "</style>\n",
       "<table border=\"1\" class=\"dataframe\">\n",
       "  <thead>\n",
       "    <tr style=\"text-align: right;\">\n",
       "      <th></th>\n",
       "      <th>date</th>\n",
       "      <th>hashtags</th>\n",
       "      <th>id</th>\n",
       "      <th>searchParam</th>\n",
       "      <th>text</th>\n",
       "      <th>user_id</th>\n",
       "      <th>user_name</th>\n",
       "      <th>Bigrams2</th>\n",
       "      <th>Neg</th>\n",
       "      <th>Neut</th>\n",
       "      <th>Pos</th>\n",
       "      <th>Prediction</th>\n",
       "    </tr>\n",
       "  </thead>\n",
       "  <tbody>\n",
       "    <tr>\n",
       "      <th>0</th>\n",
       "      <td>2019-09-08 23:39:53</td>\n",
       "      <td>[]</td>\n",
       "      <td>1170844235215642624</td>\n",
       "      <td>#ΝΔ</td>\n",
       "      <td>RT @EliasPalai: Πρόθεση Ψήφου Εθνικών Εκλογών\\n\\n(Και κάτοικοι του Εξωτερικού αφού πλέον στις δημοσκοπήσεις θα πρέπει οι εταιρίες δημοσκοπήσε…</td>\n",
       "      <td>1162444088500772864</td>\n",
       "      <td>Μπιλαρος</td>\n",
       "      <td>[RT ΠΡΟΘΕΣΗ, ΠΡΟΘΕΣΗ ΨΗΦΟΥ, ΨΗΦΟΥ ΕΘΝΙΚΩΝ, ΕΘΝΙΚΩΝ ΕΚΛΟΓΩΝ, ΕΚΛΟΓΩΝ ΚΑΙ, ΚΑΙ ΚΑΤΟΙΚΟΙ, ΚΑΤΟΙΚΟΙ ΤΟΥ, ΤΟΥ ΕΞΩΤΕΡΙΚΟΥ, ΕΞΩΤΕΡΙΚΟΥ ΑΦΟΥ, ΑΦΟΥ ΠΛΕΟΝ, ΠΛΕΟΝ ΣΤΙΣ, ΣΤΙΣ ΔΗΜΟΣΚΟΠΗΣΕΙΣ, ΔΗΜΟΣΚΟΠΗΣΕΙΣ ΘΑ, ΘΑ ΠΡΕΠΕΙ, ΠΡΕΠΕΙ ΟΙ, ΟΙ ΕΤΑΙΡΙΕΣ, ΕΤΑΙΡΙΕΣ ΔΗΜΟΣΚΟΠΗΣΕ]</td>\n",
       "      <td>0.790</td>\n",
       "      <td>0.164</td>\n",
       "      <td>0.046</td>\n",
       "      <td>-1</td>\n",
       "    </tr>\n",
       "    <tr>\n",
       "      <th>1</th>\n",
       "      <td>2019-09-08 22:46:36</td>\n",
       "      <td>[ΝΔ, Επιτελικό_κράτος, Μητσοτακη, ΔΕΘ2019, Βελλιδειο]</td>\n",
       "      <td>1170830825153318912</td>\n",
       "      <td>#ΝΔ</td>\n",
       "      <td>Το τερμάτισαν στην \"επικοινωνία\" (η χάρα του PR η #ΝΔ, έχουν και γνωστούς με γραφεία...). Καμιά κατοστάρια μόνο δημοσιογράφους θα προσλάβει το #Επιτελικό_κράτος (κομαντατούρα #Μητσοτακη). Πήγαν για interview; Οποιος χειροκροτήσει πιο δυνατά προσλαμβάνεται;😂 #ΔΕΘ2019 #Βελλιδειο https://t.co/2duOrmL7u5</td>\n",
       "      <td>1142893644082503681</td>\n",
       "      <td>Παναγιώτης Χατζηπλής 🇬🇷</td>\n",
       "      <td>[ΤΟ ΤΕΡΜΑΤΙΣΑΝ, ΤΕΡΜΑΤΙΣΑΝ ΣΤΗΝ, ΣΤΗΝ ΕΠΙΚΟΙΝΩΝΙΑ, ΕΠΙΚΟΙΝΩΝΙΑ Η, Η ΧΑΡΑ, ΧΑΡΑ ΤΟΥ, ΤΟΥ PR, PR Η, Η ΕΧΟΥΝ, ΕΧΟΥΝ ΚΑΙ, ΚΑΙ ΓΝΩΣΤΟΥΣ, ΓΝΩΣΤΟΥΣ ΜΕ, ΜΕ ΓΡΑΦΕΙΑ, ΓΡΑΦΕΙΑ ΚΑΜΙΑ, ΚΑΜΙΑ ΚΑΤΟΣΤΑΡΙΑ, ΚΑΤΟΣΤΑΡΙΑ ΜΟΝΟ, ΜΟΝΟ ΔΗΜΟΣΙΟΓΡΑΦΟΥΣ, ΔΗΜΟΣΙΟΓΡΑΦΟΥΣ ΘΑ, ΘΑ ΠΡΟΣΛΑΒΕΙ, ΠΡΟΣΛΑΒΕΙ ΤΟ, ΤΟ ΚΟΜΑΝΤΑΤΟΥΡΑ, ΚΟΜΑΝΤΑΤΟΥΡΑ ΠΗΓΑΝ, ΠΗΓΑΝ ΓΙΑ, ΓΙΑ INTERVIEW, INTERVIEW ΟΠΟΙΟΣ, ΟΠΟΙΟΣ ΧΕΙΡΟΚΡΟΤΗΣΕΙ, ΧΕΙΡΟΚΡΟΤΗΣΕΙ ΠΙΟ, ΠΙΟ ΔΥΝΑΤΑ, ΔΥΝΑΤΑ ΠΡΟΣΛΑΜΒΑΝΕΤΑΙ]</td>\n",
       "      <td>0.748</td>\n",
       "      <td>0.196</td>\n",
       "      <td>0.056</td>\n",
       "      <td>-1</td>\n",
       "    </tr>\n",
       "    <tr>\n",
       "      <th>2</th>\n",
       "      <td>2019-09-08 22:44:10</td>\n",
       "      <td>[Ραγκούσης, ΝΔ]</td>\n",
       "      <td>1170830212986232832</td>\n",
       "      <td>#ΝΔ</td>\n",
       "      <td>RT @Kouti_Pandoras: #Ραγκούσης: Το «ανάπτυξη παντού» σημαίνει παράδοση αιγιαλών και δασών στην παρασιτική ελίτ #ΝΔ https://t.co/bNZ6dtDKpR</td>\n",
       "      <td>405679676</td>\n",
       "      <td>niktrah</td>\n",
       "      <td>[RT ΤΟ, ΤΟ ΑΝΑΠΤΥΞΗ, ΑΝΑΠΤΥΞΗ ΠΑΝΤΟΥ, ΠΑΝΤΟΥ ΣΗΜΑΙΝΕΙ, ΣΗΜΑΙΝΕΙ ΠΑΡΑΔΟΣΗ, ΠΑΡΑΔΟΣΗ ΑΙΓΙΑΛΩΝ, ΑΙΓΙΑΛΩΝ ΚΑΙ, ΚΑΙ ΔΑΣΩΝ, ΔΑΣΩΝ ΣΤΗΝ, ΣΤΗΝ ΠΑΡΑΣΙΤΙΚΗ, ΠΑΡΑΣΙΤΙΚΗ ΕΛΙΤ]</td>\n",
       "      <td>0.392</td>\n",
       "      <td>0.492</td>\n",
       "      <td>0.116</td>\n",
       "      <td>0</td>\n",
       "    </tr>\n",
       "  </tbody>\n",
       "</table>\n",
       "</div>"
      ],
      "text/plain": [
       "                 date                                               hashtags  \\\n",
       "0 2019-09-08 23:39:53  []                                                      \n",
       "1 2019-09-08 22:46:36  [ΝΔ, Επιτελικό_κράτος, Μητσοτακη, ΔΕΘ2019, Βελλιδειο]   \n",
       "2 2019-09-08 22:44:10  [Ραγκούσης, ΝΔ]                                         \n",
       "\n",
       "                    id searchParam  \\\n",
       "0  1170844235215642624  #ΝΔ          \n",
       "1  1170830825153318912  #ΝΔ          \n",
       "2  1170830212986232832  #ΝΔ          \n",
       "\n",
       "                                                                                                                                                                                                                                                                                                            text  \\\n",
       "0  RT @EliasPalai: Πρόθεση Ψήφου Εθνικών Εκλογών\\n\\n(Και κάτοικοι του Εξωτερικού αφού πλέον στις δημοσκοπήσεις θα πρέπει οι εταιρίες δημοσκοπήσε…                                                                                                                                                                  \n",
       "1  Το τερμάτισαν στην \"επικοινωνία\" (η χάρα του PR η #ΝΔ, έχουν και γνωστούς με γραφεία...). Καμιά κατοστάρια μόνο δημοσιογράφους θα προσλάβει το #Επιτελικό_κράτος (κομαντατούρα #Μητσοτακη). Πήγαν για interview; Οποιος χειροκροτήσει πιο δυνατά προσλαμβάνεται;😂 #ΔΕΘ2019 #Βελλιδειο https://t.co/2duOrmL7u5   \n",
       "2  RT @Kouti_Pandoras: #Ραγκούσης: Το «ανάπτυξη παντού» σημαίνει παράδοση αιγιαλών και δασών στην παρασιτική ελίτ #ΝΔ https://t.co/bNZ6dtDKpR                                                                                                                                                                      \n",
       "\n",
       "               user_id                user_name  \\\n",
       "0  1162444088500772864  Μπιλαρος                  \n",
       "1  1142893644082503681  Παναγιώτης Χατζηπλής 🇬🇷   \n",
       "2  405679676            niktrah                   \n",
       "\n",
       "                                                                                                                                                                                                                                                                                                                                                                                                                                          Bigrams2  \\\n",
       "0  [RT ΠΡΟΘΕΣΗ, ΠΡΟΘΕΣΗ ΨΗΦΟΥ, ΨΗΦΟΥ ΕΘΝΙΚΩΝ, ΕΘΝΙΚΩΝ ΕΚΛΟΓΩΝ, ΕΚΛΟΓΩΝ ΚΑΙ, ΚΑΙ ΚΑΤΟΙΚΟΙ, ΚΑΤΟΙΚΟΙ ΤΟΥ, ΤΟΥ ΕΞΩΤΕΡΙΚΟΥ, ΕΞΩΤΕΡΙΚΟΥ ΑΦΟΥ, ΑΦΟΥ ΠΛΕΟΝ, ΠΛΕΟΝ ΣΤΙΣ, ΣΤΙΣ ΔΗΜΟΣΚΟΠΗΣΕΙΣ, ΔΗΜΟΣΚΟΠΗΣΕΙΣ ΘΑ, ΘΑ ΠΡΕΠΕΙ, ΠΡΕΠΕΙ ΟΙ, ΟΙ ΕΤΑΙΡΙΕΣ, ΕΤΑΙΡΙΕΣ ΔΗΜΟΣΚΟΠΗΣΕ]                                                                                                                                                                                      \n",
       "1  [ΤΟ ΤΕΡΜΑΤΙΣΑΝ, ΤΕΡΜΑΤΙΣΑΝ ΣΤΗΝ, ΣΤΗΝ ΕΠΙΚΟΙΝΩΝΙΑ, ΕΠΙΚΟΙΝΩΝΙΑ Η, Η ΧΑΡΑ, ΧΑΡΑ ΤΟΥ, ΤΟΥ PR, PR Η, Η ΕΧΟΥΝ, ΕΧΟΥΝ ΚΑΙ, ΚΑΙ ΓΝΩΣΤΟΥΣ, ΓΝΩΣΤΟΥΣ ΜΕ, ΜΕ ΓΡΑΦΕΙΑ, ΓΡΑΦΕΙΑ ΚΑΜΙΑ, ΚΑΜΙΑ ΚΑΤΟΣΤΑΡΙΑ, ΚΑΤΟΣΤΑΡΙΑ ΜΟΝΟ, ΜΟΝΟ ΔΗΜΟΣΙΟΓΡΑΦΟΥΣ, ΔΗΜΟΣΙΟΓΡΑΦΟΥΣ ΘΑ, ΘΑ ΠΡΟΣΛΑΒΕΙ, ΠΡΟΣΛΑΒΕΙ ΤΟ, ΤΟ ΚΟΜΑΝΤΑΤΟΥΡΑ, ΚΟΜΑΝΤΑΤΟΥΡΑ ΠΗΓΑΝ, ΠΗΓΑΝ ΓΙΑ, ΓΙΑ INTERVIEW, INTERVIEW ΟΠΟΙΟΣ, ΟΠΟΙΟΣ ΧΕΙΡΟΚΡΟΤΗΣΕΙ, ΧΕΙΡΟΚΡΟΤΗΣΕΙ ΠΙΟ, ΠΙΟ ΔΥΝΑΤΑ, ΔΥΝΑΤΑ ΠΡΟΣΛΑΜΒΑΝΕΤΑΙ]   \n",
       "2  [RT ΤΟ, ΤΟ ΑΝΑΠΤΥΞΗ, ΑΝΑΠΤΥΞΗ ΠΑΝΤΟΥ, ΠΑΝΤΟΥ ΣΗΜΑΙΝΕΙ, ΣΗΜΑΙΝΕΙ ΠΑΡΑΔΟΣΗ, ΠΑΡΑΔΟΣΗ ΑΙΓΙΑΛΩΝ, ΑΙΓΙΑΛΩΝ ΚΑΙ, ΚΑΙ ΔΑΣΩΝ, ΔΑΣΩΝ ΣΤΗΝ, ΣΤΗΝ ΠΑΡΑΣΙΤΙΚΗ, ΠΑΡΑΣΙΤΙΚΗ ΕΛΙΤ]                                                                                                                                                                                                                                                                               \n",
       "\n",
       "     Neg   Neut    Pos  Prediction  \n",
       "0  0.790  0.164  0.046 -1           \n",
       "1  0.748  0.196  0.056 -1           \n",
       "2  0.392  0.492  0.116  0           "
      ]
     },
     "execution_count": 63,
     "metadata": {},
     "output_type": "execute_result"
    }
   ],
   "source": [
    "df_tweets2.head(3)"
   ]
  },
  {
   "cell_type": "code",
   "execution_count": 64,
   "metadata": {},
   "outputs": [
    {
     "data": {
      "text/plain": [
       "(11324, 12)"
      ]
     },
     "execution_count": 64,
     "metadata": {},
     "output_type": "execute_result"
    }
   ],
   "source": [
    "df_tweets2.shape"
   ]
  },
  {
   "cell_type": "markdown",
   "metadata": {},
   "source": [
    "## -- Change predictions based on negative score"
   ]
  },
  {
   "cell_type": "code",
   "execution_count": 72,
   "metadata": {},
   "outputs": [
    {
     "data": {
      "text/plain": [
       "Text(0,0.5,'Number of tweets')"
      ]
     },
     "execution_count": 72,
     "metadata": {},
     "output_type": "execute_result"
    },
    {
     "data": {
      "image/png": "[encoded data removed]",
      "text/plain": [
       "<matplotlib.figure.Figure at 0x7fb8c83b7e80>"
      ]
     },
     "metadata": {},
     "output_type": "display_data"
    }
   ],
   "source": [
    "sns.distplot(df_tweets_neg['Neg'], hist=True, kde=False, \n",
    "             bins=int(180/5), color = 'blue',\n",
    "             hist_kws={'edgecolor':'black'})\n",
    "# Add labels\n",
    "plt.title('Histogram of negative tweets')\n",
    "plt.xlabel('Negative score')\n",
    "plt.ylabel('Number of tweets')"
   ]
  },
  {
   "cell_type": "code",
   "execution_count": 73,
   "metadata": {},
   "outputs": [],
   "source": [
    "# if negative score is lower than 0.65 then the tweet is neutral\n",
    "df_tweets2['Prediction2'] = df_tweets2.apply(lambda x: 0 if x['Neg']<0.65\n",
    "                                                        else x['Prediction'],\n",
    "                                                    axis=1)"
   ]
  },
  {
   "cell_type": "code",
   "execution_count": 74,
   "metadata": {},
   "outputs": [
    {
     "data": {
      "text/plain": [
       "Prediction2\n",
       "-1    7531\n",
       " 0    3793\n",
       "Name: Neg, dtype: int64"
      ]
     },
     "execution_count": 74,
     "metadata": {},
     "output_type": "execute_result"
    }
   ],
   "source": [
    "df_tweets2.groupby('Prediction2')['Neg'].count()"
   ]
  },
  {
   "cell_type": "markdown",
   "metadata": {},
   "source": [
    "## -- Change predictions based on syriza_xeftiles, ΝΔ_ξεφτιλες, nd_xeftiles, skai_xeftiles"
   ]
  },
  {
   "cell_type": "code",
   "execution_count": 75,
   "metadata": {},
   "outputs": [],
   "source": [
    "def check_neg_hashtags(a,b):\n",
    "    for i in a:\n",
    "        if i in b:\n",
    "            return 1\n",
    "    return 0\n",
    "\n",
    "negative_hashtags = ['ΣΥΡΙΖΑ_ξεφτιλες', 'ΝΔ_ξεφτιλες', 'κυβερνηση_τσιρκο', 'ΝΔ_θελατε',\n",
    "                   'ΝΔ_απατεωνες', 'syriza_xeftiles', 'ΝΔξεφτιλες', 'ndxeftiles', \n",
    "                     'skai_xeftiles', 'ΝΔ_mafia', 'συριζα_ξεφτιλες']\n",
    "\n",
    "# if tweet contains one of those hashtags then it is negative\n",
    "df_tweets2['Prediction3'] = df_tweets2.apply(lambda x: -1 if \n",
    "                                check_neg_hashtags(negative_hashtags,x['hashtags'])==1\n",
    "                                else x['Prediction2'],\n",
    "                                axis=1)"
   ]
  },
  {
   "cell_type": "code",
   "execution_count": 77,
   "metadata": {},
   "outputs": [
    {
     "data": {
      "text/plain": [
       "Prediction3\n",
       "-1    8324\n",
       " 0    3000\n",
       "Name: Neg, dtype: int64"
      ]
     },
     "execution_count": 77,
     "metadata": {},
     "output_type": "execute_result"
    }
   ],
   "source": [
    "df_tweets2.groupby('Prediction3')['Neg'].count()"
   ]
  },
  {
   "cell_type": "markdown",
   "metadata": {},
   "source": [
    "## -- Check and fix dates "
   ]
  },
  {
   "cell_type": "code",
   "execution_count": 79,
   "metadata": {},
   "outputs": [
    {
     "name": "stdout",
     "output_type": "stream",
     "text": [
      "Tweets from 2019-09-04 00:00:10  until  2019-09-11 23:52:23\n"
     ]
    }
   ],
   "source": [
    "print('Tweets from',df_tweets2.date.min(),' until ',df_tweets2.date.max())"
   ]
  },
  {
   "cell_type": "code",
   "execution_count": 80,
   "metadata": {},
   "outputs": [],
   "source": [
    "# create a column with only the date and not the time\n",
    "df_tweets2['date2'] = df_tweets2['date'].dt.date\n",
    "# create a column with the number of the day starting from 0\n",
    "start = df_tweets2.date2.min()\n",
    "df_tweets2['day'] = df_tweets2['date2'].apply(lambda x: (x - start).days)\n",
    "# the first day should be 1(not 0)...\n",
    "df_tweets2['day'] = df_tweets2['day'] + 1"
   ]
  },
  {
   "cell_type": "code",
   "execution_count": 84,
   "metadata": {},
   "outputs": [],
   "source": [
    "# group hashtags based on their meaning\n",
    "df_tweets2['Κόμμα'] = df_tweets2['searchParam'].apply(lambda x: 'ΣΥΡΙΖΑ' if x in ['#ΣΥΡΙΖΑ', '#Τσιπρας']\n",
    "                                                          else 'ΝΔ' if x in ['#ΝΔ', '#Μητσοτακης']\n",
    "                                                          else 'ΓΕΝΙΚΑ')"
   ]
  },
  {
   "cell_type": "code",
   "execution_count": 85,
   "metadata": {},
   "outputs": [],
   "source": [
    "# create a column for 'syriza_xeftiles', for 'ΝΔ_ξεφτιλες' and for both\n",
    "df_tweets2['syriza_xeftiles'] = df_tweets2['hashtags'].apply(lambda x: \n",
    "                                        1 if 'syriza_xeftiles' in x\n",
    "                                    else 0)\n",
    "\n",
    "df_tweets2['nd_xeftiles'] = df_tweets2['hashtags'].apply(lambda x: \n",
    "                                        1 if ('ΝΔ_ξεφτιλες' in x) | ('ndxeftiles' in x)\n",
    "                                    else 0)\n",
    "\n",
    "df_tweets2['both_xeftiles'] = df_tweets2.apply(lambda x: \n",
    "                                    1 if (x['syriza_xeftiles']==1) & (x['nd_xeftiles']==1)\n",
    "                                    else 0,\n",
    "                                    axis=1)"
   ]
  },
  {
   "cell_type": "code",
   "execution_count": 86,
   "metadata": {},
   "outputs": [
    {
     "name": "stdout",
     "output_type": "stream",
     "text": [
      "98\n",
      "15\n",
      "83\n"
     ]
    }
   ],
   "source": [
    "df_syr_xeft = df_tweets2[df_tweets2.syriza_xeftiles==1]\n",
    "print(len(df_syr_xeft))\n",
    "print(len(df_syr_xeft[df_syr_xeft.Prediction2==-1]))\n",
    "print(len(df_syr_xeft[df_syr_xeft.Prediction2==0]))"
   ]
  },
  {
   "cell_type": "code",
   "execution_count": 87,
   "metadata": {},
   "outputs": [],
   "source": [
    "df_tweets_tmp = df_tweets2.copy()\n",
    "df_tweets_tmp = df_tweets_tmp.drop_duplicates(subset=['id'], keep='first')\n",
    "df_tweets_tmp['skai_xeftiles'] = df_tweets_tmp.apply(lambda x: 1 if \n",
    "                                                       'skai_xeftiles' in x['hashtags']\n",
    "                                else 0, axis=1)"
   ]
  },
  {
   "cell_type": "code",
   "execution_count": 89,
   "metadata": {},
   "outputs": [
    {
     "name": "stdout",
     "output_type": "stream",
     "text": [
      "66\n",
      "260\n",
      "73\n"
     ]
    }
   ],
   "source": [
    "print(df_tweets_tmp.syriza_xeftiles.sum())\n",
    "print(df_tweets_tmp.nd_xeftiles.sum())\n",
    "print(df_tweets_tmp.skai_xeftiles.sum())"
   ]
  },
  {
   "cell_type": "code",
   "execution_count": 90,
   "metadata": {},
   "outputs": [
    {
     "data": {
      "text/plain": [
       "(9571, 21)"
      ]
     },
     "execution_count": 90,
     "metadata": {},
     "output_type": "execute_result"
    }
   ],
   "source": [
    "df_tweets_tmp.shape"
   ]
  },
  {
   "cell_type": "code",
   "execution_count": 91,
   "metadata": {},
   "outputs": [
    {
     "data": {
      "text/plain": [
       "9571"
      ]
     },
     "execution_count": 91,
     "metadata": {},
     "output_type": "execute_result"
    }
   ],
   "source": [
    "df_tweets_tmp.id.nunique()"
   ]
  },
  {
   "cell_type": "code",
   "execution_count": 92,
   "metadata": {},
   "outputs": [
    {
     "data": {
      "text/html": [
       "<div>\n",
       "<style scoped>\n",
       "    .dataframe tbody tr th:only-of-type {\n",
       "        vertical-align: middle;\n",
       "    }\n",
       "\n",
       "    .dataframe tbody tr th {\n",
       "        vertical-align: top;\n",
       "    }\n",
       "\n",
       "    .dataframe thead th {\n",
       "        text-align: right;\n",
       "    }\n",
       "</style>\n",
       "<table border=\"1\" class=\"dataframe\">\n",
       "  <thead>\n",
       "    <tr style=\"text-align: right;\">\n",
       "      <th></th>\n",
       "      <th>Prediction3</th>\n",
       "      <th>id</th>\n",
       "      <th>Class</th>\n",
       "      <th>Number of tweets</th>\n",
       "    </tr>\n",
       "  </thead>\n",
       "  <tbody>\n",
       "    <tr>\n",
       "      <th>0</th>\n",
       "      <td>-1</td>\n",
       "      <td>7071</td>\n",
       "      <td>Negative</td>\n",
       "      <td>7071</td>\n",
       "    </tr>\n",
       "    <tr>\n",
       "      <th>1</th>\n",
       "      <td>0</td>\n",
       "      <td>2500</td>\n",
       "      <td>Non-negative</td>\n",
       "      <td>2500</td>\n",
       "    </tr>\n",
       "  </tbody>\n",
       "</table>\n",
       "</div>"
      ],
      "text/plain": [
       "   Prediction3    id         Class  Number of tweets\n",
       "0 -1            7071  Negative      7071            \n",
       "1  0            2500  Non-negative  2500            "
      ]
     },
     "execution_count": 92,
     "metadata": {},
     "output_type": "execute_result"
    }
   ],
   "source": [
    "df_tweets_tmp2 = df_tweets_tmp.groupby(['Prediction3'], as_index=False)['id'].count()\n",
    "df_tweets_tmp2['Class'] = ['Negative', 'Non-negative']\n",
    "df_tweets_tmp2['Number of tweets'] = df_tweets_tmp2['id']\n",
    "df_tweets_tmp2"
   ]
  },
  {
   "cell_type": "code",
   "execution_count": 93,
   "metadata": {},
   "outputs": [
    {
     "data": {
      "text/plain": [
       "Text(0.5,1,'Number of tweets per class \\n 1st May - 21st May')"
      ]
     },
     "execution_count": 93,
     "metadata": {},
     "output_type": "execute_result"
    },
    {
     "data": {
      "image/png": "[encoded data removed]",
      "text/plain": [
       "<matplotlib.figure.Figure at 0x7fb8b01c3a90>"
      ]
     },
     "metadata": {},
     "output_type": "display_data"
    }
   ],
   "source": [
    "# set size of plot\n",
    "plt.figure(figsize=(4,3))\n",
    "# set the colors of the bars\n",
    "colors = [\"#86D7B4\",  \"#D786BB\"]\n",
    "sns.set_palette(palette=colors)\n",
    "# create the plot\n",
    "ax = sns.barplot(x=\"Class\", y=\"Number of tweets\", data=df_tweets_tmp2)\n",
    "\n",
    "# Add labels\n",
    "plt.title('Number of tweets per class \\n 1st May - 21st May')\n",
    "\n",
    "#plt.xticks(rotation=50)"
   ]
  },
  {
   "cell_type": "code",
   "execution_count": 94,
   "metadata": {},
   "outputs": [
    {
     "data": {
      "text/plain": [
       "searchParam\n",
       "#Βουλή         402 \n",
       "#Μητσοτάκης    4358\n",
       "#ΝΔ            2425\n",
       "#ΣΥΡΙΖΑ        1630\n",
       "#κυβερνηση     220 \n",
       "#τσιπρας       536 \n",
       "Name: id, dtype: int64"
      ]
     },
     "execution_count": 94,
     "metadata": {},
     "output_type": "execute_result"
    }
   ],
   "source": [
    "df_tweets_tmp.groupby(['searchParam'])['id'].count()"
   ]
  },
  {
   "cell_type": "code",
   "execution_count": 95,
   "metadata": {},
   "outputs": [
    {
     "data": {
      "text/html": [
       "<div>\n",
       "<style scoped>\n",
       "    .dataframe tbody tr th:only-of-type {\n",
       "        vertical-align: middle;\n",
       "    }\n",
       "\n",
       "    .dataframe tbody tr th {\n",
       "        vertical-align: top;\n",
       "    }\n",
       "\n",
       "    .dataframe thead th {\n",
       "        text-align: right;\n",
       "    }\n",
       "</style>\n",
       "<table border=\"1\" class=\"dataframe\">\n",
       "  <thead>\n",
       "    <tr style=\"text-align: right;\">\n",
       "      <th></th>\n",
       "      <th>date</th>\n",
       "      <th>hashtags</th>\n",
       "      <th>id</th>\n",
       "      <th>searchParam</th>\n",
       "      <th>text</th>\n",
       "      <th>user_id</th>\n",
       "      <th>user_name</th>\n",
       "      <th>Bigrams2</th>\n",
       "      <th>Neg</th>\n",
       "      <th>Neut</th>\n",
       "      <th>Pos</th>\n",
       "      <th>Prediction</th>\n",
       "      <th>Prediction2</th>\n",
       "      <th>Prediction3</th>\n",
       "      <th>date2</th>\n",
       "      <th>day</th>\n",
       "      <th>Κόμμα</th>\n",
       "      <th>syriza_xeftiles</th>\n",
       "      <th>nd_xeftiles</th>\n",
       "      <th>both_xeftiles</th>\n",
       "    </tr>\n",
       "  </thead>\n",
       "  <tbody>\n",
       "    <tr>\n",
       "      <th>0</th>\n",
       "      <td>2019-09-08 23:39:53</td>\n",
       "      <td>[]</td>\n",
       "      <td>1170844235215642624</td>\n",
       "      <td>#ΝΔ</td>\n",
       "      <td>RT @EliasPalai: Πρόθεση Ψήφου Εθνικών Εκλογών\\n\\n(Και κάτοικοι του Εξωτερικού αφού πλέον στις δημοσκοπήσεις θα πρέπει οι εταιρίες δημοσκοπήσε…</td>\n",
       "      <td>1162444088500772864</td>\n",
       "      <td>Μπιλαρος</td>\n",
       "      <td>[RT ΠΡΟΘΕΣΗ, ΠΡΟΘΕΣΗ ΨΗΦΟΥ, ΨΗΦΟΥ ΕΘΝΙΚΩΝ, ΕΘΝΙΚΩΝ ΕΚΛΟΓΩΝ, ΕΚΛΟΓΩΝ ΚΑΙ, ΚΑΙ ΚΑΤΟΙΚΟΙ, ΚΑΤΟΙΚΟΙ ΤΟΥ, ΤΟΥ ΕΞΩΤΕΡΙΚΟΥ, ΕΞΩΤΕΡΙΚΟΥ ΑΦΟΥ, ΑΦΟΥ ΠΛΕΟΝ, ΠΛΕΟΝ ΣΤΙΣ, ΣΤΙΣ ΔΗΜΟΣΚΟΠΗΣΕΙΣ, ΔΗΜΟΣΚΟΠΗΣΕΙΣ ΘΑ, ΘΑ ΠΡΕΠΕΙ, ΠΡΕΠΕΙ ΟΙ, ΟΙ ΕΤΑΙΡΙΕΣ, ΕΤΑΙΡΙΕΣ ΔΗΜΟΣΚΟΠΗΣΕ]</td>\n",
       "      <td>0.790</td>\n",
       "      <td>0.164</td>\n",
       "      <td>0.046</td>\n",
       "      <td>-1</td>\n",
       "      <td>-1</td>\n",
       "      <td>-1</td>\n",
       "      <td>2019-09-08</td>\n",
       "      <td>5</td>\n",
       "      <td>ΝΔ</td>\n",
       "      <td>0</td>\n",
       "      <td>0</td>\n",
       "      <td>0</td>\n",
       "    </tr>\n",
       "    <tr>\n",
       "      <th>1</th>\n",
       "      <td>2019-09-08 22:46:36</td>\n",
       "      <td>[ΝΔ, Επιτελικό_κράτος, Μητσοτακη, ΔΕΘ2019, Βελλιδειο]</td>\n",
       "      <td>1170830825153318912</td>\n",
       "      <td>#ΝΔ</td>\n",
       "      <td>Το τερμάτισαν στην \"επικοινωνία\" (η χάρα του PR η #ΝΔ, έχουν και γνωστούς με γραφεία...). Καμιά κατοστάρια μόνο δημοσιογράφους θα προσλάβει το #Επιτελικό_κράτος (κομαντατούρα #Μητσοτακη). Πήγαν για interview; Οποιος χειροκροτήσει πιο δυνατά προσλαμβάνεται;😂 #ΔΕΘ2019 #Βελλιδειο https://t.co/2duOrmL7u5</td>\n",
       "      <td>1142893644082503681</td>\n",
       "      <td>Παναγιώτης Χατζηπλής 🇬🇷</td>\n",
       "      <td>[ΤΟ ΤΕΡΜΑΤΙΣΑΝ, ΤΕΡΜΑΤΙΣΑΝ ΣΤΗΝ, ΣΤΗΝ ΕΠΙΚΟΙΝΩΝΙΑ, ΕΠΙΚΟΙΝΩΝΙΑ Η, Η ΧΑΡΑ, ΧΑΡΑ ΤΟΥ, ΤΟΥ PR, PR Η, Η ΕΧΟΥΝ, ΕΧΟΥΝ ΚΑΙ, ΚΑΙ ΓΝΩΣΤΟΥΣ, ΓΝΩΣΤΟΥΣ ΜΕ, ΜΕ ΓΡΑΦΕΙΑ, ΓΡΑΦΕΙΑ ΚΑΜΙΑ, ΚΑΜΙΑ ΚΑΤΟΣΤΑΡΙΑ, ΚΑΤΟΣΤΑΡΙΑ ΜΟΝΟ, ΜΟΝΟ ΔΗΜΟΣΙΟΓΡΑΦΟΥΣ, ΔΗΜΟΣΙΟΓΡΑΦΟΥΣ ΘΑ, ΘΑ ΠΡΟΣΛΑΒΕΙ, ΠΡΟΣΛΑΒΕΙ ΤΟ, ΤΟ ΚΟΜΑΝΤΑΤΟΥΡΑ, ΚΟΜΑΝΤΑΤΟΥΡΑ ΠΗΓΑΝ, ΠΗΓΑΝ ΓΙΑ, ΓΙΑ INTERVIEW, INTERVIEW ΟΠΟΙΟΣ, ΟΠΟΙΟΣ ΧΕΙΡΟΚΡΟΤΗΣΕΙ, ΧΕΙΡΟΚΡΟΤΗΣΕΙ ΠΙΟ, ΠΙΟ ΔΥΝΑΤΑ, ΔΥΝΑΤΑ ΠΡΟΣΛΑΜΒΑΝΕΤΑΙ]</td>\n",
       "      <td>0.748</td>\n",
       "      <td>0.196</td>\n",
       "      <td>0.056</td>\n",
       "      <td>-1</td>\n",
       "      <td>-1</td>\n",
       "      <td>-1</td>\n",
       "      <td>2019-09-08</td>\n",
       "      <td>5</td>\n",
       "      <td>ΝΔ</td>\n",
       "      <td>0</td>\n",
       "      <td>0</td>\n",
       "      <td>0</td>\n",
       "    </tr>\n",
       "  </tbody>\n",
       "</table>\n",
       "</div>"
      ],
      "text/plain": [
       "                 date                                               hashtags  \\\n",
       "0 2019-09-08 23:39:53  []                                                      \n",
       "1 2019-09-08 22:46:36  [ΝΔ, Επιτελικό_κράτος, Μητσοτακη, ΔΕΘ2019, Βελλιδειο]   \n",
       "\n",
       "                    id searchParam  \\\n",
       "0  1170844235215642624  #ΝΔ          \n",
       "1  1170830825153318912  #ΝΔ          \n",
       "\n",
       "                                                                                                                                                                                                                                                                                                            text  \\\n",
       "0  RT @EliasPalai: Πρόθεση Ψήφου Εθνικών Εκλογών\\n\\n(Και κάτοικοι του Εξωτερικού αφού πλέον στις δημοσκοπήσεις θα πρέπει οι εταιρίες δημοσκοπήσε…                                                                                                                                                                  \n",
       "1  Το τερμάτισαν στην \"επικοινωνία\" (η χάρα του PR η #ΝΔ, έχουν και γνωστούς με γραφεία...). Καμιά κατοστάρια μόνο δημοσιογράφους θα προσλάβει το #Επιτελικό_κράτος (κομαντατούρα #Μητσοτακη). Πήγαν για interview; Οποιος χειροκροτήσει πιο δυνατά προσλαμβάνεται;😂 #ΔΕΘ2019 #Βελλιδειο https://t.co/2duOrmL7u5   \n",
       "\n",
       "               user_id                user_name  \\\n",
       "0  1162444088500772864  Μπιλαρος                  \n",
       "1  1142893644082503681  Παναγιώτης Χατζηπλής 🇬🇷   \n",
       "\n",
       "                                                                                                                                                                                                                                                                                                                                                                                                                                          Bigrams2  \\\n",
       "0  [RT ΠΡΟΘΕΣΗ, ΠΡΟΘΕΣΗ ΨΗΦΟΥ, ΨΗΦΟΥ ΕΘΝΙΚΩΝ, ΕΘΝΙΚΩΝ ΕΚΛΟΓΩΝ, ΕΚΛΟΓΩΝ ΚΑΙ, ΚΑΙ ΚΑΤΟΙΚΟΙ, ΚΑΤΟΙΚΟΙ ΤΟΥ, ΤΟΥ ΕΞΩΤΕΡΙΚΟΥ, ΕΞΩΤΕΡΙΚΟΥ ΑΦΟΥ, ΑΦΟΥ ΠΛΕΟΝ, ΠΛΕΟΝ ΣΤΙΣ, ΣΤΙΣ ΔΗΜΟΣΚΟΠΗΣΕΙΣ, ΔΗΜΟΣΚΟΠΗΣΕΙΣ ΘΑ, ΘΑ ΠΡΕΠΕΙ, ΠΡΕΠΕΙ ΟΙ, ΟΙ ΕΤΑΙΡΙΕΣ, ΕΤΑΙΡΙΕΣ ΔΗΜΟΣΚΟΠΗΣΕ]                                                                                                                                                                                      \n",
       "1  [ΤΟ ΤΕΡΜΑΤΙΣΑΝ, ΤΕΡΜΑΤΙΣΑΝ ΣΤΗΝ, ΣΤΗΝ ΕΠΙΚΟΙΝΩΝΙΑ, ΕΠΙΚΟΙΝΩΝΙΑ Η, Η ΧΑΡΑ, ΧΑΡΑ ΤΟΥ, ΤΟΥ PR, PR Η, Η ΕΧΟΥΝ, ΕΧΟΥΝ ΚΑΙ, ΚΑΙ ΓΝΩΣΤΟΥΣ, ΓΝΩΣΤΟΥΣ ΜΕ, ΜΕ ΓΡΑΦΕΙΑ, ΓΡΑΦΕΙΑ ΚΑΜΙΑ, ΚΑΜΙΑ ΚΑΤΟΣΤΑΡΙΑ, ΚΑΤΟΣΤΑΡΙΑ ΜΟΝΟ, ΜΟΝΟ ΔΗΜΟΣΙΟΓΡΑΦΟΥΣ, ΔΗΜΟΣΙΟΓΡΑΦΟΥΣ ΘΑ, ΘΑ ΠΡΟΣΛΑΒΕΙ, ΠΡΟΣΛΑΒΕΙ ΤΟ, ΤΟ ΚΟΜΑΝΤΑΤΟΥΡΑ, ΚΟΜΑΝΤΑΤΟΥΡΑ ΠΗΓΑΝ, ΠΗΓΑΝ ΓΙΑ, ΓΙΑ INTERVIEW, INTERVIEW ΟΠΟΙΟΣ, ΟΠΟΙΟΣ ΧΕΙΡΟΚΡΟΤΗΣΕΙ, ΧΕΙΡΟΚΡΟΤΗΣΕΙ ΠΙΟ, ΠΙΟ ΔΥΝΑΤΑ, ΔΥΝΑΤΑ ΠΡΟΣΛΑΜΒΑΝΕΤΑΙ]   \n",
       "\n",
       "     Neg   Neut    Pos  Prediction  Prediction2  Prediction3       date2  day  \\\n",
       "0  0.790  0.164  0.046 -1          -1           -1            2019-09-08  5     \n",
       "1  0.748  0.196  0.056 -1          -1           -1            2019-09-08  5     \n",
       "\n",
       "  Κόμμα  syriza_xeftiles  nd_xeftiles  both_xeftiles  \n",
       "0  ΝΔ    0                0            0              \n",
       "1  ΝΔ    0                0            0              "
      ]
     },
     "execution_count": 95,
     "metadata": {},
     "output_type": "execute_result"
    }
   ],
   "source": [
    "df_tweets2.head(2)"
   ]
  },
  {
   "cell_type": "code",
   "execution_count": 96,
   "metadata": {},
   "outputs": [],
   "source": [
    "# save the df with the tweets and the predictions as pickle file\n",
    "df_tweets2.to_pickle('df_tweets_predictions.pkl')"
   ]
  },
  {
   "cell_type": "code",
   "execution_count": null,
   "metadata": {},
   "outputs": [],
   "source": []
  },
  {
   "cell_type": "markdown",
   "metadata": {},
   "source": [
    "## - Analysis & Visualization"
   ]
  },
  {
   "cell_type": "code",
   "execution_count": 45,
   "metadata": {},
   "outputs": [],
   "source": [
    "import seaborn as sns; sns.set()\n",
    "import matplotlib.pyplot as plt"
   ]
  },
  {
   "cell_type": "markdown",
   "metadata": {},
   "source": [
    "### - Number of tweets per day during last weeks (all hashtags) "
   ]
  },
  {
   "cell_type": "code",
   "execution_count": 46,
   "metadata": {},
   "outputs": [],
   "source": [
    "# the same id may occur more than once because it was found in more than one searchParam\n",
    "# keep each id only once for the following plot\n",
    "df_tmp1 = df_tweets2.drop_duplicates(['id'], keep='first')"
   ]
  },
  {
   "cell_type": "code",
   "execution_count": 47,
   "metadata": {},
   "outputs": [],
   "source": [
    "df_tmp1 = df_tmp1.groupby('day', as_index=False)['id'].count()\n",
    "df_tmp1['day_text'] = df_tmp1['day'].apply(lambda x: str(x)+'η')"
   ]
  },
  {
   "cell_type": "code",
   "execution_count": 49,
   "metadata": {},
   "outputs": [
    {
     "data": {
      "text/plain": [
       "Text(0,0.5,'Number of tweets')"
      ]
     },
     "execution_count": 49,
     "metadata": {},
     "output_type": "execute_result"
    },
    {
     "data": {
      "image/png": "[encoded data removed]",
      "text/plain": [
       "<matplotlib.figure.Figure at 0x7f4d7d783198>"
      ]
     },
     "metadata": {},
     "output_type": "display_data"
    }
   ],
   "source": [
    "plt.figure(figsize=(17,8))\n",
    "sns.set_style(\"darkgrid\")\n",
    "ax = sns.pointplot(x=\"day_text\", y=\"id\",data=df_tmp1, color='green')\n",
    "#ax = sns.lineplot(x=\"day\", y=\"id\",data=df_tmp1)\n",
    "\n",
    "# add the texts\n",
    "plt.text(-0.2, 3700,'\\n'.join(df_tweets2.searchParam.unique()), fontsize=12)\n",
    "# plt.text(-0.5, 950,'Πρωτομαγιά', fontsize=12, color='green')\n",
    "# plt.text(1.3, 1400,'Έντονη συζήτηση \\nγια την πυρκαγιά \\nστο Μάτι', fontsize=12)\n",
    "# plt.text(5.1, 2000,'Έντονη συζήτηση για Τσίπρα \\nκαι κότερο Παναγόπουλου', fontsize=12, color='#ca272c')\n",
    "# plt.text(6.5, 3300,'Εξαγγελία Τσίπρα \\nγια θετικά μέτρα', fontsize=12, color='#ca272c')\n",
    "# plt.text(8, 4130,'Ψήφος εμπιστοσύνης \\nστην κυβένρηση', fontsize=12, color='green')\n",
    "# plt.text(9.4, 1700,'Ποσοσφαιρικός τελικός \\nκυπέλλου', fontsize=12, color='green')\n",
    "# plt.text(10.4, 4130,'Αναφορά Μητσοτάκη \\nσε 7ήμερη εργασία', fontsize=12, color='#0B19CC')\n",
    "\n",
    "ax.tick_params(axis='x', labelsize=15)\n",
    "ax.tick_params(axis='y', labelsize=15)\n",
    "\n",
    "# Add labels\n",
    "plt.title('Number of tweets regarding the elections \\n 1 May - 21 May', fontsize=18)\n",
    "plt.xlabel('Day', fontsize=18)\n",
    "plt.ylabel('Number of tweets', fontsize=18)"
   ]
  },
  {
   "cell_type": "markdown",
   "metadata": {},
   "source": [
    "### - Comparison of number of tweets between nd & syriza"
   ]
  },
  {
   "cell_type": "code",
   "execution_count": 50,
   "metadata": {},
   "outputs": [],
   "source": [
    "# create a df with only these 4 hashtags\n",
    "hstgs1 = ['#Τσιπρας', '#Μητσοτακης', '#ΣΥΡΙΖΑ', '#ΝΔ']\n",
    "df_tmp2 = df_tweets2[df_tweets2.searchParam.isin(hstgs1)]"
   ]
  },
  {
   "cell_type": "markdown",
   "metadata": {},
   "source": [
    "#### -- Over the time "
   ]
  },
  {
   "cell_type": "code",
   "execution_count": 51,
   "metadata": {},
   "outputs": [],
   "source": [
    "df_tmp3 = df_tmp2.groupby(['day','Κόμμα'], as_index=False)['id'].count()\n",
    "df_tmp3['day_text'] = df_tmp3['day'].apply(lambda x: str(x)+'η')"
   ]
  },
  {
   "cell_type": "code",
   "execution_count": 52,
   "metadata": {},
   "outputs": [
    {
     "data": {
      "text/html": [
       "<div>\n",
       "<style scoped>\n",
       "    .dataframe tbody tr th:only-of-type {\n",
       "        vertical-align: middle;\n",
       "    }\n",
       "\n",
       "    .dataframe tbody tr th {\n",
       "        vertical-align: top;\n",
       "    }\n",
       "\n",
       "    .dataframe thead th {\n",
       "        text-align: right;\n",
       "    }\n",
       "</style>\n",
       "<table border=\"1\" class=\"dataframe\">\n",
       "  <thead>\n",
       "    <tr style=\"text-align: right;\">\n",
       "      <th></th>\n",
       "      <th>day</th>\n",
       "      <th>Κόμμα</th>\n",
       "      <th>id</th>\n",
       "      <th>day_text</th>\n",
       "    </tr>\n",
       "  </thead>\n",
       "  <tbody>\n",
       "    <tr>\n",
       "      <th>0</th>\n",
       "      <td>1</td>\n",
       "      <td>ΝΔ</td>\n",
       "      <td>221</td>\n",
       "      <td>1η</td>\n",
       "    </tr>\n",
       "    <tr>\n",
       "      <th>1</th>\n",
       "      <td>1</td>\n",
       "      <td>ΣΥΡΙΖΑ</td>\n",
       "      <td>571</td>\n",
       "      <td>1η</td>\n",
       "    </tr>\n",
       "    <tr>\n",
       "      <th>2</th>\n",
       "      <td>2</td>\n",
       "      <td>ΝΔ</td>\n",
       "      <td>197</td>\n",
       "      <td>2η</td>\n",
       "    </tr>\n",
       "    <tr>\n",
       "      <th>3</th>\n",
       "      <td>2</td>\n",
       "      <td>ΣΥΡΙΖΑ</td>\n",
       "      <td>875</td>\n",
       "      <td>2η</td>\n",
       "    </tr>\n",
       "    <tr>\n",
       "      <th>4</th>\n",
       "      <td>3</td>\n",
       "      <td>ΝΔ</td>\n",
       "      <td>344</td>\n",
       "      <td>3η</td>\n",
       "    </tr>\n",
       "    <tr>\n",
       "      <th>5</th>\n",
       "      <td>3</td>\n",
       "      <td>ΣΥΡΙΖΑ</td>\n",
       "      <td>936</td>\n",
       "      <td>3η</td>\n",
       "    </tr>\n",
       "    <tr>\n",
       "      <th>6</th>\n",
       "      <td>4</td>\n",
       "      <td>ΝΔ</td>\n",
       "      <td>506</td>\n",
       "      <td>4η</td>\n",
       "    </tr>\n",
       "    <tr>\n",
       "      <th>7</th>\n",
       "      <td>4</td>\n",
       "      <td>ΣΥΡΙΖΑ</td>\n",
       "      <td>1209</td>\n",
       "      <td>4η</td>\n",
       "    </tr>\n",
       "    <tr>\n",
       "      <th>8</th>\n",
       "      <td>5</td>\n",
       "      <td>ΝΔ</td>\n",
       "      <td>361</td>\n",
       "      <td>5η</td>\n",
       "    </tr>\n",
       "    <tr>\n",
       "      <th>9</th>\n",
       "      <td>5</td>\n",
       "      <td>ΣΥΡΙΖΑ</td>\n",
       "      <td>996</td>\n",
       "      <td>5η</td>\n",
       "    </tr>\n",
       "    <tr>\n",
       "      <th>10</th>\n",
       "      <td>6</td>\n",
       "      <td>ΝΔ</td>\n",
       "      <td>358</td>\n",
       "      <td>6η</td>\n",
       "    </tr>\n",
       "    <tr>\n",
       "      <th>11</th>\n",
       "      <td>6</td>\n",
       "      <td>ΣΥΡΙΖΑ</td>\n",
       "      <td>1989</td>\n",
       "      <td>6η</td>\n",
       "    </tr>\n",
       "    <tr>\n",
       "      <th>12</th>\n",
       "      <td>7</td>\n",
       "      <td>ΝΔ</td>\n",
       "      <td>455</td>\n",
       "      <td>7η</td>\n",
       "    </tr>\n",
       "    <tr>\n",
       "      <th>13</th>\n",
       "      <td>7</td>\n",
       "      <td>ΣΥΡΙΖΑ</td>\n",
       "      <td>2431</td>\n",
       "      <td>7η</td>\n",
       "    </tr>\n",
       "    <tr>\n",
       "      <th>14</th>\n",
       "      <td>8</td>\n",
       "      <td>ΝΔ</td>\n",
       "      <td>844</td>\n",
       "      <td>8η</td>\n",
       "    </tr>\n",
       "    <tr>\n",
       "      <th>15</th>\n",
       "      <td>8</td>\n",
       "      <td>ΣΥΡΙΖΑ</td>\n",
       "      <td>2224</td>\n",
       "      <td>8η</td>\n",
       "    </tr>\n",
       "    <tr>\n",
       "      <th>16</th>\n",
       "      <td>9</td>\n",
       "      <td>ΝΔ</td>\n",
       "      <td>702</td>\n",
       "      <td>9η</td>\n",
       "    </tr>\n",
       "    <tr>\n",
       "      <th>17</th>\n",
       "      <td>9</td>\n",
       "      <td>ΣΥΡΙΖΑ</td>\n",
       "      <td>1529</td>\n",
       "      <td>9η</td>\n",
       "    </tr>\n",
       "    <tr>\n",
       "      <th>18</th>\n",
       "      <td>10</td>\n",
       "      <td>ΝΔ</td>\n",
       "      <td>906</td>\n",
       "      <td>10η</td>\n",
       "    </tr>\n",
       "    <tr>\n",
       "      <th>19</th>\n",
       "      <td>10</td>\n",
       "      <td>ΣΥΡΙΖΑ</td>\n",
       "      <td>1754</td>\n",
       "      <td>10η</td>\n",
       "    </tr>\n",
       "    <tr>\n",
       "      <th>20</th>\n",
       "      <td>11</td>\n",
       "      <td>ΝΔ</td>\n",
       "      <td>436</td>\n",
       "      <td>11η</td>\n",
       "    </tr>\n",
       "    <tr>\n",
       "      <th>21</th>\n",
       "      <td>11</td>\n",
       "      <td>ΣΥΡΙΖΑ</td>\n",
       "      <td>1558</td>\n",
       "      <td>11η</td>\n",
       "    </tr>\n",
       "    <tr>\n",
       "      <th>22</th>\n",
       "      <td>12</td>\n",
       "      <td>ΝΔ</td>\n",
       "      <td>3029</td>\n",
       "      <td>12η</td>\n",
       "    </tr>\n",
       "    <tr>\n",
       "      <th>23</th>\n",
       "      <td>12</td>\n",
       "      <td>ΣΥΡΙΖΑ</td>\n",
       "      <td>1584</td>\n",
       "      <td>12η</td>\n",
       "    </tr>\n",
       "    <tr>\n",
       "      <th>24</th>\n",
       "      <td>13</td>\n",
       "      <td>ΝΔ</td>\n",
       "      <td>1507</td>\n",
       "      <td>13η</td>\n",
       "    </tr>\n",
       "    <tr>\n",
       "      <th>25</th>\n",
       "      <td>13</td>\n",
       "      <td>ΣΥΡΙΖΑ</td>\n",
       "      <td>1537</td>\n",
       "      <td>13η</td>\n",
       "    </tr>\n",
       "    <tr>\n",
       "      <th>26</th>\n",
       "      <td>14</td>\n",
       "      <td>ΝΔ</td>\n",
       "      <td>1103</td>\n",
       "      <td>14η</td>\n",
       "    </tr>\n",
       "    <tr>\n",
       "      <th>27</th>\n",
       "      <td>14</td>\n",
       "      <td>ΣΥΡΙΖΑ</td>\n",
       "      <td>1585</td>\n",
       "      <td>14η</td>\n",
       "    </tr>\n",
       "    <tr>\n",
       "      <th>28</th>\n",
       "      <td>15</td>\n",
       "      <td>ΝΔ</td>\n",
       "      <td>690</td>\n",
       "      <td>15η</td>\n",
       "    </tr>\n",
       "    <tr>\n",
       "      <th>29</th>\n",
       "      <td>15</td>\n",
       "      <td>ΣΥΡΙΖΑ</td>\n",
       "      <td>1151</td>\n",
       "      <td>15η</td>\n",
       "    </tr>\n",
       "    <tr>\n",
       "      <th>30</th>\n",
       "      <td>16</td>\n",
       "      <td>ΝΔ</td>\n",
       "      <td>670</td>\n",
       "      <td>16η</td>\n",
       "    </tr>\n",
       "    <tr>\n",
       "      <th>31</th>\n",
       "      <td>16</td>\n",
       "      <td>ΣΥΡΙΖΑ</td>\n",
       "      <td>1141</td>\n",
       "      <td>16η</td>\n",
       "    </tr>\n",
       "    <tr>\n",
       "      <th>32</th>\n",
       "      <td>17</td>\n",
       "      <td>ΝΔ</td>\n",
       "      <td>446</td>\n",
       "      <td>17η</td>\n",
       "    </tr>\n",
       "    <tr>\n",
       "      <th>33</th>\n",
       "      <td>17</td>\n",
       "      <td>ΣΥΡΙΖΑ</td>\n",
       "      <td>1346</td>\n",
       "      <td>17η</td>\n",
       "    </tr>\n",
       "    <tr>\n",
       "      <th>34</th>\n",
       "      <td>18</td>\n",
       "      <td>ΝΔ</td>\n",
       "      <td>356</td>\n",
       "      <td>18η</td>\n",
       "    </tr>\n",
       "    <tr>\n",
       "      <th>35</th>\n",
       "      <td>18</td>\n",
       "      <td>ΣΥΡΙΖΑ</td>\n",
       "      <td>1025</td>\n",
       "      <td>18η</td>\n",
       "    </tr>\n",
       "    <tr>\n",
       "      <th>36</th>\n",
       "      <td>19</td>\n",
       "      <td>ΝΔ</td>\n",
       "      <td>432</td>\n",
       "      <td>19η</td>\n",
       "    </tr>\n",
       "    <tr>\n",
       "      <th>37</th>\n",
       "      <td>19</td>\n",
       "      <td>ΣΥΡΙΖΑ</td>\n",
       "      <td>906</td>\n",
       "      <td>19η</td>\n",
       "    </tr>\n",
       "    <tr>\n",
       "      <th>38</th>\n",
       "      <td>20</td>\n",
       "      <td>ΝΔ</td>\n",
       "      <td>593</td>\n",
       "      <td>20η</td>\n",
       "    </tr>\n",
       "    <tr>\n",
       "      <th>39</th>\n",
       "      <td>20</td>\n",
       "      <td>ΣΥΡΙΖΑ</td>\n",
       "      <td>1552</td>\n",
       "      <td>20η</td>\n",
       "    </tr>\n",
       "    <tr>\n",
       "      <th>40</th>\n",
       "      <td>21</td>\n",
       "      <td>ΝΔ</td>\n",
       "      <td>544</td>\n",
       "      <td>21η</td>\n",
       "    </tr>\n",
       "    <tr>\n",
       "      <th>41</th>\n",
       "      <td>21</td>\n",
       "      <td>ΣΥΡΙΖΑ</td>\n",
       "      <td>1021</td>\n",
       "      <td>21η</td>\n",
       "    </tr>\n",
       "  </tbody>\n",
       "</table>\n",
       "</div>"
      ],
      "text/plain": [
       "    day   Κόμμα    id day_text\n",
       "0   1    ΝΔ      221   1η     \n",
       "1   1    ΣΥΡΙΖΑ  571   1η     \n",
       "2   2    ΝΔ      197   2η     \n",
       "3   2    ΣΥΡΙΖΑ  875   2η     \n",
       "4   3    ΝΔ      344   3η     \n",
       "5   3    ΣΥΡΙΖΑ  936   3η     \n",
       "6   4    ΝΔ      506   4η     \n",
       "7   4    ΣΥΡΙΖΑ  1209  4η     \n",
       "8   5    ΝΔ      361   5η     \n",
       "9   5    ΣΥΡΙΖΑ  996   5η     \n",
       "10  6    ΝΔ      358   6η     \n",
       "11  6    ΣΥΡΙΖΑ  1989  6η     \n",
       "12  7    ΝΔ      455   7η     \n",
       "13  7    ΣΥΡΙΖΑ  2431  7η     \n",
       "14  8    ΝΔ      844   8η     \n",
       "15  8    ΣΥΡΙΖΑ  2224  8η     \n",
       "16  9    ΝΔ      702   9η     \n",
       "17  9    ΣΥΡΙΖΑ  1529  9η     \n",
       "18  10   ΝΔ      906   10η    \n",
       "19  10   ΣΥΡΙΖΑ  1754  10η    \n",
       "20  11   ΝΔ      436   11η    \n",
       "21  11   ΣΥΡΙΖΑ  1558  11η    \n",
       "22  12   ΝΔ      3029  12η    \n",
       "23  12   ΣΥΡΙΖΑ  1584  12η    \n",
       "24  13   ΝΔ      1507  13η    \n",
       "25  13   ΣΥΡΙΖΑ  1537  13η    \n",
       "26  14   ΝΔ      1103  14η    \n",
       "27  14   ΣΥΡΙΖΑ  1585  14η    \n",
       "28  15   ΝΔ      690   15η    \n",
       "29  15   ΣΥΡΙΖΑ  1151  15η    \n",
       "30  16   ΝΔ      670   16η    \n",
       "31  16   ΣΥΡΙΖΑ  1141  16η    \n",
       "32  17   ΝΔ      446   17η    \n",
       "33  17   ΣΥΡΙΖΑ  1346  17η    \n",
       "34  18   ΝΔ      356   18η    \n",
       "35  18   ΣΥΡΙΖΑ  1025  18η    \n",
       "36  19   ΝΔ      432   19η    \n",
       "37  19   ΣΥΡΙΖΑ  906   19η    \n",
       "38  20   ΝΔ      593   20η    \n",
       "39  20   ΣΥΡΙΖΑ  1552  20η    \n",
       "40  21   ΝΔ      544   21η    \n",
       "41  21   ΣΥΡΙΖΑ  1021  21η    "
      ]
     },
     "execution_count": 52,
     "metadata": {},
     "output_type": "execute_result"
    }
   ],
   "source": [
    "df_tmp3"
   ]
  },
  {
   "cell_type": "code",
   "execution_count": 53,
   "metadata": {},
   "outputs": [
    {
     "data": {
      "text/plain": [
       "Text(0,0.5,'Number of tweets')"
      ]
     },
     "execution_count": 53,
     "metadata": {},
     "output_type": "execute_result"
    },
    {
     "data": {
      "image/png": "[encoded data removed]",
      "text/plain": [
       "<matplotlib.figure.Figure at 0x7f4d7d786c50>"
      ]
     },
     "metadata": {},
     "output_type": "display_data"
    }
   ],
   "source": [
    "# set size of plot\n",
    "plt.figure(figsize=(17,8))\n",
    "# set the colors of the lines\n",
    "colors = [\"#0B19CC\", \"#ca272c\"]\n",
    "sns.set_palette(palette=colors)\n",
    "# create the plot\n",
    "#ax = sns.lineplot(x=\"day\", y=\"id\", hue=\"Κόμμα\", data=df_tmp3)\n",
    "ax = sns.pointplot(x=\"day_text\", y=\"id\", hue=\"Κόμμα\", data=df_tmp3)\n",
    "\n",
    "# resize axis \n",
    "ax.tick_params(axis='x', labelsize=15)\n",
    "ax.tick_params(axis='y', labelsize=15)\n",
    "\n",
    "# add the texts\n",
    "plt.text(0, 2500,'\\n'.join(df_tmp2.searchParam.unique()), fontsize=12)\n",
    "# plt.text(-0.5, 300,'Πρωτομαγιά', fontsize=12, color='green')\n",
    "# plt.text(1.3, 500,'Έντονη συζήτηση \\nγια την πυρκαγιά \\nστο Μάτι', fontsize=12)\n",
    "# plt.text(5.1, 1700,'Έντονη συζήτηση για Τσίπρα \\nκαι κότερο Παναγόπουλου', fontsize=12, color='#ca272c')\n",
    "# plt.text(6.5, 2400,'Εξαγγελία Τσίπρα \\nγια θετικά μέτρα', fontsize=12, color='#ca272c')\n",
    "# plt.text(8, 1800,'Ψήφος εμπιστοσύνης \\nστην κυβένρηση', fontsize=12, color='green')\n",
    "# #plt.text(9.4, 1700,'Ποσοσφαιρικός τελικός \\nκυπέλλου', fontsize=12, color='green')\n",
    "# plt.text(8.7, 2900,'Αναφορά Μητσοτάκη \\nσε 7ήμερη εργασία', fontsize=12, color='#0B19CC')\n",
    "\n",
    "# Add labels\n",
    "plt.title('Comparison of number tweets SYRIZA vs. NEW DEMOCRACY \\n 1 May - 21 May', fontsize=18)\n",
    "plt.xlabel('Day', fontsize=18)\n",
    "plt.ylabel('Number of tweets', fontsize=18)"
   ]
  },
  {
   "cell_type": "markdown",
   "metadata": {},
   "source": [
    "#### -- The same as the above but for separate hashtags"
   ]
  },
  {
   "cell_type": "code",
   "execution_count": 42,
   "metadata": {},
   "outputs": [],
   "source": [
    "# df_tmp3b = df_tmp2.groupby(['day','searchParam'], as_index=False)['id'].count()\n",
    "# df_tmp3b['day_text'] = df_tmp3b['day'].apply(lambda x: str(x)+'η')\n",
    "\n",
    "# # set size of plot\n",
    "# plt.figure(figsize=(17,8))\n",
    "# # set the colors of the lines\n",
    "# #colors = [\"#0B19CC\", \"#D474DA\", ]\n",
    "# colors = [\"#0B19CC\", \"#74A0DA\", \"#ca272c\", \"#D786BB\"]\n",
    "# sns.set_palette(palette=colors)\n",
    "# # create the plot\n",
    "# ax = sns.lineplot(x=\"day_text\", y=\"id\", hue=\"searchParam\", data=df_tmp3b)\n",
    "\n",
    "# # add the texts\n",
    "# #plt.text(1, 2500,'\\n'.join(df_tmp2.searchParam.unique()), fontsize=12)\n",
    "\n",
    "# ax.tick_params(axis='x', labelsize=15)\n",
    "# ax.tick_params(axis='y', labelsize=15)\n",
    "\n",
    "# # Add labels\n",
    "# plt.title('Σύγκριση αριθμού tweets ΣΥΡΙΖΑ vs ΝΕΑ ΔΗΜΟΚΡΑΤΙΑ \\n 1 Μαϊου - 15 Μαϊου', fontsize=18)\n",
    "# plt.xlabel('Μέρα', fontsize=18)\n",
    "# plt.ylabel('Αριθμός tweets', fontsize=18)"
   ]
  },
  {
   "cell_type": "markdown",
   "metadata": {},
   "source": [
    "#### --- All time"
   ]
  },
  {
   "cell_type": "code",
   "execution_count": 54,
   "metadata": {},
   "outputs": [
    {
     "data": {
      "text/html": [
       "<div>\n",
       "<style scoped>\n",
       "    .dataframe tbody tr th:only-of-type {\n",
       "        vertical-align: middle;\n",
       "    }\n",
       "\n",
       "    .dataframe tbody tr th {\n",
       "        vertical-align: top;\n",
       "    }\n",
       "\n",
       "    .dataframe thead th {\n",
       "        text-align: right;\n",
       "    }\n",
       "</style>\n",
       "<table border=\"1\" class=\"dataframe\">\n",
       "  <thead>\n",
       "    <tr style=\"text-align: right;\">\n",
       "      <th></th>\n",
       "      <th>Κόμμα</th>\n",
       "      <th>Hashtag</th>\n",
       "      <th>Αριθμός tweets</th>\n",
       "    </tr>\n",
       "  </thead>\n",
       "  <tbody>\n",
       "    <tr>\n",
       "      <th>0</th>\n",
       "      <td>ΝΔ</td>\n",
       "      <td>#Μητσοτακης</td>\n",
       "      <td>9587</td>\n",
       "    </tr>\n",
       "    <tr>\n",
       "      <th>1</th>\n",
       "      <td>ΝΔ</td>\n",
       "      <td>#ΝΔ</td>\n",
       "      <td>5113</td>\n",
       "    </tr>\n",
       "    <tr>\n",
       "      <th>2</th>\n",
       "      <td>ΣΥΡΙΖΑ</td>\n",
       "      <td>#ΣΥΡΙΖΑ</td>\n",
       "      <td>15018</td>\n",
       "    </tr>\n",
       "    <tr>\n",
       "      <th>3</th>\n",
       "      <td>ΣΥΡΙΖΑ</td>\n",
       "      <td>#Τσιπρας</td>\n",
       "      <td>13902</td>\n",
       "    </tr>\n",
       "  </tbody>\n",
       "</table>\n",
       "</div>"
      ],
      "text/plain": [
       "    Κόμμα      Hashtag  Αριθμός tweets\n",
       "0  ΝΔ      #Μητσοτακης  9587          \n",
       "1  ΝΔ      #ΝΔ          5113          \n",
       "2  ΣΥΡΙΖΑ  #ΣΥΡΙΖΑ      15018         \n",
       "3  ΣΥΡΙΖΑ  #Τσιπρας     13902         "
      ]
     },
     "execution_count": 54,
     "metadata": {},
     "output_type": "execute_result"
    }
   ],
   "source": [
    "df_tmp4 = df_tmp2.groupby(['Κόμμα','searchParam'], as_index=False)['id'].count()\n",
    "df_tmp4.columns = ['Κόμμα', 'Hashtag', 'Αριθμός tweets']\n",
    "df_tmp4"
   ]
  },
  {
   "cell_type": "code",
   "execution_count": 55,
   "metadata": {},
   "outputs": [],
   "source": [
    "logo_nd = plt.imread('images/nd_logo.jpg')\n",
    "mitsotakis = plt.imread('images/mitsotakis.png')\n",
    "logo_syriza = plt.imread('images/syriza_logo.jpg')\n",
    "tsipras = plt.imread('images/tsipras.jpg')"
   ]
  },
  {
   "cell_type": "code",
   "execution_count": 58,
   "metadata": {},
   "outputs": [
    {
     "data": {
      "text/plain": [
       "Text(0,0.5,'Number of tweets')"
      ]
     },
     "execution_count": 58,
     "metadata": {},
     "output_type": "execute_result"
    },
    {
     "data": {
      "image/png": "[encoded data removed]",
      "text/plain": [
       "<matplotlib.figure.Figure at 0x7f4d30aac7b8>"
      ]
     },
     "metadata": {},
     "output_type": "display_data"
    }
   ],
   "source": [
    "# set size of plot\n",
    "plt.figure(figsize=(8,6))\n",
    "# set the colors of the bars\n",
    "colors = [\"#0B19CC\", \"#74A0DA\", \"#ca272c\", \"#D786BB\"]\n",
    "sns.set_palette(palette=colors)\n",
    "# create the plot\n",
    "ax = sns.barplot(x=\"Κόμμα\", y=\"Αριθμός tweets\", hue=\"Hashtag\", data=df_tmp4)\n",
    "\n",
    "#ax.align='left'\n",
    "\n",
    "# add images\n",
    "# ax.figure.figimage(logo_nd, 142, 110, zorder=1)\n",
    "# ax.figure.figimage(mitsotakis, 97, 220, zorder=1)\n",
    "# ax.figure.figimage(logo_syriza, 410, 297, zorder=1)\n",
    "# ax.figure.figimage(tsipras, 455, 314, zorder=1)\n",
    "\n",
    "# # remove axis\n",
    "# ax.axes.get_xaxis().set_ticks([])\n",
    "# # add axes manually\n",
    "# plt.text(-1, -1,'ΝΔ', fontsize=12, color='blue')\n",
    "# #plt.text(-0.2, 950,'Πρωτομαγιά', fontsize=12, color='green')\n",
    "\n",
    "# Add labels\n",
    "plt.title('Total number of tweets NEW DEMOCRACY vs SYRIZA  \\n 1 May - 21 May', fontsize=14)\n",
    "plt.xlabel('Political party', fontsize=14)\n",
    "plt.ylabel('Number of tweets', fontsize=14)"
   ]
  },
  {
   "cell_type": "markdown",
   "metadata": {},
   "source": [
    "### - Overall negativity of all hashtags – horizontal boxplot"
   ]
  },
  {
   "cell_type": "code",
   "execution_count": 59,
   "metadata": {},
   "outputs": [
    {
     "data": {
      "text/html": [
       "<div>\n",
       "<style scoped>\n",
       "    .dataframe tbody tr th:only-of-type {\n",
       "        vertical-align: middle;\n",
       "    }\n",
       "\n",
       "    .dataframe tbody tr th {\n",
       "        vertical-align: top;\n",
       "    }\n",
       "\n",
       "    .dataframe thead th {\n",
       "        text-align: right;\n",
       "    }\n",
       "</style>\n",
       "<table border=\"1\" class=\"dataframe\">\n",
       "  <thead>\n",
       "    <tr style=\"text-align: right;\">\n",
       "      <th></th>\n",
       "      <th>Hashtag</th>\n",
       "      <th>Numbers</th>\n",
       "      <th>Ποσοστό αρνητικών tweets</th>\n",
       "    </tr>\n",
       "  </thead>\n",
       "  <tbody>\n",
       "    <tr>\n",
       "      <th>3</th>\n",
       "      <td>#ΣΥΡΙΖΑ</td>\n",
       "      <td>[11811, 3207]</td>\n",
       "      <td>78.645625</td>\n",
       "    </tr>\n",
       "    <tr>\n",
       "      <th>1</th>\n",
       "      <td>#Μητσοτακης</td>\n",
       "      <td>[7312, 2275]</td>\n",
       "      <td>76.269949</td>\n",
       "    </tr>\n",
       "    <tr>\n",
       "      <th>0</th>\n",
       "      <td>#Βουλή</td>\n",
       "      <td>[8470, 2680]</td>\n",
       "      <td>75.964126</td>\n",
       "    </tr>\n",
       "    <tr>\n",
       "      <th>4</th>\n",
       "      <td>#Τσιπρας</td>\n",
       "      <td>[9979, 3923]</td>\n",
       "      <td>71.781039</td>\n",
       "    </tr>\n",
       "    <tr>\n",
       "      <th>2</th>\n",
       "      <td>#ΝΔ</td>\n",
       "      <td>[3459, 1654]</td>\n",
       "      <td>67.651085</td>\n",
       "    </tr>\n",
       "    <tr>\n",
       "      <th>5</th>\n",
       "      <td>#εκλογες</td>\n",
       "      <td>[1880, 1916]</td>\n",
       "      <td>49.525817</td>\n",
       "    </tr>\n",
       "  </tbody>\n",
       "</table>\n",
       "</div>"
      ],
      "text/plain": [
       "       Hashtag        Numbers  Ποσοστό αρνητικών tweets\n",
       "3  #ΣΥΡΙΖΑ      [11811, 3207]  78.645625               \n",
       "1  #Μητσοτακης  [7312, 2275]   76.269949               \n",
       "0  #Βουλή       [8470, 2680]   75.964126               \n",
       "4  #Τσιπρας     [9979, 3923]   71.781039               \n",
       "2  #ΝΔ          [3459, 1654]   67.651085               \n",
       "5  #εκλογες     [1880, 1916]   49.525817               "
      ]
     },
     "execution_count": 59,
     "metadata": {},
     "output_type": "execute_result"
    }
   ],
   "source": [
    "df_tmp5 = df_tweets2.copy()\n",
    "# merge those hashtags '#εκλογες', '#ekloges2019', '#ekloges' to a common\n",
    "df_tmp5['searchParam'] = df_tmp5['searchParam'].apply(lambda x: \n",
    "                        '#εκλογες' if x in ['#εκλογες', '#ekloges2019', '#ekloges']\n",
    "                                else x)\n",
    "\n",
    "df_tmp5 = df_tmp5.groupby(['searchParam', 'Prediction3'], as_index=False)['id'].count()\n",
    "\n",
    "df_tmp5 = df_tmp5.groupby('searchParam')['id'].apply(list)\n",
    "\n",
    "df_tmp5 = pd.DataFrame({'Hashtag':df_tmp5.index, 'Numbers':df_tmp5.values})\n",
    "df_tmp5['Neg_Perc'] = df_tmp5['Numbers'].apply(lambda x: 100*(x[0]/(x[0]+x[1])))\n",
    "df_tmp5 = df_tmp5.sort_values(by=['Neg_Perc'], ascending=False)\n",
    "df_tmp5.columns = ['Hashtag', 'Numbers', 'Ποσοστό αρνητικών tweets']\n",
    "df_tmp5"
   ]
  },
  {
   "cell_type": "markdown",
   "metadata": {},
   "source": [
    "#### -- For all hashtags "
   ]
  },
  {
   "cell_type": "code",
   "execution_count": 60,
   "metadata": {},
   "outputs": [],
   "source": [
    "ekloges = plt.imread('images/ekloges.jpg')\n",
    "vouli = plt.imread('images/vouli.jpg')"
   ]
  },
  {
   "cell_type": "code",
   "execution_count": 62,
   "metadata": {},
   "outputs": [
    {
     "data": {
      "text/plain": [
       "(array([0, 1, 2, 3, 4, 5]), <a list of 6 Text xticklabel objects>)"
      ]
     },
     "execution_count": 62,
     "metadata": {},
     "output_type": "execute_result"
    },
    {
     "data": {
      "image/png": "[encoded data removed]",
      "text/plain": [
       "<matplotlib.figure.Figure at 0x7f4d30096588>"
      ]
     },
     "metadata": {},
     "output_type": "display_data"
    }
   ],
   "source": [
    "# set size of plot\n",
    "plt.figure(figsize=(8,6))\n",
    "# set the colors of the bars\n",
    "colors = [\"#ca272c\", '#0B19CC', \"#86D7B4\",  \"#D786BB\",\n",
    "          \"#74A0DA\", '#CD2E4D', '#CBCD2E', '#3F0773']\n",
    "sns.set_palette(palette=colors)\n",
    "# create the plot\n",
    "ax = sns.barplot(x=\"Hashtag\", y=\"Ποσοστό αρνητικών tweets\", data=df_tmp5)\n",
    "\n",
    "# # add images\n",
    "# ax.figure.figimage(logo_nd, 365, 330, zorder=1)\n",
    "# ax.figure.figimage(mitsotakis, 144, 360, zorder=1)\n",
    "# ax.figure.figimage(logo_syriza, 70, 370, zorder=1)\n",
    "# ax.figure.figimage(tsipras, 293, 340, zorder=1)\n",
    "# ax.figure.figimage(ekloges, 440, 260, zorder=1)\n",
    "# ax.figure.figimage(vouli, 215, 358, zorder=1)\n",
    "\n",
    "# Add labels\n",
    "plt.title('Percentage of negative tweets per hashtag \\n 1 May - 21 May')\n",
    "plt.xlabel('Hashtag', fontsize=14)\n",
    "plt.ylabel('Percentage of negative tweets', fontsize=14)\n",
    "plt.xticks(rotation=50)"
   ]
  },
  {
   "cell_type": "markdown",
   "metadata": {},
   "source": [
    "#### -- For nd vs syriza"
   ]
  },
  {
   "cell_type": "code",
   "execution_count": 63,
   "metadata": {},
   "outputs": [
    {
     "name": "stderr",
     "output_type": "stream",
     "text": [
      "/home/infilab/anaconda3/lib/python3.6/site-packages/ipykernel/__main__.py:3: SettingWithCopyWarning: \n",
      "A value is trying to be set on a copy of a slice from a DataFrame.\n",
      "Try using .loc[row_indexer,col_indexer] = value instead\n",
      "\n",
      "See the caveats in the documentation: http://pandas.pydata.org/pandas-docs/stable/indexing.html#indexing-view-versus-copy\n",
      "  app.launch_new_instance()\n"
     ]
    },
    {
     "data": {
      "text/html": [
       "<div>\n",
       "<style scoped>\n",
       "    .dataframe tbody tr th:only-of-type {\n",
       "        vertical-align: middle;\n",
       "    }\n",
       "\n",
       "    .dataframe tbody tr th {\n",
       "        vertical-align: top;\n",
       "    }\n",
       "\n",
       "    .dataframe thead th {\n",
       "        text-align: right;\n",
       "    }\n",
       "</style>\n",
       "<table border=\"1\" class=\"dataframe\">\n",
       "  <thead>\n",
       "    <tr style=\"text-align: right;\">\n",
       "      <th></th>\n",
       "      <th>Hashtag</th>\n",
       "      <th>Numbers</th>\n",
       "      <th>Ποσοστό αρνητικών tweets</th>\n",
       "      <th>Κόμμα</th>\n",
       "    </tr>\n",
       "  </thead>\n",
       "  <tbody>\n",
       "    <tr>\n",
       "      <th>1</th>\n",
       "      <td>#Μητσοτακης</td>\n",
       "      <td>[7312, 2275]</td>\n",
       "      <td>76.269949</td>\n",
       "      <td>ΝΔ</td>\n",
       "    </tr>\n",
       "    <tr>\n",
       "      <th>2</th>\n",
       "      <td>#ΝΔ</td>\n",
       "      <td>[3459, 1654]</td>\n",
       "      <td>67.651085</td>\n",
       "      <td>ΝΔ</td>\n",
       "    </tr>\n",
       "    <tr>\n",
       "      <th>3</th>\n",
       "      <td>#ΣΥΡΙΖΑ</td>\n",
       "      <td>[11811, 3207]</td>\n",
       "      <td>78.645625</td>\n",
       "      <td>ΣΥΡΙΖΑ</td>\n",
       "    </tr>\n",
       "    <tr>\n",
       "      <th>4</th>\n",
       "      <td>#Τσιπρας</td>\n",
       "      <td>[9979, 3923]</td>\n",
       "      <td>71.781039</td>\n",
       "      <td>ΣΥΡΙΖΑ</td>\n",
       "    </tr>\n",
       "  </tbody>\n",
       "</table>\n",
       "</div>"
      ],
      "text/plain": [
       "       Hashtag        Numbers  Ποσοστό αρνητικών tweets   Κόμμα\n",
       "1  #Μητσοτακης  [7312, 2275]   76.269949                 ΝΔ    \n",
       "2  #ΝΔ          [3459, 1654]   67.651085                 ΝΔ    \n",
       "3  #ΣΥΡΙΖΑ      [11811, 3207]  78.645625                 ΣΥΡΙΖΑ\n",
       "4  #Τσιπρας     [9979, 3923]   71.781039                 ΣΥΡΙΖΑ"
      ]
     },
     "execution_count": 63,
     "metadata": {},
     "output_type": "execute_result"
    }
   ],
   "source": [
    "df_tmp6 = df_tmp5[df_tmp5.Hashtag.isin(hstgs1)]\n",
    "# group hashtags based on their meaning\n",
    "df_tmp6['Κόμμα'] = df_tmp6['Hashtag'].apply(lambda x: 'ΣΥΡΙΖΑ' if x in ['#ΣΥΡΙΖΑ', '#Τσιπρας']\n",
    "                                                          else 'ΝΔ' if x in ['#ΝΔ', '#Μητσοτακης']\n",
    "                                                          else 'ΓΕΝΙΚΑ')\n",
    "df_tmp6 = df_tmp6.sort_values(by=['Κόμμα'])\n",
    "df_tmp6"
   ]
  },
  {
   "cell_type": "code",
   "execution_count": 66,
   "metadata": {},
   "outputs": [
    {
     "data": {
      "text/plain": [
       "Text(0,0.5,'Percentage of negative tweets')"
      ]
     },
     "execution_count": 66,
     "metadata": {},
     "output_type": "execute_result"
    },
    {
     "data": {
      "image/png": "[encoded data removed]",
      "text/plain": [
       "<matplotlib.figure.Figure at 0x7f4d3002a5f8>"
      ]
     },
     "metadata": {},
     "output_type": "display_data"
    }
   ],
   "source": [
    "# set size of plot\n",
    "plt.figure(figsize=(8,6))\n",
    "# set the colors of the bars\n",
    "colors = [\"#0B19CC\", \"#74A0DA\", \"#ca272c\", \"#D786BB\"]\n",
    "sns.set_palette(palette=colors)\n",
    "      \n",
    "# create the plot\n",
    "ax = sns.barplot(x=\"Κόμμα\", y=\"Ποσοστό αρνητικών tweets\", hue=\"Hashtag\", data=df_tmp6)\n",
    "\n",
    "# Add labels\n",
    "plt.title('Percentage of negative tweets per hashtag NEW DEMOCRACY vs SYRIZA  \\n 1 May - 21 May', fontsize=14)\n",
    "plt.xlabel('Political party', fontsize=14)\n",
    "plt.ylabel('Percentage of negative tweets', fontsize=14)\n",
    "\n",
    "# # add images\n",
    "# ax.figure.figimage(logo_nd, 122, 271, zorder=1)\n",
    "# ax.figure.figimage(mitsotakis, 77, 303, zorder=1)\n",
    "# ax.figure.figimage(logo_syriza, 390, 316, zorder=1)\n",
    "# ax.figure.figimage(tsipras, 435, 285, zorder=1)"
   ]
  },
  {
   "cell_type": "markdown",
   "metadata": {},
   "source": [
    "#### -- Negativity of tweets over time for nd & syriza hashtags "
   ]
  },
  {
   "cell_type": "code",
   "execution_count": 67,
   "metadata": {},
   "outputs": [
    {
     "data": {
      "text/html": [
       "<div>\n",
       "<style scoped>\n",
       "    .dataframe tbody tr th:only-of-type {\n",
       "        vertical-align: middle;\n",
       "    }\n",
       "\n",
       "    .dataframe tbody tr th {\n",
       "        vertical-align: top;\n",
       "    }\n",
       "\n",
       "    .dataframe thead th {\n",
       "        text-align: right;\n",
       "    }\n",
       "</style>\n",
       "<table border=\"1\" class=\"dataframe\">\n",
       "  <thead>\n",
       "    <tr style=\"text-align: right;\">\n",
       "      <th></th>\n",
       "      <th>day</th>\n",
       "      <th>Κόμμα</th>\n",
       "      <th>id</th>\n",
       "      <th>day_text</th>\n",
       "      <th>Neg_Perc</th>\n",
       "    </tr>\n",
       "  </thead>\n",
       "  <tbody>\n",
       "    <tr>\n",
       "      <th>0</th>\n",
       "      <td>1</td>\n",
       "      <td>ΝΔ</td>\n",
       "      <td>[155, 66]</td>\n",
       "      <td>1η</td>\n",
       "      <td>70.135747</td>\n",
       "    </tr>\n",
       "    <tr>\n",
       "      <th>1</th>\n",
       "      <td>1</td>\n",
       "      <td>ΣΥΡΙΖΑ</td>\n",
       "      <td>[454, 117]</td>\n",
       "      <td>1η</td>\n",
       "      <td>79.509632</td>\n",
       "    </tr>\n",
       "    <tr>\n",
       "      <th>2</th>\n",
       "      <td>2</td>\n",
       "      <td>ΝΔ</td>\n",
       "      <td>[109, 88]</td>\n",
       "      <td>2η</td>\n",
       "      <td>55.329949</td>\n",
       "    </tr>\n",
       "    <tr>\n",
       "      <th>3</th>\n",
       "      <td>2</td>\n",
       "      <td>ΣΥΡΙΖΑ</td>\n",
       "      <td>[631, 244]</td>\n",
       "      <td>2η</td>\n",
       "      <td>72.114286</td>\n",
       "    </tr>\n",
       "    <tr>\n",
       "      <th>4</th>\n",
       "      <td>3</td>\n",
       "      <td>ΝΔ</td>\n",
       "      <td>[264, 80]</td>\n",
       "      <td>3η</td>\n",
       "      <td>76.744186</td>\n",
       "    </tr>\n",
       "    <tr>\n",
       "      <th>5</th>\n",
       "      <td>3</td>\n",
       "      <td>ΣΥΡΙΖΑ</td>\n",
       "      <td>[696, 240]</td>\n",
       "      <td>3η</td>\n",
       "      <td>74.358974</td>\n",
       "    </tr>\n",
       "    <tr>\n",
       "      <th>6</th>\n",
       "      <td>4</td>\n",
       "      <td>ΝΔ</td>\n",
       "      <td>[390, 116]</td>\n",
       "      <td>4η</td>\n",
       "      <td>77.075099</td>\n",
       "    </tr>\n",
       "    <tr>\n",
       "      <th>7</th>\n",
       "      <td>4</td>\n",
       "      <td>ΣΥΡΙΖΑ</td>\n",
       "      <td>[1068, 141]</td>\n",
       "      <td>4η</td>\n",
       "      <td>88.337469</td>\n",
       "    </tr>\n",
       "    <tr>\n",
       "      <th>8</th>\n",
       "      <td>5</td>\n",
       "      <td>ΝΔ</td>\n",
       "      <td>[280, 81]</td>\n",
       "      <td>5η</td>\n",
       "      <td>77.562327</td>\n",
       "    </tr>\n",
       "    <tr>\n",
       "      <th>9</th>\n",
       "      <td>5</td>\n",
       "      <td>ΣΥΡΙΖΑ</td>\n",
       "      <td>[874, 122]</td>\n",
       "      <td>5η</td>\n",
       "      <td>87.751004</td>\n",
       "    </tr>\n",
       "    <tr>\n",
       "      <th>10</th>\n",
       "      <td>6</td>\n",
       "      <td>ΝΔ</td>\n",
       "      <td>[208, 150]</td>\n",
       "      <td>6η</td>\n",
       "      <td>58.100559</td>\n",
       "    </tr>\n",
       "    <tr>\n",
       "      <th>11</th>\n",
       "      <td>6</td>\n",
       "      <td>ΣΥΡΙΖΑ</td>\n",
       "      <td>[1521, 468]</td>\n",
       "      <td>6η</td>\n",
       "      <td>76.470588</td>\n",
       "    </tr>\n",
       "    <tr>\n",
       "      <th>12</th>\n",
       "      <td>7</td>\n",
       "      <td>ΝΔ</td>\n",
       "      <td>[315, 140]</td>\n",
       "      <td>7η</td>\n",
       "      <td>69.230769</td>\n",
       "    </tr>\n",
       "    <tr>\n",
       "      <th>13</th>\n",
       "      <td>7</td>\n",
       "      <td>ΣΥΡΙΖΑ</td>\n",
       "      <td>[1815, 616]</td>\n",
       "      <td>7η</td>\n",
       "      <td>74.660633</td>\n",
       "    </tr>\n",
       "    <tr>\n",
       "      <th>14</th>\n",
       "      <td>8</td>\n",
       "      <td>ΝΔ</td>\n",
       "      <td>[614, 230]</td>\n",
       "      <td>8η</td>\n",
       "      <td>72.748815</td>\n",
       "    </tr>\n",
       "    <tr>\n",
       "      <th>15</th>\n",
       "      <td>8</td>\n",
       "      <td>ΣΥΡΙΖΑ</td>\n",
       "      <td>[1680, 544]</td>\n",
       "      <td>8η</td>\n",
       "      <td>75.539568</td>\n",
       "    </tr>\n",
       "    <tr>\n",
       "      <th>16</th>\n",
       "      <td>9</td>\n",
       "      <td>ΝΔ</td>\n",
       "      <td>[515, 187]</td>\n",
       "      <td>9η</td>\n",
       "      <td>73.361823</td>\n",
       "    </tr>\n",
       "    <tr>\n",
       "      <th>17</th>\n",
       "      <td>9</td>\n",
       "      <td>ΣΥΡΙΖΑ</td>\n",
       "      <td>[1140, 389]</td>\n",
       "      <td>9η</td>\n",
       "      <td>74.558535</td>\n",
       "    </tr>\n",
       "    <tr>\n",
       "      <th>18</th>\n",
       "      <td>10</td>\n",
       "      <td>ΝΔ</td>\n",
       "      <td>[634, 272]</td>\n",
       "      <td>10η</td>\n",
       "      <td>69.977925</td>\n",
       "    </tr>\n",
       "    <tr>\n",
       "      <th>19</th>\n",
       "      <td>10</td>\n",
       "      <td>ΣΥΡΙΖΑ</td>\n",
       "      <td>[1377, 377]</td>\n",
       "      <td>10η</td>\n",
       "      <td>78.506271</td>\n",
       "    </tr>\n",
       "    <tr>\n",
       "      <th>20</th>\n",
       "      <td>11</td>\n",
       "      <td>ΝΔ</td>\n",
       "      <td>[337, 99]</td>\n",
       "      <td>11η</td>\n",
       "      <td>77.293578</td>\n",
       "    </tr>\n",
       "    <tr>\n",
       "      <th>21</th>\n",
       "      <td>11</td>\n",
       "      <td>ΣΥΡΙΖΑ</td>\n",
       "      <td>[1157, 401]</td>\n",
       "      <td>11η</td>\n",
       "      <td>74.261874</td>\n",
       "    </tr>\n",
       "    <tr>\n",
       "      <th>22</th>\n",
       "      <td>12</td>\n",
       "      <td>ΝΔ</td>\n",
       "      <td>[2525, 504]</td>\n",
       "      <td>12η</td>\n",
       "      <td>83.360845</td>\n",
       "    </tr>\n",
       "    <tr>\n",
       "      <th>23</th>\n",
       "      <td>12</td>\n",
       "      <td>ΣΥΡΙΖΑ</td>\n",
       "      <td>[1264, 320]</td>\n",
       "      <td>12η</td>\n",
       "      <td>79.797980</td>\n",
       "    </tr>\n",
       "    <tr>\n",
       "      <th>24</th>\n",
       "      <td>13</td>\n",
       "      <td>ΝΔ</td>\n",
       "      <td>[1179, 328]</td>\n",
       "      <td>13η</td>\n",
       "      <td>78.234904</td>\n",
       "    </tr>\n",
       "    <tr>\n",
       "      <th>25</th>\n",
       "      <td>13</td>\n",
       "      <td>ΣΥΡΙΖΑ</td>\n",
       "      <td>[1256, 281]</td>\n",
       "      <td>13η</td>\n",
       "      <td>81.717632</td>\n",
       "    </tr>\n",
       "    <tr>\n",
       "      <th>26</th>\n",
       "      <td>14</td>\n",
       "      <td>ΝΔ</td>\n",
       "      <td>[872, 231]</td>\n",
       "      <td>14η</td>\n",
       "      <td>79.057117</td>\n",
       "    </tr>\n",
       "    <tr>\n",
       "      <th>27</th>\n",
       "      <td>14</td>\n",
       "      <td>ΣΥΡΙΖΑ</td>\n",
       "      <td>[1204, 381]</td>\n",
       "      <td>14η</td>\n",
       "      <td>75.962145</td>\n",
       "    </tr>\n",
       "    <tr>\n",
       "      <th>28</th>\n",
       "      <td>15</td>\n",
       "      <td>ΝΔ</td>\n",
       "      <td>[383, 307]</td>\n",
       "      <td>15η</td>\n",
       "      <td>55.507246</td>\n",
       "    </tr>\n",
       "    <tr>\n",
       "      <th>29</th>\n",
       "      <td>15</td>\n",
       "      <td>ΣΥΡΙΖΑ</td>\n",
       "      <td>[801, 350]</td>\n",
       "      <td>15η</td>\n",
       "      <td>69.591659</td>\n",
       "    </tr>\n",
       "    <tr>\n",
       "      <th>30</th>\n",
       "      <td>16</td>\n",
       "      <td>ΝΔ</td>\n",
       "      <td>[480, 190]</td>\n",
       "      <td>16η</td>\n",
       "      <td>71.641791</td>\n",
       "    </tr>\n",
       "    <tr>\n",
       "      <th>31</th>\n",
       "      <td>16</td>\n",
       "      <td>ΣΥΡΙΖΑ</td>\n",
       "      <td>[742, 399]</td>\n",
       "      <td>16η</td>\n",
       "      <td>65.030675</td>\n",
       "    </tr>\n",
       "    <tr>\n",
       "      <th>32</th>\n",
       "      <td>17</td>\n",
       "      <td>ΝΔ</td>\n",
       "      <td>[268, 178]</td>\n",
       "      <td>17η</td>\n",
       "      <td>60.089686</td>\n",
       "    </tr>\n",
       "    <tr>\n",
       "      <th>33</th>\n",
       "      <td>17</td>\n",
       "      <td>ΣΥΡΙΖΑ</td>\n",
       "      <td>[987, 359]</td>\n",
       "      <td>17η</td>\n",
       "      <td>73.328380</td>\n",
       "    </tr>\n",
       "    <tr>\n",
       "      <th>34</th>\n",
       "      <td>18</td>\n",
       "      <td>ΝΔ</td>\n",
       "      <td>[248, 108]</td>\n",
       "      <td>18η</td>\n",
       "      <td>69.662921</td>\n",
       "    </tr>\n",
       "    <tr>\n",
       "      <th>35</th>\n",
       "      <td>18</td>\n",
       "      <td>ΣΥΡΙΖΑ</td>\n",
       "      <td>[784, 241]</td>\n",
       "      <td>18η</td>\n",
       "      <td>76.487805</td>\n",
       "    </tr>\n",
       "    <tr>\n",
       "      <th>36</th>\n",
       "      <td>19</td>\n",
       "      <td>ΝΔ</td>\n",
       "      <td>[276, 156]</td>\n",
       "      <td>19η</td>\n",
       "      <td>63.888889</td>\n",
       "    </tr>\n",
       "    <tr>\n",
       "      <th>37</th>\n",
       "      <td>19</td>\n",
       "      <td>ΣΥΡΙΖΑ</td>\n",
       "      <td>[637, 269]</td>\n",
       "      <td>19η</td>\n",
       "      <td>70.309051</td>\n",
       "    </tr>\n",
       "    <tr>\n",
       "      <th>38</th>\n",
       "      <td>20</td>\n",
       "      <td>ΝΔ</td>\n",
       "      <td>[383, 210]</td>\n",
       "      <td>20η</td>\n",
       "      <td>64.586847</td>\n",
       "    </tr>\n",
       "    <tr>\n",
       "      <th>39</th>\n",
       "      <td>20</td>\n",
       "      <td>ΣΥΡΙΖΑ</td>\n",
       "      <td>[1006, 546]</td>\n",
       "      <td>20η</td>\n",
       "      <td>64.819588</td>\n",
       "    </tr>\n",
       "    <tr>\n",
       "      <th>40</th>\n",
       "      <td>21</td>\n",
       "      <td>ΝΔ</td>\n",
       "      <td>[336, 208]</td>\n",
       "      <td>21η</td>\n",
       "      <td>61.764706</td>\n",
       "    </tr>\n",
       "    <tr>\n",
       "      <th>41</th>\n",
       "      <td>21</td>\n",
       "      <td>ΣΥΡΙΖΑ</td>\n",
       "      <td>[696, 325]</td>\n",
       "      <td>21η</td>\n",
       "      <td>68.168462</td>\n",
       "    </tr>\n",
       "  </tbody>\n",
       "</table>\n",
       "</div>"
      ],
      "text/plain": [
       "    day   Κόμμα           id day_text   Neg_Perc\n",
       "0   1    ΝΔ      [155, 66]    1η       70.135747\n",
       "1   1    ΣΥΡΙΖΑ  [454, 117]   1η       79.509632\n",
       "2   2    ΝΔ      [109, 88]    2η       55.329949\n",
       "3   2    ΣΥΡΙΖΑ  [631, 244]   2η       72.114286\n",
       "4   3    ΝΔ      [264, 80]    3η       76.744186\n",
       "5   3    ΣΥΡΙΖΑ  [696, 240]   3η       74.358974\n",
       "6   4    ΝΔ      [390, 116]   4η       77.075099\n",
       "7   4    ΣΥΡΙΖΑ  [1068, 141]  4η       88.337469\n",
       "8   5    ΝΔ      [280, 81]    5η       77.562327\n",
       "9   5    ΣΥΡΙΖΑ  [874, 122]   5η       87.751004\n",
       "10  6    ΝΔ      [208, 150]   6η       58.100559\n",
       "11  6    ΣΥΡΙΖΑ  [1521, 468]  6η       76.470588\n",
       "12  7    ΝΔ      [315, 140]   7η       69.230769\n",
       "13  7    ΣΥΡΙΖΑ  [1815, 616]  7η       74.660633\n",
       "14  8    ΝΔ      [614, 230]   8η       72.748815\n",
       "15  8    ΣΥΡΙΖΑ  [1680, 544]  8η       75.539568\n",
       "16  9    ΝΔ      [515, 187]   9η       73.361823\n",
       "17  9    ΣΥΡΙΖΑ  [1140, 389]  9η       74.558535\n",
       "18  10   ΝΔ      [634, 272]   10η      69.977925\n",
       "19  10   ΣΥΡΙΖΑ  [1377, 377]  10η      78.506271\n",
       "20  11   ΝΔ      [337, 99]    11η      77.293578\n",
       "21  11   ΣΥΡΙΖΑ  [1157, 401]  11η      74.261874\n",
       "22  12   ΝΔ      [2525, 504]  12η      83.360845\n",
       "23  12   ΣΥΡΙΖΑ  [1264, 320]  12η      79.797980\n",
       "24  13   ΝΔ      [1179, 328]  13η      78.234904\n",
       "25  13   ΣΥΡΙΖΑ  [1256, 281]  13η      81.717632\n",
       "26  14   ΝΔ      [872, 231]   14η      79.057117\n",
       "27  14   ΣΥΡΙΖΑ  [1204, 381]  14η      75.962145\n",
       "28  15   ΝΔ      [383, 307]   15η      55.507246\n",
       "29  15   ΣΥΡΙΖΑ  [801, 350]   15η      69.591659\n",
       "30  16   ΝΔ      [480, 190]   16η      71.641791\n",
       "31  16   ΣΥΡΙΖΑ  [742, 399]   16η      65.030675\n",
       "32  17   ΝΔ      [268, 178]   17η      60.089686\n",
       "33  17   ΣΥΡΙΖΑ  [987, 359]   17η      73.328380\n",
       "34  18   ΝΔ      [248, 108]   18η      69.662921\n",
       "35  18   ΣΥΡΙΖΑ  [784, 241]   18η      76.487805\n",
       "36  19   ΝΔ      [276, 156]   19η      63.888889\n",
       "37  19   ΣΥΡΙΖΑ  [637, 269]   19η      70.309051\n",
       "38  20   ΝΔ      [383, 210]   20η      64.586847\n",
       "39  20   ΣΥΡΙΖΑ  [1006, 546]  20η      64.819588\n",
       "40  21   ΝΔ      [336, 208]   21η      61.764706\n",
       "41  21   ΣΥΡΙΖΑ  [696, 325]   21η      68.168462"
      ]
     },
     "execution_count": 67,
     "metadata": {},
     "output_type": "execute_result"
    }
   ],
   "source": [
    "# keep only rows with hashtags of syriza and nd\n",
    "df_tmp7 = df_tweets2[df_tweets2.Κόμμα.isin(['ΣΥΡΙΖΑ', 'ΝΔ'])]\n",
    "# group the tweets by day, κομμα and prediction\n",
    "df_tmp8 = df_tmp7.groupby(['day','Κόμμα', 'Prediction3'], as_index=False)['id'].count()\n",
    "\n",
    "# convert number of tweets to list [negatives, neutrals+positives]\n",
    "df_tmp9 = df_tmp8.groupby(['day', 'Κόμμα'])['id'].apply(list)\n",
    "\n",
    "# convert the above series to dataframe\n",
    "df_tmp9=pd.DataFrame(df_tmp9)\n",
    "# reset the index\n",
    "df_tmp9.reset_index(inplace=True)\n",
    "df_tmp9['day_text'] = df_tmp9['day'].apply(lambda x: str(x)+'η')\n",
    "# calculate the percentage of negative tweets for each day and each political party\n",
    "df_tmp9['Neg_Perc'] = df_tmp9['id'].apply(lambda x: 100*(x[0]/(x[0]+x[1])))\n",
    "df_tmp9"
   ]
  },
  {
   "cell_type": "code",
   "execution_count": 90,
   "metadata": {},
   "outputs": [
    {
     "data": {
      "text/plain": [
       "Text(0,0.5,'Percentage of negative tweets')"
      ]
     },
     "execution_count": 90,
     "metadata": {},
     "output_type": "execute_result"
    },
    {
     "data": {
      "image/png": "[encoded data removed]",
      "text/plain": [
       "<matplotlib.figure.Figure at 0x7f4d2456aa90>"
      ]
     },
     "metadata": {},
     "output_type": "display_data"
    }
   ],
   "source": [
    "# set size of plot\n",
    "plt.figure(figsize=(17,8))\n",
    "# set the colors of the lines\n",
    "colors = [\"#0B19CC\", \"#ca272c\"]\n",
    "sns.set_palette(palette=colors)\n",
    "# create the plot\n",
    "#ax = sns.lineplot(x=\"day\", y=\"Neg_Perc\", hue=\"Κόμμα\", data=df_tmp9)\n",
    "#pointplot\n",
    "ax = sns.pointplot(x=\"day_text\", y=\"Neg_Perc\", hue=\"Κόμμα\", data=df_tmp9)\n",
    "\n",
    "# # add the texts\n",
    "# plt.text(1.3, 78,'Έντονη συζήτηση \\nγια την πυρκαγιά \\nστο Μάτι', fontsize=12)\n",
    "# plt.text(5.1, 83,'Έντονη συζήτηση για Τσίπρα \\nκαι κότερο Παναγόπουλου', fontsize=12, color='#ca272c')\n",
    "# plt.text(6.5, 77,'Εξαγγελία Τσίπρα \\nγια θετικά μέτρα', fontsize=12, color='#ca272c')\n",
    "# plt.text(8, 80,'Ψήφος εμπιστοσύνης \\nστην κυβένρηση', fontsize=12, color='green')\n",
    "# plt.text(9.4, 85,'Αναφορά Μητσοτάκη \\nσε 7ήμερη εργασία', fontsize=12, color='#0B19CC')\n",
    "\n",
    "ax.tick_params(axis='x', labelsize=15)\n",
    "ax.tick_params(axis='y', labelsize=15)\n",
    "\n",
    "# Add labels\n",
    "plt.title('Comparison of negative tweets SYRIZA vs NEW DEMOCRACY  \\n 1 May - 21 May', fontsize=18)\n",
    "plt.xlabel('Day', fontsize=18)\n",
    "plt.ylabel('Percentage of negative tweets', fontsize=18)"
   ]
  },
  {
   "cell_type": "markdown",
   "metadata": {},
   "source": [
    "### - Analysis of twitter users"
   ]
  },
  {
   "cell_type": "markdown",
   "metadata": {},
   "source": [
    "Στα αρνητικα tweets για συριζα και ΝΔ : κάθε χρήστης γράφει π.χ. 3.1 tweets\n",
    "Στον συριζα κάθε χρήστης γράφει π.χ. 2 tweets ενώ στον ΝΔ κάθε χρήστης γράφει π.χ. 1.2 tweets\n",
    "Αρα στον συριζα υπαρχουν υπαρχουν συγκεκριμενοι χρηστες που γραφουν αρνητικα συχνα.\n",
    "\n"
   ]
  },
  {
   "cell_type": "markdown",
   "metadata": {},
   "source": [
    "π.χ Το 60% των αρνητικων tweets για ΝΔ το εχουν γραψει το 20% των χρηστών"
   ]
  },
  {
   "cell_type": "code",
   "execution_count": 70,
   "metadata": {},
   "outputs": [],
   "source": [
    "# drop tweets of the first 3 days because I don't have user_ids\n",
    "df_tweets3 = df_tweets2[df_tweets2.user_id!=111]\n",
    "\n",
    "# keep only tweets of nd and syriza\n",
    "df_tweets3 = df_tweets3[df_tweets3.Κόμμα.isin(['ΣΥΡΙΖΑ', 'ΝΔ'])]"
   ]
  },
  {
   "cell_type": "code",
   "execution_count": 71,
   "metadata": {},
   "outputs": [
    {
     "data": {
      "text/plain": [
       "(40476, 19)"
      ]
     },
     "execution_count": 71,
     "metadata": {},
     "output_type": "execute_result"
    }
   ],
   "source": [
    "df_tweets3.shape"
   ]
  },
  {
   "cell_type": "code",
   "execution_count": 72,
   "metadata": {},
   "outputs": [
    {
     "data": {
      "text/plain": [
       "33262"
      ]
     },
     "execution_count": 72,
     "metadata": {},
     "output_type": "execute_result"
    }
   ],
   "source": [
    "df_tweets3.id.nunique()"
   ]
  },
  {
   "cell_type": "code",
   "execution_count": 73,
   "metadata": {},
   "outputs": [
    {
     "data": {
      "text/plain": [
       "5834"
      ]
     },
     "execution_count": 73,
     "metadata": {},
     "output_type": "execute_result"
    }
   ],
   "source": [
    "df_tweets3.user_id.nunique()"
   ]
  },
  {
   "cell_type": "code",
   "execution_count": 74,
   "metadata": {},
   "outputs": [
    {
     "data": {
      "text/html": [
       "<div>\n",
       "<style scoped>\n",
       "    .dataframe tbody tr th:only-of-type {\n",
       "        vertical-align: middle;\n",
       "    }\n",
       "\n",
       "    .dataframe tbody tr th {\n",
       "        vertical-align: top;\n",
       "    }\n",
       "\n",
       "    .dataframe thead th {\n",
       "        text-align: right;\n",
       "    }\n",
       "</style>\n",
       "<table border=\"1\" class=\"dataframe\">\n",
       "  <thead>\n",
       "    <tr style=\"text-align: right;\">\n",
       "      <th></th>\n",
       "      <th>user_id</th>\n",
       "      <th>id</th>\n",
       "    </tr>\n",
       "  </thead>\n",
       "  <tbody>\n",
       "    <tr>\n",
       "      <th>3068</th>\n",
       "      <td>2831100747</td>\n",
       "      <td>539</td>\n",
       "    </tr>\n",
       "    <tr>\n",
       "      <th>2658</th>\n",
       "      <td>2190423604</td>\n",
       "      <td>432</td>\n",
       "    </tr>\n",
       "    <tr>\n",
       "      <th>3868</th>\n",
       "      <td>4328654057</td>\n",
       "      <td>422</td>\n",
       "    </tr>\n",
       "    <tr>\n",
       "      <th>851</th>\n",
       "      <td>250058740</td>\n",
       "      <td>382</td>\n",
       "    </tr>\n",
       "    <tr>\n",
       "      <th>4980</th>\n",
       "      <td>972148515798470656</td>\n",
       "      <td>277</td>\n",
       "    </tr>\n",
       "  </tbody>\n",
       "</table>\n",
       "</div>"
      ],
      "text/plain": [
       "                 user_id   id\n",
       "3068  2831100747          539\n",
       "2658  2190423604          432\n",
       "3868  4328654057          422\n",
       "851   250058740           382\n",
       "4980  972148515798470656  277"
      ]
     },
     "execution_count": 74,
     "metadata": {},
     "output_type": "execute_result"
    }
   ],
   "source": [
    "df_tweets3.groupby(['user_id'], as_index=False)['id'].count().sort_values(by=['id'], ascending=False).head()"
   ]
  },
  {
   "cell_type": "code",
   "execution_count": 75,
   "metadata": {},
   "outputs": [],
   "source": [
    "# keep only negative tweets\n",
    "df_tmp10 = df_tweets3[df_tweets3.Prediction3==-1]"
   ]
  },
  {
   "cell_type": "markdown",
   "metadata": {},
   "source": [
    "##### --- ΣΥΡΙΖΑ & ΝΔ together"
   ]
  },
  {
   "cell_type": "markdown",
   "metadata": {},
   "source": [
    "Εδω έχω κρατήσει μόνο unique tweets(ids) γιατί ενα tweet απο τον ιδιο χρηστη μπορει να υπήρχε 4 φορές επειδη βρεθηκε και για τα 4 hashtags '#Τσιπρας', '#Μητσοτακης', '#ΣΥΡΙΖΑ', '#ΝΔ'. Ενω εγώ θελω μόνο μια φορα το καθε tweets."
   ]
  },
  {
   "cell_type": "code",
   "execution_count": 76,
   "metadata": {},
   "outputs": [
    {
     "data": {
      "text/html": [
       "<div>\n",
       "<style scoped>\n",
       "    .dataframe tbody tr th:only-of-type {\n",
       "        vertical-align: middle;\n",
       "    }\n",
       "\n",
       "    .dataframe tbody tr th {\n",
       "        vertical-align: top;\n",
       "    }\n",
       "\n",
       "    .dataframe thead th {\n",
       "        text-align: right;\n",
       "    }\n",
       "</style>\n",
       "<table border=\"1\" class=\"dataframe\">\n",
       "  <thead>\n",
       "    <tr style=\"text-align: right;\">\n",
       "      <th></th>\n",
       "      <th>user_id</th>\n",
       "      <th>id</th>\n",
       "    </tr>\n",
       "  </thead>\n",
       "  <tbody>\n",
       "    <tr>\n",
       "      <th>2666</th>\n",
       "      <td>2831100747</td>\n",
       "      <td>329</td>\n",
       "    </tr>\n",
       "    <tr>\n",
       "      <th>740</th>\n",
       "      <td>250058740</td>\n",
       "      <td>283</td>\n",
       "    </tr>\n",
       "    <tr>\n",
       "      <th>2307</th>\n",
       "      <td>2190423604</td>\n",
       "      <td>274</td>\n",
       "    </tr>\n",
       "    <tr>\n",
       "      <th>332</th>\n",
       "      <td>86044761</td>\n",
       "      <td>206</td>\n",
       "    </tr>\n",
       "    <tr>\n",
       "      <th>4345</th>\n",
       "      <td>972148515798470656</td>\n",
       "      <td>162</td>\n",
       "    </tr>\n",
       "  </tbody>\n",
       "</table>\n",
       "</div>"
      ],
      "text/plain": [
       "                 user_id   id\n",
       "2666  2831100747          329\n",
       "740   250058740           283\n",
       "2307  2190423604          274\n",
       "332   86044761            206\n",
       "4345  972148515798470656  162"
      ]
     },
     "execution_count": 76,
     "metadata": {},
     "output_type": "execute_result"
    }
   ],
   "source": [
    "# keep each tweet only once because there are tweets found in more than one searchparam\n",
    "df_tmp10b = df_tmp10.drop_duplicates(subset=['id'], keep='first')\n",
    "#df_tmp11 = df_tmp10b.groupby(['user_id', 'Κόμμα'], as_index=False)['id'].count().sort_values(by=['user_id','Κόμμα'], ascending=False)\n",
    "df_tmp11 = df_tmp10b.groupby(['user_id'], as_index=False)['id'].count().sort_values(by=['id'], ascending=False)\n",
    "df_tmp11.head()"
   ]
  },
  {
   "cell_type": "code",
   "execution_count": 77,
   "metadata": {},
   "outputs": [
    {
     "name": "stdout",
     "output_type": "stream",
     "text": [
      "- 5102 χρήστες δημοσίευσαν συνολικά 24591 αρνητικά tweets.\n",
      "- Κατά μέσο όρο κάθε χρήστης δημοσιεύει 4.8 αρνητικά tweets.\n"
     ]
    }
   ],
   "source": [
    "print('-',df_tmp11.user_id.nunique(), 'χρήστες δημοσίευσαν συνολικά', df_tmp11.id.sum(), 'αρνητικά tweets.')\n",
    "mean_tweets = round(df_tmp11.id.sum()/df_tmp11.user_id.nunique(),1)\n",
    "print('- Κατά μέσο όρο κάθε χρήστης δημοσιεύει',mean_tweets, 'αρνητικά tweets.')"
   ]
  },
  {
   "cell_type": "markdown",
   "metadata": {},
   "source": [
    "##### --- ΣΥΡΙΖΑ"
   ]
  },
  {
   "cell_type": "markdown",
   "metadata": {},
   "source": [
    "Εδω κρατάω το κάθε tweet του χρήστη εως και 2 φορές ανάλογα σε πόσα απο τα 2 κομματα αναφέρεται. Έτσι δεν θα εχω το ιδιο tweets και για τα 2 hashtag ενος κομματος. Οπότε, μετά κάνω φιλτραρισμα για το κάθε κόμμα. "
   ]
  },
  {
   "cell_type": "code",
   "execution_count": 78,
   "metadata": {},
   "outputs": [
    {
     "data": {
      "text/html": [
       "<div>\n",
       "<style scoped>\n",
       "    .dataframe tbody tr th:only-of-type {\n",
       "        vertical-align: middle;\n",
       "    }\n",
       "\n",
       "    .dataframe tbody tr th {\n",
       "        vertical-align: top;\n",
       "    }\n",
       "\n",
       "    .dataframe thead th {\n",
       "        text-align: right;\n",
       "    }\n",
       "</style>\n",
       "<table border=\"1\" class=\"dataframe\">\n",
       "  <thead>\n",
       "    <tr style=\"text-align: right;\">\n",
       "      <th></th>\n",
       "      <th>user_id</th>\n",
       "      <th>Κόμμα</th>\n",
       "      <th>id</th>\n",
       "    </tr>\n",
       "  </thead>\n",
       "  <tbody>\n",
       "    <tr>\n",
       "      <th>6719</th>\n",
       "      <td>1130447586681335808</td>\n",
       "      <td>ΣΥΡΙΖΑ</td>\n",
       "      <td>1</td>\n",
       "    </tr>\n",
       "    <tr>\n",
       "      <th>6718</th>\n",
       "      <td>1130417345304891392</td>\n",
       "      <td>ΣΥΡΙΖΑ</td>\n",
       "      <td>10</td>\n",
       "    </tr>\n",
       "    <tr>\n",
       "      <th>6717</th>\n",
       "      <td>1130417345304891392</td>\n",
       "      <td>ΝΔ</td>\n",
       "      <td>1</td>\n",
       "    </tr>\n",
       "    <tr>\n",
       "      <th>6716</th>\n",
       "      <td>1130407985052831745</td>\n",
       "      <td>ΣΥΡΙΖΑ</td>\n",
       "      <td>1</td>\n",
       "    </tr>\n",
       "    <tr>\n",
       "      <th>6715</th>\n",
       "      <td>1130407985052831745</td>\n",
       "      <td>ΝΔ</td>\n",
       "      <td>3</td>\n",
       "    </tr>\n",
       "  </tbody>\n",
       "</table>\n",
       "</div>"
      ],
      "text/plain": [
       "                  user_id   Κόμμα  id\n",
       "6719  1130447586681335808  ΣΥΡΙΖΑ  1 \n",
       "6718  1130417345304891392  ΣΥΡΙΖΑ  10\n",
       "6717  1130417345304891392  ΝΔ      1 \n",
       "6716  1130407985052831745  ΣΥΡΙΖΑ  1 \n",
       "6715  1130407985052831745  ΝΔ      3 "
      ]
     },
     "execution_count": 78,
     "metadata": {},
     "output_type": "execute_result"
    }
   ],
   "source": [
    "df_tmp10c = df_tmp10.drop_duplicates(subset=['id', 'Κόμμα'], keep='first')\n",
    "df_tmp11b = df_tmp10c.groupby(['user_id', 'Κόμμα'], as_index=False)['id'].count().sort_values(by=['user_id','Κόμμα'], ascending=False)\n",
    "df_tmp11b.head()"
   ]
  },
  {
   "cell_type": "code",
   "execution_count": 79,
   "metadata": {},
   "outputs": [
    {
     "name": "stdout",
     "output_type": "stream",
     "text": [
      "- 3864 χρήστες δημοσίευσαν συνολικά 16630 αρνητικά tweets.\n",
      "- Κατά μέσο όρο κάθε χρήστης δημοσιεύει 4.3 αρνητικά tweets.\n"
     ]
    }
   ],
   "source": [
    "df_tmp12 = df_tmp11b[df_tmp11b.Κόμμα=='ΣΥΡΙΖΑ']\n",
    "print('-',df_tmp12.user_id.nunique(), 'χρήστες δημοσίευσαν συνολικά', df_tmp12.id.sum(), 'αρνητικά tweets.')\n",
    "mean_tweets = round(df_tmp12.id.sum()/df_tmp12.user_id.nunique(),1)\n",
    "print('- Κατά μέσο όρο κάθε χρήστης δημοσιεύει',mean_tweets, 'αρνητικά tweets.')"
   ]
  },
  {
   "cell_type": "markdown",
   "metadata": {},
   "source": [
    "##### --- ΝΔ"
   ]
  },
  {
   "cell_type": "code",
   "execution_count": 80,
   "metadata": {},
   "outputs": [
    {
     "name": "stdout",
     "output_type": "stream",
     "text": [
      "- 2856 χρήστες δημοσίευσαν συνολικά 9863 αρνητικά tweets.\n",
      "- Κατά μέσο όρο κάθε χρήστης δημοσιεύει 3.5 αρνητικά tweets.\n"
     ]
    }
   ],
   "source": [
    "df_tmp13 = df_tmp11b[df_tmp11b.Κόμμα=='ΝΔ']\n",
    "print('-',df_tmp13.user_id.nunique(), 'χρήστες δημοσίευσαν συνολικά', df_tmp13.id.sum(), 'αρνητικά tweets.')\n",
    "mean_tweets = round(df_tmp13.id.sum()/df_tmp13.user_id.nunique(),1)\n",
    "print('- Κατά μέσο όρο κάθε χρήστης δημοσιεύει',mean_tweets, 'αρνητικά tweets.')"
   ]
  },
  {
   "cell_type": "code",
   "execution_count": 82,
   "metadata": {},
   "outputs": [],
   "source": [
    "# pareto for ND\n",
    "df_tmp13 = df_tmp13.sort_values(by=['id'], ascending=False)\n",
    "df_tmp13['Perc_tweets'] = 100*(df_tmp13['id'].cumsum() / df_tmp13['id'].sum())\n",
    "df_tmp13['Perc_users'] = [100*(i+1)/df_tmp13.user_id.nunique() for i in range(df_tmp13.user_id.nunique())]\n",
    "#df_tmp13"
   ]
  },
  {
   "cell_type": "code",
   "execution_count": 83,
   "metadata": {},
   "outputs": [],
   "source": [
    "# pareto for SYRIZA\n",
    "df_tmp12 = df_tmp12.sort_values(by=['id'], ascending=False)\n",
    "df_tmp12['Perc_tweets'] = 100*(df_tmp12['id'].cumsum() / df_tmp12['id'].sum())\n",
    "df_tmp12['Perc_users'] = [100*(i+1)/df_tmp12.user_id.nunique() for i in range(df_tmp12.user_id.nunique())]\n",
    "#df_tmp12"
   ]
  },
  {
   "cell_type": "code",
   "execution_count": 84,
   "metadata": {},
   "outputs": [
    {
     "data": {
      "text/html": [
       "<div>\n",
       "<style scoped>\n",
       "    .dataframe tbody tr th:only-of-type {\n",
       "        vertical-align: middle;\n",
       "    }\n",
       "\n",
       "    .dataframe tbody tr th {\n",
       "        vertical-align: top;\n",
       "    }\n",
       "\n",
       "    .dataframe thead th {\n",
       "        text-align: right;\n",
       "    }\n",
       "</style>\n",
       "<table border=\"1\" class=\"dataframe\">\n",
       "  <thead>\n",
       "    <tr style=\"text-align: right;\">\n",
       "      <th></th>\n",
       "      <th>user_id</th>\n",
       "      <th>Κόμμα</th>\n",
       "      <th>id</th>\n",
       "      <th>Perc_tweets</th>\n",
       "      <th>Perc_users</th>\n",
       "    </tr>\n",
       "  </thead>\n",
       "  <tbody>\n",
       "    <tr>\n",
       "      <th>3462</th>\n",
       "      <td>2831100747</td>\n",
       "      <td>ΝΔ</td>\n",
       "      <td>236</td>\n",
       "      <td>2.392781</td>\n",
       "      <td>0.035014</td>\n",
       "    </tr>\n",
       "    <tr>\n",
       "      <th>5715</th>\n",
       "      <td>972148515798470656</td>\n",
       "      <td>ΝΔ</td>\n",
       "      <td>133</td>\n",
       "      <td>3.741255</td>\n",
       "      <td>0.070028</td>\n",
       "    </tr>\n",
       "  </tbody>\n",
       "</table>\n",
       "</div>"
      ],
      "text/plain": [
       "                 user_id Κόμμα   id  Perc_tweets  Perc_users\n",
       "3462  2831100747          ΝΔ    236  2.392781     0.035014  \n",
       "5715  972148515798470656  ΝΔ    133  3.741255     0.070028  "
      ]
     },
     "execution_count": 84,
     "metadata": {},
     "output_type": "execute_result"
    }
   ],
   "source": [
    "df_tmp13.head(2)"
   ]
  },
  {
   "cell_type": "code",
   "execution_count": 85,
   "metadata": {},
   "outputs": [
    {
     "data": {
      "text/html": [
       "<div>\n",
       "<style scoped>\n",
       "    .dataframe tbody tr th:only-of-type {\n",
       "        vertical-align: middle;\n",
       "    }\n",
       "\n",
       "    .dataframe tbody tr th {\n",
       "        vertical-align: top;\n",
       "    }\n",
       "\n",
       "    .dataframe thead th {\n",
       "        text-align: right;\n",
       "    }\n",
       "</style>\n",
       "<table border=\"1\" class=\"dataframe\">\n",
       "  <thead>\n",
       "    <tr style=\"text-align: right;\">\n",
       "      <th></th>\n",
       "      <th>user_id</th>\n",
       "      <th>Κόμμα</th>\n",
       "      <th>id</th>\n",
       "      <th>Perc_tweets</th>\n",
       "      <th>Perc_users</th>\n",
       "    </tr>\n",
       "  </thead>\n",
       "  <tbody>\n",
       "    <tr>\n",
       "      <th>2990</th>\n",
       "      <td>2190423604</td>\n",
       "      <td>ΣΥΡΙΖΑ</td>\n",
       "      <td>267</td>\n",
       "      <td>1.605532</td>\n",
       "      <td>0.02588</td>\n",
       "    </tr>\n",
       "    <tr>\n",
       "      <th>951</th>\n",
       "      <td>250058740</td>\n",
       "      <td>ΣΥΡΙΖΑ</td>\n",
       "      <td>197</td>\n",
       "      <td>2.790138</td>\n",
       "      <td>0.05176</td>\n",
       "    </tr>\n",
       "  </tbody>\n",
       "</table>\n",
       "</div>"
      ],
      "text/plain": [
       "         user_id   Κόμμα   id  Perc_tweets  Perc_users\n",
       "2990  2190423604  ΣΥΡΙΖΑ  267  1.605532     0.02588   \n",
       "951   250058740   ΣΥΡΙΖΑ  197  2.790138     0.05176   "
      ]
     },
     "execution_count": 85,
     "metadata": {},
     "output_type": "execute_result"
    }
   ],
   "source": [
    "df_tmp12.head(2)"
   ]
  },
  {
   "cell_type": "code",
   "execution_count": 87,
   "metadata": {},
   "outputs": [],
   "source": [
    "def pareto_graph(dataframe1,dataframe2,  x='Perc_users', y='Perc_tweets',\n",
    "                 xlab = 'Percentage of users', ylab = 'Percentage of tweets',\n",
    "                 title='Ratio of the percentage of users and negative tweets \\nNEW DEMOCRACY vs SYRIZA', \n",
    "                 pareto_lim=[20, 80]):\n",
    "    \n",
    "    colors = [\"#0B19CC\", \"#ca272c\"]\n",
    "    \n",
    "    plt.figure(figsize=(12,6))\n",
    "    line_chart1 = plt.plot(dataframe1[x], dataframe1[y],colors[1])\n",
    "    line_chart2 = plt.plot(dataframe2[x], dataframe2[y],colors[0])\n",
    "    \n",
    "    plt.title(title)\n",
    "    plt.ylabel(ylab)\n",
    "    plt.xlabel(xlab)\n",
    "\n",
    "    pareto = pareto_lim\n",
    "\n",
    "    plt.plot((pareto[0], pareto[0]), (0, min(dataframe1.loc[dataframe1[x] >= pareto[0], y])), 'ok--')\n",
    "    plt.plot((0, pareto[0]), (min(dataframe1.loc[dataframe1[x] >= pareto[0], y]), \n",
    "                           min(dataframe1.loc[dataframe1[x] >= pareto[0], y])), 'ok--',\n",
    "                         color=colors[1])\n",
    "\n",
    "    plt.text(pareto[0]+1, min(dataframe1.loc[dataframe1[x] >= pareto[0], y])/2, \n",
    "                 'The '+ str(pareto[0]) + '% of users \\npuplished the ' + \\\n",
    "                 str(int(min(dataframe1.loc[dataframe1[x] >= pareto[0], y]))) + \n",
    "             '% of the negative tweets', fontsize=12, color=colors[1])\n",
    "\n",
    "    plt.plot((pareto[0], pareto[0]), (0, min(dataframe2.loc[dataframe2[x] >= pareto[0], y])), 'ok--')\n",
    "    plt.plot((0, pareto[0]), (min(dataframe2.loc[dataframe2[x] >= pareto[0], y]), \n",
    "                           min(dataframe2.loc[dataframe2[x] >= pareto[0], y])), 'ok--',\n",
    "                         color=colors[0])\n",
    "\n",
    "    plt.text(pareto[0]+1, 14+min(dataframe2.loc[dataframe2[x] >= pareto[0], y])/2, \n",
    "                 'The '+ str(pareto[0]) + '% of users \\npuplished the ' + \\\n",
    "                 str(int(min(dataframe2.loc[dataframe2[x] >= pareto[0], y]))) + \n",
    "             '% of the negative tweets', fontsize=12, color=colors[0])\n",
    "    \n",
    "    plt.show()"
   ]
  },
  {
   "cell_type": "code",
   "execution_count": 88,
   "metadata": {},
   "outputs": [
    {
     "data": {
      "image/png": "[encoded data removed]",
      "text/plain": [
       "<matplotlib.figure.Figure at 0x7f4d246269b0>"
      ]
     },
     "metadata": {},
     "output_type": "display_data"
    }
   ],
   "source": [
    "pareto_graph(df_tmp12, df_tmp13)"
   ]
  },
  {
   "cell_type": "code",
   "execution_count": 89,
   "metadata": {},
   "outputs": [
    {
     "data": {
      "text/plain": [
       "Text(0.5,1,'Negative tweets per user')"
      ]
     },
     "execution_count": 89,
     "metadata": {},
     "output_type": "execute_result"
    },
    {
     "data": {
      "image/png": "[encoded data removed]",
      "text/plain": [
       "<matplotlib.figure.Figure at 0x7f4d300c9438>"
      ]
     },
     "metadata": {},
     "output_type": "display_data"
    }
   ],
   "source": [
    "# create data\n",
    "x = [0.35, 0.92]\n",
    "y = [0.6, 0.6]\n",
    "z = [28000, 22000]\n",
    " \n",
    "colors = [\"#ca272c\", \"#0B19CC\"]\n",
    "a = plt.scatter(x, y, s=z*4000, alpha=0.4, linewidth=6, color=colors)\n",
    "\n",
    "# add the texts\n",
    "plt.text(0.16, 0.6,'4.3 tweets / user', fontsize=12)\n",
    "plt.text(0.72, 0.6,'3.5 tweets / user', fontsize=12) \n",
    "\n",
    "# remove axis\n",
    "a.axes.get_xaxis().set_ticks([])\n",
    "a.axes.get_yaxis().set_ticks([])\n",
    "#a.set_facecolor(\"w\")\n",
    "# Add titles (main and on axis)\n",
    "plt.title(\"Negative tweets per user\")"
   ]
  },
  {
   "cell_type": "code",
   "execution_count": null,
   "metadata": {},
   "outputs": [],
   "source": []
  },
  {
   "cell_type": "code",
   "execution_count": null,
   "metadata": {},
   "outputs": [],
   "source": []
  }
 ],
 "metadata": {
  "hide_input": false,
  "kernelspec": {
   "display_name": "Python 3",
   "language": "python",
   "name": "python3"
  },
  "language_info": {
   "codemirror_mode": {
    "name": "ipython",
    "version": 3
   },
   "file_extension": ".py",
   "mimetype": "text/x-python",
   "name": "python",
   "nbconvert_exporter": "python",
   "pygments_lexer": "ipython3",
   "version": "3.6.3"
  }
 },
 "nbformat": 4,
 "nbformat_minor": 2
}
