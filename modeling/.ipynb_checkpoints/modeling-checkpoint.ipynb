{
 "cells": [
  {
   "cell_type": "code",
   "execution_count": 1,
   "metadata": {},
   "outputs": [],
   "source": [
    "# In this notebook we create a model (RandomForestClassifier) that classifies each tweet (written in Greek) as neutral, positive or negative"
   ]
  },
  {
   "cell_type": "code",
   "execution_count": 2,
   "metadata": {},
   "outputs": [],
   "source": [
    "import pandas as pd\n",
    "from collections import Counter\n",
    "\n",
    "#!pip install lime\n",
    "#from lime.lime_text import LimeTextExplainer\n",
    "\n",
    "# print non truncated column info in pandas dataframe\n",
    "pd.set_option('display.max_colwidth', -1)\n",
    "pd.set_option('display.max_columns', 500)"
   ]
  },
  {
   "cell_type": "code",
   "execution_count": 3,
   "metadata": {},
   "outputs": [],
   "source": [
    "from sklearn.ensemble import RandomForestClassifier\n",
    "from sklearn.model_selection import train_test_split, GridSearchCV\n",
    "#from sklearn.tree import DecisionTreeClassifier\n",
    "#from sklearn.svm import SVC\n",
    "#!pip install xgboost --user\n",
    "#from xgboost import XGBClassifier\n",
    "\n",
    "\n",
    "import seaborn as sns\n",
    "import matplotlib.pyplot as plt\n",
    "from sklearn.metrics import accuracy_score, confusion_matrix, precision_recall_fscore_support"
   ]
  },
  {
   "cell_type": "code",
   "execution_count": 4,
   "metadata": {},
   "outputs": [],
   "source": [
    "# read the dataset with the rated tweets, features and sentiment\n",
    "df_train = pd.read_pickle('data/df_final.pkl')"
   ]
  },
  {
   "cell_type": "code",
   "execution_count": 5,
   "metadata": {},
   "outputs": [
    {
     "data": {
      "text/html": [
       "<div>\n",
       "<style scoped>\n",
       "    .dataframe tbody tr th:only-of-type {\n",
       "        vertical-align: middle;\n",
       "    }\n",
       "\n",
       "    .dataframe tbody tr th {\n",
       "        vertical-align: top;\n",
       "    }\n",
       "\n",
       "    .dataframe thead th {\n",
       "        text-align: right;\n",
       "    }\n",
       "</style>\n",
       "<table border=\"1\" class=\"dataframe\">\n",
       "  <thead>\n",
       "    <tr style=\"text-align: right;\">\n",
       "      <th></th>\n",
       "      <th>Text</th>\n",
       "      <th>Text_only</th>\n",
       "      <th>Tokens</th>\n",
       "      <th>Tokens_stem</th>\n",
       "      <th>Bigrams2</th>\n",
       "      <th>N_exclam</th>\n",
       "      <th>has_url</th>\n",
       "      <th>N_hash</th>\n",
       "      <th>N_mentions</th>\n",
       "      <th>N_uppers</th>\n",
       "      <th>N_words</th>\n",
       "      <th>Sentiment</th>\n",
       "      <th>N_matches</th>\n",
       "      <th>Match_Terms</th>\n",
       "      <th>Sum_subj</th>\n",
       "      <th>Sum_positive</th>\n",
       "      <th>Sum_negative</th>\n",
       "      <th>Sum_anger</th>\n",
       "      <th>Sum_disgust</th>\n",
       "      <th>Sum_fear</th>\n",
       "      <th>Sum_happy</th>\n",
       "      <th>Sum_sad</th>\n",
       "      <th>Sum_surprise</th>\n",
       "      <th>N_Uni_Neg</th>\n",
       "      <th>Score_Uni_Neg</th>\n",
       "      <th>N_Uni_Pos</th>\n",
       "      <th>Score_Uni_Pos</th>\n",
       "      <th>N_Bi_Neg</th>\n",
       "      <th>Score_Bi_Neg</th>\n",
       "      <th>N_Bi_Pos</th>\n",
       "      <th>Score_Bi_Pos</th>\n",
       "      <th>Score_Uni</th>\n",
       "      <th>Score_Bi</th>\n",
       "      <th>N_verbs</th>\n",
       "      <th>N_adjs</th>\n",
       "      <th>N_nouns</th>\n",
       "    </tr>\n",
       "  </thead>\n",
       "  <tbody>\n",
       "    <tr>\n",
       "      <td>0</td>\n",
       "      <td>Επιχείρηση Βολευτική έδρα!  Βασίλης Οικονόμου:  Από το ΠΑΣΟΚ διαγράφηκε απο το ΓΑΠ επειδη ΔΕΝ ψήφισε το Μνημόνιο... http://t.co/gPgr1Caqxv</td>\n",
       "      <td>Επιχείρηση Βολευτική έδρα! Βασίλης Οικονόμου: Από το ΠΑΣΟΚ διαγράφηκε απο το ΓΑΠ επειδη ΔΕΝ ψήφισε το Μνημόνιο...</td>\n",
       "      <td>[ΕΠΙΧΕΙΡΗΣΗ, ΒΟΛΕΥΤΙΚΗ, ΕΔΡΑ, ΒΑΣΙΛΗΣ, ΟΙΚΟΝΟΜΟΥ, ΑΠΟ, ΤΟ, ΠΑΣΟΚ, ΔΙΑΓΡΑΦΗΚΕ, ΑΠΟ, ΤΟ, ΓΑΠ, ΕΠΕΙΔΗ, ΔΕΝ, ΨΗΦΙΣΕ, ΤΟ, ΜΝΗΜΟΝΙΟ]</td>\n",
       "      <td>[ΕΠΙΧΕΙΡΗΣ, ΒΟΛΕΥΤ, ΕΔΡ, ΒΑΣΙΛ, ΟΙΚΟΝΟΜ, ΑΠΟ, ΤΟ, ΠΑΣΟΚ, ΔΙΑΓΡΑΦ, ΑΠΟ, ΤΟ, ΓΑΠ, ΕΠΕΙΔΗ, ΔΕΝ, ΨΗΦΙΣ, ΤΟ, ΜΝΗΜΟΝ]</td>\n",
       "      <td>[ΕΠΙΧΕΙΡΗΣΗ ΒΟΛΕΥΤΙΚΗ, ΒΟΛΕΥΤΙΚΗ ΕΔΡΑ, ΕΔΡΑ ΒΑΣΙΛΗΣ, ΒΑΣΙΛΗΣ ΟΙΚΟΝΟΜΟΥ, ΟΙΚΟΝΟΜΟΥ ΑΠΟ, ΑΠΟ ΤΟ, ΤΟ ΠΑΣΟΚ, ΠΑΣΟΚ ΔΙΑΓΡΑΦΗΚΕ, ΔΙΑΓΡΑΦΗΚΕ ΑΠΟ, ΑΠΟ ΤΟ, ΤΟ ΓΑΠ, ΓΑΠ ΕΠΕΙΔΗ, ΕΠΕΙΔΗ ΔΕΝ, ΔΕΝ ΨΗΦΙΣΕ, ΨΗΦΙΣΕ ΤΟ, ΤΟ ΜΝΗΜΟΝΙΟ]</td>\n",
       "      <td>1</td>\n",
       "      <td>1</td>\n",
       "      <td>0</td>\n",
       "      <td>0</td>\n",
       "      <td>3</td>\n",
       "      <td>17</td>\n",
       "      <td>-1</td>\n",
       "      <td>1</td>\n",
       "      <td>[ΤΟ]</td>\n",
       "      <td>0.375</td>\n",
       "      <td>0.0</td>\n",
       "      <td>0.75</td>\n",
       "      <td>0.0</td>\n",
       "      <td>0.0</td>\n",
       "      <td>0.0</td>\n",
       "      <td>0.0</td>\n",
       "      <td>0.0</td>\n",
       "      <td>0.0</td>\n",
       "      <td>13</td>\n",
       "      <td>-7.609859</td>\n",
       "      <td>3</td>\n",
       "      <td>1.924791</td>\n",
       "      <td>7</td>\n",
       "      <td>-8.893361</td>\n",
       "      <td>2</td>\n",
       "      <td>1.640151</td>\n",
       "      <td>-5.685068</td>\n",
       "      <td>-7.253209</td>\n",
       "      <td>2</td>\n",
       "      <td>1</td>\n",
       "      <td>6</td>\n",
       "    </tr>\n",
       "  </tbody>\n",
       "</table>\n",
       "</div>"
      ],
      "text/plain": [
       "                                                                                                                                         Text  \\\n",
       "0  Επιχείρηση Βολευτική έδρα!  Βασίλης Οικονόμου:  Από το ΠΑΣΟΚ διαγράφηκε απο το ΓΑΠ επειδη ΔΕΝ ψήφισε το Μνημόνιο... http://t.co/gPgr1Caqxv   \n",
       "\n",
       "                                                                                                           Text_only  \\\n",
       "0  Επιχείρηση Βολευτική έδρα! Βασίλης Οικονόμου: Από το ΠΑΣΟΚ διαγράφηκε απο το ΓΑΠ επειδη ΔΕΝ ψήφισε το Μνημόνιο...   \n",
       "\n",
       "                                                                                                                           Tokens  \\\n",
       "0  [ΕΠΙΧΕΙΡΗΣΗ, ΒΟΛΕΥΤΙΚΗ, ΕΔΡΑ, ΒΑΣΙΛΗΣ, ΟΙΚΟΝΟΜΟΥ, ΑΠΟ, ΤΟ, ΠΑΣΟΚ, ΔΙΑΓΡΑΦΗΚΕ, ΑΠΟ, ΤΟ, ΓΑΠ, ΕΠΕΙΔΗ, ΔΕΝ, ΨΗΦΙΣΕ, ΤΟ, ΜΝΗΜΟΝΙΟ]   \n",
       "\n",
       "                                                                                                       Tokens_stem  \\\n",
       "0  [ΕΠΙΧΕΙΡΗΣ, ΒΟΛΕΥΤ, ΕΔΡ, ΒΑΣΙΛ, ΟΙΚΟΝΟΜ, ΑΠΟ, ΤΟ, ΠΑΣΟΚ, ΔΙΑΓΡΑΦ, ΑΠΟ, ΤΟ, ΓΑΠ, ΕΠΕΙΔΗ, ΔΕΝ, ΨΗΦΙΣ, ΤΟ, ΜΝΗΜΟΝ]   \n",
       "\n",
       "                                                                                                                                                                                                                 Bigrams2  \\\n",
       "0  [ΕΠΙΧΕΙΡΗΣΗ ΒΟΛΕΥΤΙΚΗ, ΒΟΛΕΥΤΙΚΗ ΕΔΡΑ, ΕΔΡΑ ΒΑΣΙΛΗΣ, ΒΑΣΙΛΗΣ ΟΙΚΟΝΟΜΟΥ, ΟΙΚΟΝΟΜΟΥ ΑΠΟ, ΑΠΟ ΤΟ, ΤΟ ΠΑΣΟΚ, ΠΑΣΟΚ ΔΙΑΓΡΑΦΗΚΕ, ΔΙΑΓΡΑΦΗΚΕ ΑΠΟ, ΑΠΟ ΤΟ, ΤΟ ΓΑΠ, ΓΑΠ ΕΠΕΙΔΗ, ΕΠΕΙΔΗ ΔΕΝ, ΔΕΝ ΨΗΦΙΣΕ, ΨΗΦΙΣΕ ΤΟ, ΤΟ ΜΝΗΜΟΝΙΟ]   \n",
       "\n",
       "   N_exclam  has_url  N_hash  N_mentions  N_uppers  N_words  Sentiment  \\\n",
       "0  1         1        0       0           3         17      -1           \n",
       "\n",
       "   N_matches Match_Terms  Sum_subj  Sum_positive  Sum_negative  Sum_anger  \\\n",
       "0  1          [ΤΟ]        0.375     0.0           0.75          0.0         \n",
       "\n",
       "   Sum_disgust  Sum_fear  Sum_happy  Sum_sad  Sum_surprise  N_Uni_Neg  \\\n",
       "0  0.0          0.0       0.0        0.0      0.0           13          \n",
       "\n",
       "   Score_Uni_Neg  N_Uni_Pos  Score_Uni_Pos  N_Bi_Neg  Score_Bi_Neg  N_Bi_Pos  \\\n",
       "0 -7.609859       3          1.924791       7        -8.893361      2          \n",
       "\n",
       "   Score_Bi_Pos  Score_Uni  Score_Bi  N_verbs  N_adjs  N_nouns  \n",
       "0  1.640151     -5.685068  -7.253209  2        1       6        "
      ]
     },
     "execution_count": 5,
     "metadata": {},
     "output_type": "execute_result"
    }
   ],
   "source": [
    "df_train.head(1)"
   ]
  },
  {
   "cell_type": "code",
   "execution_count": 6,
   "metadata": {},
   "outputs": [
    {
     "data": {
      "text/plain": [
       "(1640, 36)"
      ]
     },
     "execution_count": 6,
     "metadata": {},
     "output_type": "execute_result"
    }
   ],
   "source": [
    "df_train.shape"
   ]
  },
  {
   "cell_type": "code",
   "execution_count": 7,
   "metadata": {},
   "outputs": [
    {
     "data": {
      "text/plain": [
       " 0    59.695122\n",
       "-1    35.487805\n",
       " 1    4.817073 \n",
       "Name: Sentiment, dtype: float64"
      ]
     },
     "execution_count": 7,
     "metadata": {},
     "output_type": "execute_result"
    }
   ],
   "source": [
    "# check the percentage of tweets for each sentiment\n",
    "df_train['Sentiment'].value_counts(normalize=True) * 100"
   ]
  },
  {
   "cell_type": "code",
   "execution_count": 8,
   "metadata": {},
   "outputs": [
    {
     "data": {
      "text/plain": [
       "Index(['Text', 'Text_only', 'Tokens', 'Tokens_stem', 'Bigrams2', 'N_exclam',\n",
       "       'has_url', 'N_hash', 'N_mentions', 'N_uppers', 'N_words', 'Sentiment',\n",
       "       'N_matches', 'Match_Terms', 'Sum_subj', 'Sum_positive', 'Sum_negative',\n",
       "       'Sum_anger', 'Sum_disgust', 'Sum_fear', 'Sum_happy', 'Sum_sad',\n",
       "       'Sum_surprise', 'N_Uni_Neg', 'Score_Uni_Neg', 'N_Uni_Pos',\n",
       "       'Score_Uni_Pos', 'N_Bi_Neg', 'Score_Bi_Neg', 'N_Bi_Pos', 'Score_Bi_Pos',\n",
       "       'Score_Uni', 'Score_Bi', 'N_verbs', 'N_adjs', 'N_nouns'],\n",
       "      dtype='object')"
      ]
     },
     "execution_count": 8,
     "metadata": {},
     "output_type": "execute_result"
    }
   ],
   "source": [
    "df_train.columns"
   ]
  },
  {
   "cell_type": "code",
   "execution_count": 9,
   "metadata": {},
   "outputs": [],
   "source": [
    "# create a list with the features that are used in the modeling \n",
    "features = ['N_exclam',\n",
    "       'has_url', 'N_hash', 'N_mentions', 'N_uppers', 'N_words', 'Sum_subj', 'Sum_positive', 'Sum_negative',\n",
    "       'Sum_anger', 'Sum_disgust', 'Sum_fear', 'Sum_happy', 'Sum_sad',\n",
    "       'Sum_surprise', 'N_Uni_Neg', 'Score_Uni_Neg', 'N_Uni_Pos',\n",
    "       'Score_Uni_Pos', 'N_Bi_Neg', 'Score_Bi_Neg', 'N_Bi_Pos', 'Score_Bi_Pos',\n",
    "       'Score_Uni', 'Score_Bi', 'N_verbs', 'N_adjs', 'N_nouns']"
   ]
  },
  {
   "cell_type": "markdown",
   "metadata": {},
   "source": [
    "### Modeling"
   ]
  },
  {
   "cell_type": "code",
   "execution_count": 10,
   "metadata": {},
   "outputs": [],
   "source": [
    "X = df_train[features]\n",
    "Y = df_train['Sentiment']\n",
    "Z = df_train['Text']"
   ]
  },
  {
   "cell_type": "code",
   "execution_count": 11,
   "metadata": {},
   "outputs": [
    {
     "data": {
      "text/html": [
       "<div>\n",
       "<style scoped>\n",
       "    .dataframe tbody tr th:only-of-type {\n",
       "        vertical-align: middle;\n",
       "    }\n",
       "\n",
       "    .dataframe tbody tr th {\n",
       "        vertical-align: top;\n",
       "    }\n",
       "\n",
       "    .dataframe thead th {\n",
       "        text-align: right;\n",
       "    }\n",
       "</style>\n",
       "<table border=\"1\" class=\"dataframe\">\n",
       "  <thead>\n",
       "    <tr style=\"text-align: right;\">\n",
       "      <th></th>\n",
       "      <th>N_exclam</th>\n",
       "      <th>has_url</th>\n",
       "      <th>N_hash</th>\n",
       "      <th>N_mentions</th>\n",
       "      <th>N_uppers</th>\n",
       "      <th>N_words</th>\n",
       "      <th>Sum_subj</th>\n",
       "      <th>Sum_positive</th>\n",
       "      <th>Sum_negative</th>\n",
       "      <th>Sum_anger</th>\n",
       "      <th>Sum_disgust</th>\n",
       "      <th>Sum_fear</th>\n",
       "      <th>Sum_happy</th>\n",
       "      <th>Sum_sad</th>\n",
       "      <th>Sum_surprise</th>\n",
       "      <th>N_Uni_Neg</th>\n",
       "      <th>Score_Uni_Neg</th>\n",
       "      <th>N_Uni_Pos</th>\n",
       "      <th>Score_Uni_Pos</th>\n",
       "      <th>N_Bi_Neg</th>\n",
       "      <th>Score_Bi_Neg</th>\n",
       "      <th>N_Bi_Pos</th>\n",
       "      <th>Score_Bi_Pos</th>\n",
       "      <th>Score_Uni</th>\n",
       "      <th>Score_Bi</th>\n",
       "      <th>N_verbs</th>\n",
       "      <th>N_adjs</th>\n",
       "      <th>N_nouns</th>\n",
       "    </tr>\n",
       "  </thead>\n",
       "  <tbody>\n",
       "    <tr>\n",
       "      <td>0</td>\n",
       "      <td>1</td>\n",
       "      <td>1</td>\n",
       "      <td>0</td>\n",
       "      <td>0</td>\n",
       "      <td>3</td>\n",
       "      <td>17</td>\n",
       "      <td>0.375</td>\n",
       "      <td>0.00</td>\n",
       "      <td>0.75</td>\n",
       "      <td>0.0</td>\n",
       "      <td>0.0</td>\n",
       "      <td>0.0</td>\n",
       "      <td>0.0</td>\n",
       "      <td>0.0</td>\n",
       "      <td>0.0</td>\n",
       "      <td>13</td>\n",
       "      <td>-7.609859</td>\n",
       "      <td>3</td>\n",
       "      <td>1.924791</td>\n",
       "      <td>7</td>\n",
       "      <td>-8.893361</td>\n",
       "      <td>2</td>\n",
       "      <td>1.640151</td>\n",
       "      <td>-5.685068</td>\n",
       "      <td>-7.253209</td>\n",
       "      <td>2</td>\n",
       "      <td>1</td>\n",
       "      <td>6</td>\n",
       "    </tr>\n",
       "    <tr>\n",
       "      <td>1</td>\n",
       "      <td>0</td>\n",
       "      <td>1</td>\n",
       "      <td>0</td>\n",
       "      <td>0</td>\n",
       "      <td>2</td>\n",
       "      <td>14</td>\n",
       "      <td>0.250</td>\n",
       "      <td>0.25</td>\n",
       "      <td>0.25</td>\n",
       "      <td>0.0</td>\n",
       "      <td>0.0</td>\n",
       "      <td>0.0</td>\n",
       "      <td>0.0</td>\n",
       "      <td>0.0</td>\n",
       "      <td>0.0</td>\n",
       "      <td>7</td>\n",
       "      <td>-3.418189</td>\n",
       "      <td>4</td>\n",
       "      <td>1.804600</td>\n",
       "      <td>2</td>\n",
       "      <td>-1.838225</td>\n",
       "      <td>0</td>\n",
       "      <td>0.000000</td>\n",
       "      <td>-1.613589</td>\n",
       "      <td>-1.838225</td>\n",
       "      <td>1</td>\n",
       "      <td>0</td>\n",
       "      <td>6</td>\n",
       "    </tr>\n",
       "  </tbody>\n",
       "</table>\n",
       "</div>"
      ],
      "text/plain": [
       "   N_exclam  has_url  N_hash  N_mentions  N_uppers  N_words  Sum_subj  \\\n",
       "0  1         1        0       0           3         17       0.375      \n",
       "1  0         1        0       0           2         14       0.250      \n",
       "\n",
       "   Sum_positive  Sum_negative  Sum_anger  Sum_disgust  Sum_fear  Sum_happy  \\\n",
       "0  0.00          0.75          0.0        0.0          0.0       0.0         \n",
       "1  0.25          0.25          0.0        0.0          0.0       0.0         \n",
       "\n",
       "   Sum_sad  Sum_surprise  N_Uni_Neg  Score_Uni_Neg  N_Uni_Pos  Score_Uni_Pos  \\\n",
       "0  0.0      0.0           13        -7.609859       3          1.924791        \n",
       "1  0.0      0.0           7         -3.418189       4          1.804600        \n",
       "\n",
       "   N_Bi_Neg  Score_Bi_Neg  N_Bi_Pos  Score_Bi_Pos  Score_Uni  Score_Bi  \\\n",
       "0  7        -8.893361      2         1.640151     -5.685068  -7.253209   \n",
       "1  2        -1.838225      0         0.000000     -1.613589  -1.838225   \n",
       "\n",
       "   N_verbs  N_adjs  N_nouns  \n",
       "0  2        1       6        \n",
       "1  1        0       6        "
      ]
     },
     "execution_count": 11,
     "metadata": {},
     "output_type": "execute_result"
    }
   ],
   "source": [
    "X.head(2)"
   ]
  },
  {
   "cell_type": "markdown",
   "metadata": {},
   "source": [
    "### -- Split dataset to testset and trainset"
   ]
  },
  {
   "cell_type": "code",
   "execution_count": 12,
   "metadata": {},
   "outputs": [],
   "source": [
    "x_train, x_test, y_train, y_test = train_test_split(X, Y, test_size=0.2, random_state = 0)"
   ]
  },
  {
   "cell_type": "code",
   "execution_count": 13,
   "metadata": {},
   "outputs": [
    {
     "data": {
      "text/html": [
       "<div>\n",
       "<style scoped>\n",
       "    .dataframe tbody tr th:only-of-type {\n",
       "        vertical-align: middle;\n",
       "    }\n",
       "\n",
       "    .dataframe tbody tr th {\n",
       "        vertical-align: top;\n",
       "    }\n",
       "\n",
       "    .dataframe thead th {\n",
       "        text-align: right;\n",
       "    }\n",
       "</style>\n",
       "<table border=\"1\" class=\"dataframe\">\n",
       "  <thead>\n",
       "    <tr style=\"text-align: right;\">\n",
       "      <th></th>\n",
       "      <th>N_exclam</th>\n",
       "      <th>has_url</th>\n",
       "      <th>N_hash</th>\n",
       "      <th>N_mentions</th>\n",
       "      <th>N_uppers</th>\n",
       "      <th>N_words</th>\n",
       "      <th>Sum_subj</th>\n",
       "      <th>Sum_positive</th>\n",
       "      <th>Sum_negative</th>\n",
       "      <th>Sum_anger</th>\n",
       "      <th>Sum_disgust</th>\n",
       "      <th>Sum_fear</th>\n",
       "      <th>Sum_happy</th>\n",
       "      <th>Sum_sad</th>\n",
       "      <th>Sum_surprise</th>\n",
       "      <th>N_Uni_Neg</th>\n",
       "      <th>Score_Uni_Neg</th>\n",
       "      <th>N_Uni_Pos</th>\n",
       "      <th>Score_Uni_Pos</th>\n",
       "      <th>N_Bi_Neg</th>\n",
       "      <th>Score_Bi_Neg</th>\n",
       "      <th>N_Bi_Pos</th>\n",
       "      <th>Score_Bi_Pos</th>\n",
       "      <th>Score_Uni</th>\n",
       "      <th>Score_Bi</th>\n",
       "      <th>N_verbs</th>\n",
       "      <th>N_adjs</th>\n",
       "      <th>N_nouns</th>\n",
       "    </tr>\n",
       "  </thead>\n",
       "  <tbody>\n",
       "    <tr>\n",
       "      <td>442</td>\n",
       "      <td>1</td>\n",
       "      <td>0</td>\n",
       "      <td>0</td>\n",
       "      <td>1</td>\n",
       "      <td>1</td>\n",
       "      <td>14</td>\n",
       "      <td>0.125</td>\n",
       "      <td>0.0</td>\n",
       "      <td>0.25</td>\n",
       "      <td>0.0</td>\n",
       "      <td>0.0</td>\n",
       "      <td>0.0</td>\n",
       "      <td>0.0</td>\n",
       "      <td>0.0</td>\n",
       "      <td>0.0</td>\n",
       "      <td>10</td>\n",
       "      <td>-5.685006</td>\n",
       "      <td>6</td>\n",
       "      <td>4.542664</td>\n",
       "      <td>6</td>\n",
       "      <td>-5.434132</td>\n",
       "      <td>1</td>\n",
       "      <td>0.898627</td>\n",
       "      <td>-1.142342</td>\n",
       "      <td>-4.535505</td>\n",
       "      <td>3</td>\n",
       "      <td>1</td>\n",
       "      <td>1</td>\n",
       "    </tr>\n",
       "  </tbody>\n",
       "</table>\n",
       "</div>"
      ],
      "text/plain": [
       "     N_exclam  has_url  N_hash  N_mentions  N_uppers  N_words  Sum_subj  \\\n",
       "442  1         0        0       1           1         14       0.125      \n",
       "\n",
       "     Sum_positive  Sum_negative  Sum_anger  Sum_disgust  Sum_fear  Sum_happy  \\\n",
       "442  0.0           0.25          0.0        0.0          0.0       0.0         \n",
       "\n",
       "     Sum_sad  Sum_surprise  N_Uni_Neg  Score_Uni_Neg  N_Uni_Pos  \\\n",
       "442  0.0      0.0           10        -5.685006       6           \n",
       "\n",
       "     Score_Uni_Pos  N_Bi_Neg  Score_Bi_Neg  N_Bi_Pos  Score_Bi_Pos  Score_Uni  \\\n",
       "442  4.542664       6        -5.434132      1         0.898627     -1.142342    \n",
       "\n",
       "     Score_Bi  N_verbs  N_adjs  N_nouns  \n",
       "442 -4.535505  3        1       1        "
      ]
     },
     "execution_count": 13,
     "metadata": {},
     "output_type": "execute_result"
    }
   ],
   "source": [
    "x_train.head(1)"
   ]
  },
  {
   "cell_type": "code",
   "execution_count": 14,
   "metadata": {},
   "outputs": [
    {
     "data": {
      "text/html": [
       "<div>\n",
       "<style scoped>\n",
       "    .dataframe tbody tr th:only-of-type {\n",
       "        vertical-align: middle;\n",
       "    }\n",
       "\n",
       "    .dataframe tbody tr th {\n",
       "        vertical-align: top;\n",
       "    }\n",
       "\n",
       "    .dataframe thead th {\n",
       "        text-align: right;\n",
       "    }\n",
       "</style>\n",
       "<table border=\"1\" class=\"dataframe\">\n",
       "  <thead>\n",
       "    <tr style=\"text-align: right;\">\n",
       "      <th></th>\n",
       "      <th>N_exclam</th>\n",
       "      <th>has_url</th>\n",
       "      <th>N_hash</th>\n",
       "      <th>N_mentions</th>\n",
       "      <th>N_uppers</th>\n",
       "      <th>N_words</th>\n",
       "      <th>Sum_subj</th>\n",
       "      <th>Sum_positive</th>\n",
       "      <th>Sum_negative</th>\n",
       "      <th>Sum_anger</th>\n",
       "      <th>Sum_disgust</th>\n",
       "      <th>Sum_fear</th>\n",
       "      <th>Sum_happy</th>\n",
       "      <th>Sum_sad</th>\n",
       "      <th>Sum_surprise</th>\n",
       "      <th>N_Uni_Neg</th>\n",
       "      <th>Score_Uni_Neg</th>\n",
       "      <th>N_Uni_Pos</th>\n",
       "      <th>Score_Uni_Pos</th>\n",
       "      <th>N_Bi_Neg</th>\n",
       "      <th>Score_Bi_Neg</th>\n",
       "      <th>N_Bi_Pos</th>\n",
       "      <th>Score_Bi_Pos</th>\n",
       "      <th>Score_Uni</th>\n",
       "      <th>Score_Bi</th>\n",
       "      <th>N_verbs</th>\n",
       "      <th>N_adjs</th>\n",
       "      <th>N_nouns</th>\n",
       "    </tr>\n",
       "  </thead>\n",
       "  <tbody>\n",
       "    <tr>\n",
       "      <td>1570</td>\n",
       "      <td>0</td>\n",
       "      <td>1</td>\n",
       "      <td>0</td>\n",
       "      <td>0</td>\n",
       "      <td>0</td>\n",
       "      <td>7</td>\n",
       "      <td>0.125</td>\n",
       "      <td>0.0</td>\n",
       "      <td>0.25</td>\n",
       "      <td>0.0</td>\n",
       "      <td>0.0</td>\n",
       "      <td>0.0</td>\n",
       "      <td>0.0</td>\n",
       "      <td>0.0</td>\n",
       "      <td>0.0</td>\n",
       "      <td>6</td>\n",
       "      <td>-3.946406</td>\n",
       "      <td>1</td>\n",
       "      <td>0.04348</td>\n",
       "      <td>2</td>\n",
       "      <td>-1.413642</td>\n",
       "      <td>0</td>\n",
       "      <td>0.0</td>\n",
       "      <td>-3.902926</td>\n",
       "      <td>-1.413642</td>\n",
       "      <td>1</td>\n",
       "      <td>1</td>\n",
       "      <td>2</td>\n",
       "    </tr>\n",
       "  </tbody>\n",
       "</table>\n",
       "</div>"
      ],
      "text/plain": [
       "      N_exclam  has_url  N_hash  N_mentions  N_uppers  N_words  Sum_subj  \\\n",
       "1570  0         1        0       0           0         7        0.125      \n",
       "\n",
       "      Sum_positive  Sum_negative  Sum_anger  Sum_disgust  Sum_fear  Sum_happy  \\\n",
       "1570  0.0           0.25          0.0        0.0          0.0       0.0         \n",
       "\n",
       "      Sum_sad  Sum_surprise  N_Uni_Neg  Score_Uni_Neg  N_Uni_Pos  \\\n",
       "1570  0.0      0.0           6         -3.946406       1           \n",
       "\n",
       "      Score_Uni_Pos  N_Bi_Neg  Score_Bi_Neg  N_Bi_Pos  Score_Bi_Pos  \\\n",
       "1570  0.04348        2        -1.413642      0         0.0            \n",
       "\n",
       "      Score_Uni  Score_Bi  N_verbs  N_adjs  N_nouns  \n",
       "1570 -3.902926  -1.413642  1        1       2        "
      ]
     },
     "execution_count": 14,
     "metadata": {},
     "output_type": "execute_result"
    }
   ],
   "source": [
    "x_test.head(1)"
   ]
  },
  {
   "cell_type": "code",
   "execution_count": 15,
   "metadata": {},
   "outputs": [
    {
     "name": "stdout",
     "output_type": "stream",
     "text": [
      "- Train sample size (1312, 28) <class 'pandas.core.frame.DataFrame'>\n",
      "- Test sample size (328, 28) <class 'pandas.core.frame.DataFrame'>\n"
     ]
    }
   ],
   "source": [
    "print(\"- Train sample size\",x_train.shape,type(x_train))\n",
    "print(\"- Test sample size\",x_test.shape,type(x_test))"
   ]
  },
  {
   "cell_type": "markdown",
   "metadata": {},
   "source": [
    "### -- Hyperparameter tuning with GridSearchCV"
   ]
  },
  {
   "cell_type": "code",
   "execution_count": 16,
   "metadata": {
    "run_control": {
     "marked": true
    }
   },
   "outputs": [
    {
     "name": "stdout",
     "output_type": "stream",
     "text": [
      "{'criterion': 'entropy', 'max_depth': 9, 'max_features': 'sqrt', 'n_estimators': 200}\n"
     ]
    }
   ],
   "source": [
    "rfc=RandomForestClassifier(random_state=42)\n",
    "\n",
    "param_grid = { \n",
    "    'n_estimators': [200, 220],\n",
    "    'max_features': ['sqrt'],\n",
    "    'max_depth' : [7,8,9],\n",
    "    'criterion' :['entropy']\n",
    "}\n",
    "\n",
    "CV_rfc = GridSearchCV(estimator=rfc, param_grid=param_grid, cv= 5)\n",
    "CV_rfc.fit(x_train, y_train)\n",
    "print(CV_rfc.best_params_)"
   ]
  },
  {
   "cell_type": "code",
   "execution_count": 17,
   "metadata": {},
   "outputs": [
    {
     "data": {
      "text/plain": [
       "RandomForestClassifier(bootstrap=True, class_weight=None, criterion='entropy',\n",
       "            max_depth=9, max_features='sqrt', max_leaf_nodes=None,\n",
       "            min_impurity_decrease=0.0, min_impurity_split=None,\n",
       "            min_samples_leaf=1, min_samples_split=2,\n",
       "            min_weight_fraction_leaf=0.0, n_estimators=200, n_jobs=None,\n",
       "            oob_score=False, random_state=42, verbose=0, warm_start=False)"
      ]
     },
     "execution_count": 17,
     "metadata": {},
     "output_type": "execute_result"
    }
   ],
   "source": [
    "model_RF = CV_rfc.best_estimator_\n",
    "model_RF"
   ]
  },
  {
   "cell_type": "code",
   "execution_count": 18,
   "metadata": {},
   "outputs": [],
   "source": [
    "clf = RandomForestClassifier(max_features='sqrt',\n",
    "                             criterion='entropy',\n",
    "                             n_estimators= 500,\n",
    "                             max_depth=20).fit(x_train,y_train)"
   ]
  },
  {
   "cell_type": "markdown",
   "metadata": {},
   "source": [
    "### -- Train the model"
   ]
  },
  {
   "cell_type": "code",
   "execution_count": 19,
   "metadata": {},
   "outputs": [
    {
     "data": {
      "image/png": "[encoded data removed]",
      "text/plain": [
       "<matplotlib.figure.Figure at 0x1c7fad46eb8>"
      ]
     },
     "metadata": {},
     "output_type": "display_data"
    }
   ],
   "source": [
    "y_pred = clf.predict(x_test)\n",
    "\n",
    "# Creates a confusion matrix\n",
    "cm = confusion_matrix(y_test, y_pred)\n",
    "# Transform to df for easier plotting\n",
    "cm_df = pd.DataFrame(cm,\n",
    "                     index = ['Negative','Neutral', 'Positive'], \n",
    "                     columns = ['Negative','Neutral', 'Positive'])\n",
    "\n",
    "plt.figure(figsize=(5.5,4))\n",
    "sns.heatmap(cm_df, annot=True)\n",
    "plt.title('RandomForest \\nAccuracy:{0:.3f}'.format(accuracy_score(y_test, y_pred)))\n",
    "plt.ylabel('True label')\n",
    "plt.xlabel('Predicted label')\n",
    "plt.show()"
   ]
  },
  {
   "cell_type": "code",
   "execution_count": 24,
   "metadata": {},
   "outputs": [
    {
     "name": "stdout",
     "output_type": "stream",
     "text": [
      "accuracy =  0.8048780487804879\n",
      " ------ \n",
      "precision_Neg =  0.75\n",
      "precision_Neut =  0.8302752293577982\n",
      "precision_Pos =  1.0\n",
      " ------ \n",
      "recall_Neg =  0.75\n",
      "recall_Neut =  0.8302752293577982\n",
      "recall_Pos =  1.0\n",
      " ------ \n",
      "f1_Neg =  0.7330316742081447\n",
      "f1_Neut =  0.8557919621749409\n",
      "f1_Pos =  0.33333333333333337\n"
     ]
    }
   ],
   "source": [
    "metrics = precision_recall_fscore_support(y_test, y_pred)\n",
    "\n",
    "precision = metrics[0]\n",
    "recall = metrics[1]\n",
    "f1 = metrics[2]\n",
    "accuracy = metrics[3]\n",
    "\n",
    "print('accuracy = ', accuracy_score(y_test, y_pred))\n",
    "print(' ------ ')\n",
    "print('precision_Neg = ', precision[0])\n",
    "print('precision_Neut = ', precision[1])\n",
    "print('precision_Pos = ', precision[2])\n",
    "print(' ------ ')\n",
    "print('recall_Neg = ', precision[0])\n",
    "print('recall_Neut = ', precision[1])\n",
    "print('recall_Pos = ', precision[2])\n",
    "print(' ------ ')\n",
    "print('f1_Neg = ', f1[0])\n",
    "print('f1_Neut = ', f1[1])\n",
    "print('f1_Pos = ', f1[2])"
   ]
  },
  {
   "cell_type": "code",
   "execution_count": 25,
   "metadata": {},
   "outputs": [
    {
     "name": "stderr",
     "output_type": "stream",
     "text": [
      "C:\\Users\\Dimos\\Anaconda3\\lib\\site-packages\\sklearn\\base.py:251: UserWarning: Trying to unpickle estimator DecisionTreeClassifier from version 0.19.1 when using version 0.20.2. This might lead to breaking code or invalid results. Use at your own risk.\n",
      "  UserWarning)\n",
      "C:\\Users\\Dimos\\Anaconda3\\lib\\site-packages\\sklearn\\base.py:251: UserWarning: Trying to unpickle estimator RandomForestClassifier from version 0.19.1 when using version 0.20.2. This might lead to breaking code or invalid results. Use at your own risk.\n",
      "  UserWarning)\n"
     ]
    }
   ],
   "source": [
    "import pickle\n",
    "\n",
    "# save the model to disk\n",
    "filename = 'model/clf.sav'\n",
    "pickle.dump(clf, open(filename, 'wb'))\n",
    "\n",
    "# load the saved the model\n",
    "filename = 'model/clf.sav'\n",
    "loaded_model = pickle.load(open(filename, 'rb'))"
   ]
  },
  {
   "cell_type": "markdown",
   "metadata": {},
   "source": [
    "### - Propabilities"
   ]
  },
  {
   "cell_type": "code",
   "execution_count": 26,
   "metadata": {},
   "outputs": [],
   "source": [
    "# predict the propability for each class\n",
    "predictions = clf.predict_proba(x_test)"
   ]
  },
  {
   "cell_type": "code",
   "execution_count": 27,
   "metadata": {
    "scrolled": true
   },
   "outputs": [],
   "source": [
    "# merge the y values of the testset with their tweet texts\n",
    "df_texts = pd.DataFrame({'ID':Z.index, 'Text':Z.values})\n",
    "df_actuals = pd.DataFrame({'ID':y_test.index, 'Actual':y_test.values})\n",
    "df_ytest = df_actuals.merge(df_texts, left_on='ID', right_on='ID', how='left')\n",
    "del df_ytest['ID']"
   ]
  },
  {
   "cell_type": "code",
   "execution_count": 28,
   "metadata": {},
   "outputs": [],
   "source": [
    "# create a dataframe with the tweets of the testset and the probabilities + predictions + actuals\n",
    "headers = ['Neg', 'Neut', 'Pos']\n",
    "df = pd.DataFrame(predictions, columns=headers)\n",
    "\n",
    "df['Prediction'] = y_pred\n",
    "df['Actual_Text'] = df_ytest.values.tolist()\n",
    "df['Actual'] = df['Actual_Text'].apply(lambda x: x[0])\n",
    "df['Text'] = df['Actual_Text'].apply(lambda x: x[1])\n",
    "df['True'] = df.apply(lambda x: 1 if x['Prediction']==x['Actual']\n",
    "                                   else 0, axis=1)\n",
    "del df['Actual_Text']\n",
    "df = df[['Text', 'Neg', 'Neut', 'Pos', 'Prediction', 'Actual', 'True']]"
   ]
  },
  {
   "cell_type": "code",
   "execution_count": 29,
   "metadata": {},
   "outputs": [
    {
     "data": {
      "text/html": [
       "<div>\n",
       "<style scoped>\n",
       "    .dataframe tbody tr th:only-of-type {\n",
       "        vertical-align: middle;\n",
       "    }\n",
       "\n",
       "    .dataframe tbody tr th {\n",
       "        vertical-align: top;\n",
       "    }\n",
       "\n",
       "    .dataframe thead th {\n",
       "        text-align: right;\n",
       "    }\n",
       "</style>\n",
       "<table border=\"1\" class=\"dataframe\">\n",
       "  <thead>\n",
       "    <tr style=\"text-align: right;\">\n",
       "      <th></th>\n",
       "      <th>Text</th>\n",
       "      <th>Neg</th>\n",
       "      <th>Neut</th>\n",
       "      <th>Pos</th>\n",
       "      <th>Prediction</th>\n",
       "      <th>Actual</th>\n",
       "      <th>True</th>\n",
       "    </tr>\n",
       "  </thead>\n",
       "  <tbody>\n",
       "    <tr>\n",
       "      <td>0</td>\n",
       "      <td>Στόχο τον Λαζόπουλο έβαλε η Νέα Δημοκρατία http://t.co/g648fGioQn</td>\n",
       "      <td>0.158</td>\n",
       "      <td>0.8067</td>\n",
       "      <td>0.0353</td>\n",
       "      <td>0</td>\n",
       "      <td>0</td>\n",
       "      <td>1</td>\n",
       "    </tr>\n",
       "    <tr>\n",
       "      <td>1</td>\n",
       "      <td>Σαμαράς: Ο ΣΥΡΙΖΑ θα οδηγήσει την χώρα στην χρεοκοπία http://t.co/1TPh8OHIlp #Πολιτική @madata</td>\n",
       "      <td>0.156</td>\n",
       "      <td>0.8100</td>\n",
       "      <td>0.0340</td>\n",
       "      <td>0</td>\n",
       "      <td>-1</td>\n",
       "      <td>0</td>\n",
       "    </tr>\n",
       "  </tbody>\n",
       "</table>\n",
       "</div>"
      ],
      "text/plain": [
       "                                                                                             Text  \\\n",
       "0  Στόχο τον Λαζόπουλο έβαλε η Νέα Δημοκρατία http://t.co/g648fGioQn                                \n",
       "1  Σαμαράς: Ο ΣΥΡΙΖΑ θα οδηγήσει την χώρα στην χρεοκοπία http://t.co/1TPh8OHIlp #Πολιτική @madata   \n",
       "\n",
       "     Neg    Neut     Pos  Prediction  Actual  True  \n",
       "0  0.158  0.8067  0.0353  0           0       1     \n",
       "1  0.156  0.8100  0.0340  0          -1       0     "
      ]
     },
     "execution_count": 29,
     "metadata": {},
     "output_type": "execute_result"
    }
   ],
   "source": [
    "df.head(2)"
   ]
  },
  {
   "cell_type": "code",
   "execution_count": 30,
   "metadata": {},
   "outputs": [],
   "source": [
    "#class_names = ['-1', '0', '1']\n",
    "#explainer = LimeTextExplainer(class_names=class_names)"
   ]
  },
  {
   "cell_type": "code",
   "execution_count": 31,
   "metadata": {},
   "outputs": [],
   "source": [
    "# idx = 1\n",
    "# exp = explainer.explain_instance(x_test[idx], clf.predict_proba, num_features=6, labels=[0, 3])\n",
    "# print('Document id: %d' % idx)\n",
    "# print('Predicted class =', class_names[clf.predict(x_test[idx]).reshape(1,-1)[0,0]])\n",
    "# print('True class: %s' % class_names[y_test[idx]])"
   ]
  },
  {
   "cell_type": "code",
   "execution_count": null,
   "metadata": {},
   "outputs": [],
   "source": []
  },
  {
   "cell_type": "code",
   "execution_count": null,
   "metadata": {},
   "outputs": [],
   "source": []
  },
  {
   "cell_type": "code",
   "execution_count": null,
   "metadata": {},
   "outputs": [],
   "source": []
  }
 ],
 "metadata": {
  "hide_input": false,
  "kernelspec": {
   "display_name": "Python 3",
   "language": "python",
   "name": "python3"
  },
  "language_info": {
   "codemirror_mode": {
    "name": "ipython",
    "version": 3
   },
   "file_extension": ".py",
   "mimetype": "text/x-python",
   "name": "python",
   "nbconvert_exporter": "python",
   "pygments_lexer": "ipython3",
   "version": "3.6.3"
  }
 },
 "nbformat": 4,
 "nbformat_minor": 2
}
